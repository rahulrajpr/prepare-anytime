{
  "nbformat": 4,
  "nbformat_minor": 0,
  "metadata": {
    "colab": {
      "provenance": [],
      "authorship_tag": "ABX9TyPb5TD6NrpMgxLo+kEzATBK",
      "include_colab_link": true
    },
    "kernelspec": {
      "name": "python3",
      "display_name": "Python 3"
    },
    "language_info": {
      "name": "python"
    }
  },
  "cells": [
    {
      "cell_type": "markdown",
      "metadata": {
        "id": "view-in-github",
        "colab_type": "text"
      },
      "source": [
        "<a href=\"https://colab.research.google.com/github/rahulrajpr/prepare-anytime/blob/main/spark/functions/2_spark_sql_mathematical_functions.ipynb\" target=\"_parent\"><img src=\"https://colab.research.google.com/assets/colab-badge.svg\" alt=\"Open In Colab\"/></a>"
      ]
    },
    {
      "cell_type": "markdown",
      "source": [
        "# Spark Mathematical Functions\n",
        "https://spark.apache.org/docs/latest/sql-ref-functions-builtin.html#mathematical-functions\n"
      ],
      "metadata": {
        "id": "oj8ZK2QqmCL4"
      }
    },
    {
      "cell_type": "code",
      "source": [
        "from pyspark.sql import SparkSession\n",
        "spark = SparkSession.builder.appName('spark-functions').getOrCreate()"
      ],
      "metadata": {
        "id": "JewDKa7hmgE_"
      },
      "execution_count": null,
      "outputs": []
    },
    {
      "cell_type": "code",
      "source": [
        "# + : addition\n",
        "\n",
        "sql = '''select 6 + 10 as additionOut'''\n",
        "spark.sql(sql).show(truncate = False)"
      ],
      "metadata": {
        "colab": {
          "base_uri": "https://localhost:8080/"
        },
        "id": "pQMoyOaongMD",
        "outputId": "7d1c0343-bd81-4af4-9c70-ae0df45da068"
      },
      "execution_count": null,
      "outputs": [
        {
          "output_type": "stream",
          "name": "stdout",
          "text": [
            "+-----------+\n",
            "|additionOut|\n",
            "+-----------+\n",
            "|16         |\n",
            "+-----------+\n",
            "\n"
          ]
        }
      ]
    },
    {
      "cell_type": "code",
      "source": [
        "# try_add\n",
        "\n",
        "sql = '''select try_add(6,10) as try_addOut'''\n",
        "spark.sql(sql).show(truncate = False)\n",
        "\n",
        "sql = '''select try_add(6,'10') as try_addOut'''\n",
        "spark.sql(sql).show(truncate = False)\n",
        "\n",
        "sql = '''select try_add(6,null) as try_addOut'''\n",
        "spark.sql(sql).show(truncate = False)\n",
        "\n",
        "sql = '''select try_add(6,'ten') as try_addOut'''\n",
        "spark.sql(sql).show(truncate = False)"
      ],
      "metadata": {
        "colab": {
          "base_uri": "https://localhost:8080/"
        },
        "id": "uktaeF4h2YNZ",
        "outputId": "d8fec706-398e-4818-8628-41168f566e00"
      },
      "execution_count": null,
      "outputs": [
        {
          "output_type": "stream",
          "name": "stdout",
          "text": [
            "+----------+\n",
            "|try_addOut|\n",
            "+----------+\n",
            "|16        |\n",
            "+----------+\n",
            "\n",
            "+----------+\n",
            "|try_addOut|\n",
            "+----------+\n",
            "|16.0      |\n",
            "+----------+\n",
            "\n",
            "+----------+\n",
            "|try_addOut|\n",
            "+----------+\n",
            "|NULL      |\n",
            "+----------+\n",
            "\n",
            "+----------+\n",
            "|try_addOut|\n",
            "+----------+\n",
            "|NULL      |\n",
            "+----------+\n",
            "\n"
          ]
        }
      ]
    },
    {
      "cell_type": "code",
      "source": [
        "# - : substraction\n",
        "\n",
        "sql = '''select 10 - 6 as substractionOut'''\n",
        "spark.sql(sql).show(truncate = False)"
      ],
      "metadata": {
        "colab": {
          "base_uri": "https://localhost:8080/"
        },
        "id": "kYwex1nenn7_",
        "outputId": "3e3c5415-887e-43aa-f8c7-4cc811e94586"
      },
      "execution_count": null,
      "outputs": [
        {
          "output_type": "stream",
          "name": "stdout",
          "text": [
            "+---------------+\n",
            "|substractionOut|\n",
            "+---------------+\n",
            "|4              |\n",
            "+---------------+\n",
            "\n"
          ]
        }
      ]
    },
    {
      "cell_type": "code",
      "source": [
        "# try_substract\n",
        "\n",
        "sql = '''select try_subtract(10,6) as try_substractionOut'''\n",
        "spark.sql(sql).show(truncate = False)\n",
        "\n",
        "sql = '''select try_subtract(10,'six') as try_substractionOut'''\n",
        "spark.sql(sql).show(truncate = False)\n",
        "\n",
        "sql = '''select try_subtract(10,null) as try_substractionOut'''\n",
        "spark.sql(sql).show(truncate = False)"
      ],
      "metadata": {
        "colab": {
          "base_uri": "https://localhost:8080/"
        },
        "id": "WRslsgLo3u_G",
        "outputId": "de11852b-5db6-49c1-e9dc-06036211df04"
      },
      "execution_count": null,
      "outputs": [
        {
          "output_type": "stream",
          "name": "stdout",
          "text": [
            "+-------------------+\n",
            "|try_substractionOut|\n",
            "+-------------------+\n",
            "|4                  |\n",
            "+-------------------+\n",
            "\n",
            "+-------------------+\n",
            "|try_substractionOut|\n",
            "+-------------------+\n",
            "|NULL               |\n",
            "+-------------------+\n",
            "\n",
            "+-------------------+\n",
            "|try_substractionOut|\n",
            "+-------------------+\n",
            "|NULL               |\n",
            "+-------------------+\n",
            "\n"
          ]
        }
      ]
    },
    {
      "cell_type": "code",
      "execution_count": null,
      "metadata": {
        "colab": {
          "base_uri": "https://localhost:8080/"
        },
        "id": "2s9yb74Gl7gu",
        "outputId": "f19cdd60-26d8-4bda-b8df-e85ebc8962d6"
      },
      "outputs": [
        {
          "output_type": "stream",
          "name": "stdout",
          "text": [
            "+----------------+\n",
            "|multipliedResult|\n",
            "+----------------+\n",
            "|60              |\n",
            "+----------------+\n",
            "\n"
          ]
        }
      ],
      "source": [
        "# * : multiply two columns\n",
        "\n",
        "sql = '''select 6 * 10 as multipliedResult'''\n",
        "spark.sql(sql).show(truncate = False)"
      ]
    },
    {
      "cell_type": "code",
      "source": [
        "# / : division\n",
        "\n",
        "sql = '''select 10/6 as divisonOut'''\n",
        "spark.sql(sql).show(truncate = False)\n",
        "\n",
        "sql = '''\n",
        "with cte as\n",
        "(select 10/6 as divisonOut\n",
        ")\n",
        "select typeof(divisonOut)\n",
        "from cte\n",
        "'''\n",
        "spark.sql(sql).show(truncate = False)"
      ],
      "metadata": {
        "colab": {
          "base_uri": "https://localhost:8080/"
        },
        "id": "XqjF7RjtnxKz",
        "outputId": "c5fd15f1-7ee6-4090-d331-70da504c1a8f"
      },
      "execution_count": null,
      "outputs": [
        {
          "output_type": "stream",
          "name": "stdout",
          "text": [
            "+------------------+\n",
            "|divisonOut        |\n",
            "+------------------+\n",
            "|1.6666666666666667|\n",
            "+------------------+\n",
            "\n",
            "+------------------+\n",
            "|typeof(divisonOut)|\n",
            "+------------------+\n",
            "|double            |\n",
            "+------------------+\n",
            "\n"
          ]
        }
      ]
    },
    {
      "cell_type": "code",
      "source": [
        "# try_divide\n",
        "\n",
        "sql = '''select try_divide(10,6) as try_divideOut'''\n",
        "spark.sql(sql).show(truncate = False)\n",
        "\n",
        "sql = '''select try_divide('10',6) as try_divideOut'''\n",
        "spark.sql(sql).show(truncate = False)\n",
        "\n",
        "sql = '''select try_divide(6,null) as try_divideOut'''\n",
        "spark.sql(sql).show(truncate = False)\n",
        "\n",
        "sql = '''select try_divide('ten',2) as try_divideOut'''\n",
        "spark.sql(sql).show(truncate = False)\n",
        "\n",
        "sql = '''select try_divide(2,0) as try_divideOut'''\n",
        "spark.sql(sql).show(truncate = False)"
      ],
      "metadata": {
        "colab": {
          "base_uri": "https://localhost:8080/"
        },
        "id": "ca2krzRy3GUd",
        "outputId": "36df7fe7-4852-487e-a8f5-1b1782b1b6be"
      },
      "execution_count": null,
      "outputs": [
        {
          "output_type": "stream",
          "name": "stdout",
          "text": [
            "+------------------+\n",
            "|try_divideOut     |\n",
            "+------------------+\n",
            "|1.6666666666666667|\n",
            "+------------------+\n",
            "\n",
            "+------------------+\n",
            "|try_divideOut     |\n",
            "+------------------+\n",
            "|1.6666666666666667|\n",
            "+------------------+\n",
            "\n",
            "+-------------+\n",
            "|try_divideOut|\n",
            "+-------------+\n",
            "|NULL         |\n",
            "+-------------+\n",
            "\n",
            "+-------------+\n",
            "|try_divideOut|\n",
            "+-------------+\n",
            "|NULL         |\n",
            "+-------------+\n",
            "\n",
            "+-------------+\n",
            "|try_divideOut|\n",
            "+-------------+\n",
            "|NULL         |\n",
            "+-------------+\n",
            "\n"
          ]
        }
      ]
    },
    {
      "cell_type": "code",
      "source": [
        "|# DIV : Integer division\n",
        "\n",
        "sql = '''select 10 DIV 6 as divisonOut'''\n",
        "spark.sql(sql).show(truncate = False)"
      ],
      "metadata": {
        "colab": {
          "base_uri": "https://localhost:8080/"
        },
        "id": "9QPorOw1pMeG",
        "outputId": "21e5913d-1275-4d47-9869-d317d7fc3cd6"
      },
      "execution_count": null,
      "outputs": [
        {
          "output_type": "stream",
          "name": "stdout",
          "text": [
            "+----------+\n",
            "|divisonOut|\n",
            "+----------+\n",
            "|1         |\n",
            "+----------+\n",
            "\n"
          ]
        }
      ]
    },
    {
      "cell_type": "code",
      "source": [
        "# % : modulo-division or reminder\n",
        "\n",
        "sql = '''select 10%6 as divisonOut'''\n",
        "spark.sql(sql).show(truncate = False)"
      ],
      "metadata": {
        "colab": {
          "base_uri": "https://localhost:8080/"
        },
        "id": "pcaImq8KnV2n",
        "outputId": "b263adb1-9a0f-46e1-f650-3033e13530d6"
      },
      "execution_count": null,
      "outputs": [
        {
          "output_type": "stream",
          "name": "stdout",
          "text": [
            "+----------+\n",
            "|divisonOut|\n",
            "+----------+\n",
            "|4         |\n",
            "+----------+\n",
            "\n"
          ]
        }
      ]
    },
    {
      "cell_type": "code",
      "source": [
        "# abs : absolute value\n",
        "\n",
        "\n",
        "sql = '''select abs(-1.3) as absOut'''\n",
        "spark.sql(sql).show(truncate = False)"
      ],
      "metadata": {
        "colab": {
          "base_uri": "https://localhost:8080/"
        },
        "id": "BsyBNOOZpFeg",
        "outputId": "29701931-8bdc-40c0-e157-7f03fd54dc93"
      },
      "execution_count": null,
      "outputs": [
        {
          "output_type": "stream",
          "name": "stdout",
          "text": [
            "+------+\n",
            "|absOut|\n",
            "+------+\n",
            "|1.3   |\n",
            "+------+\n",
            "\n"
          ]
        }
      ]
    },
    {
      "cell_type": "code",
      "source": [
        "# negative : negated value of an expression\n",
        "\n",
        "\n",
        "sql = '''select negative(-1.3) as negativeOut'''\n",
        "spark.sql(sql).show(truncate = False)\n",
        "\n",
        "sql = '''select negative(1.3) as negativeOut'''\n",
        "spark.sql(sql).show(truncate = False)"
      ],
      "metadata": {
        "colab": {
          "base_uri": "https://localhost:8080/"
        },
        "id": "Yh6itFRw0rUy",
        "outputId": "3518086b-0b14-4352-d7e3-25211f5a1c5a"
      },
      "execution_count": null,
      "outputs": [
        {
          "output_type": "stream",
          "name": "stdout",
          "text": [
            "+-----------+\n",
            "|negativeOut|\n",
            "+-----------+\n",
            "|1.3        |\n",
            "+-----------+\n",
            "\n",
            "+-----------+\n",
            "|negativeOut|\n",
            "+-----------+\n",
            "|-1.3       |\n",
            "+-----------+\n",
            "\n"
          ]
        }
      ]
    },
    {
      "cell_type": "code",
      "source": [
        "# round: Traditional rounding (HALF_UP)- 0.5 always rounds up\n",
        "\n",
        "sql = '''select round(1.345,0) as boundOut'''\n",
        "spark.sql(sql).show(truncate = False)\n",
        "\n",
        "sql = '''select round(1.345,1) as boundOut'''\n",
        "spark.sql(sql).show(truncate = False)\n",
        "\n",
        "sql = '''select round(1.345,2) as boundOut'''\n",
        "spark.sql(sql).show(truncate = False)\n",
        "\n",
        "sql = '''select round(1.356,2) as boundOut'''\n",
        "spark.sql(sql).show(truncate = False)"
      ],
      "metadata": {
        "colab": {
          "base_uri": "https://localhost:8080/"
        },
        "id": "sXffr_SxpXWT",
        "outputId": "101538b5-3c9e-44ee-a834-1fbf39c86086"
      },
      "execution_count": null,
      "outputs": [
        {
          "output_type": "stream",
          "name": "stdout",
          "text": [
            "+--------+\n",
            "|boundOut|\n",
            "+--------+\n",
            "|1       |\n",
            "+--------+\n",
            "\n",
            "+--------+\n",
            "|boundOut|\n",
            "+--------+\n",
            "|1.3     |\n",
            "+--------+\n",
            "\n",
            "+--------+\n",
            "|boundOut|\n",
            "+--------+\n",
            "|1.35    |\n",
            "+--------+\n",
            "\n",
            "+--------+\n",
            "|boundOut|\n",
            "+--------+\n",
            "|1.36    |\n",
            "+--------+\n",
            "\n"
          ]
        }
      ]
    },
    {
      "cell_type": "code",
      "source": [
        "# bround: stands for bankers rounding, 0.5 rounds to the nearest even number\n",
        "\n",
        "sql = '''select bround(1.345,0) as boundOut'''\n",
        "spark.sql(sql).show(truncate = False)\n",
        "\n",
        "sql = '''select bround(1.345,1) as boundOut'''\n",
        "spark.sql(sql).show(truncate = False)\n",
        "\n",
        "sql = '''select bround(1.345,2) as boundOut'''\n",
        "spark.sql(sql).show(truncate = False)\n",
        "\n",
        "sql = '''select bround(1.356,2) as boundOut'''\n",
        "spark.sql(sql).show(truncate = False)"
      ],
      "metadata": {
        "colab": {
          "base_uri": "https://localhost:8080/"
        },
        "id": "oaq7agVjq1sC",
        "outputId": "35f38bee-6e07-4d54-beda-5208e8449fcf"
      },
      "execution_count": null,
      "outputs": [
        {
          "output_type": "stream",
          "name": "stdout",
          "text": [
            "+--------+\n",
            "|boundOut|\n",
            "+--------+\n",
            "|1       |\n",
            "+--------+\n",
            "\n",
            "+--------+\n",
            "|boundOut|\n",
            "+--------+\n",
            "|1.3     |\n",
            "+--------+\n",
            "\n",
            "+--------+\n",
            "|boundOut|\n",
            "+--------+\n",
            "|1.34    |\n",
            "+--------+\n",
            "\n",
            "+--------+\n",
            "|boundOut|\n",
            "+--------+\n",
            "|1.36    |\n",
            "+--------+\n",
            "\n"
          ]
        }
      ]
    },
    {
      "cell_type": "code",
      "source": [
        "# power : find the power of a number of number with a given power value\n",
        "# synonym : pow\n",
        "\n",
        "sql = '''select power(4,1) as powerOut'''\n",
        "spark.sql(sql).show(truncate = False)\n",
        "\n",
        "sql = '''select power(4,2) as powerOut'''\n",
        "spark.sql(sql).show(truncate = False)\n",
        "\n",
        "sql = '''select power(4,3) as powerOut'''\n",
        "spark.sql(sql).show(truncate = False)\n",
        "\n",
        "sql = '''select pow(4,1) as powerOut'''\n",
        "spark.sql(sql).show(truncate = False)\n",
        "\n",
        "sql = '''select pow(4,2) as powerOut'''\n",
        "spark.sql(sql).show(truncate = False)\n",
        "\n",
        "sql = '''select pow(4,3) as powerOut'''\n",
        "spark.sql(sql).show(truncate = False)"
      ],
      "metadata": {
        "colab": {
          "base_uri": "https://localhost:8080/"
        },
        "id": "7-yQIsFkteER",
        "outputId": "53705f04-c59c-48a5-f79c-f9ebcc92471d"
      },
      "execution_count": null,
      "outputs": [
        {
          "output_type": "stream",
          "name": "stdout",
          "text": [
            "+--------+\n",
            "|powerOut|\n",
            "+--------+\n",
            "|4.0     |\n",
            "+--------+\n",
            "\n",
            "+--------+\n",
            "|powerOut|\n",
            "+--------+\n",
            "|16.0    |\n",
            "+--------+\n",
            "\n",
            "+--------+\n",
            "|powerOut|\n",
            "+--------+\n",
            "|64.0    |\n",
            "+--------+\n",
            "\n",
            "+--------+\n",
            "|powerOut|\n",
            "+--------+\n",
            "|4.0     |\n",
            "+--------+\n",
            "\n",
            "+--------+\n",
            "|powerOut|\n",
            "+--------+\n",
            "|16.0    |\n",
            "+--------+\n",
            "\n",
            "+--------+\n",
            "|powerOut|\n",
            "+--------+\n",
            "|64.0    |\n",
            "+--------+\n",
            "\n"
          ]
        }
      ]
    },
    {
      "cell_type": "code",
      "source": [
        "# sqrt : square root of a number\n",
        "\n",
        "sql = '''select sqrt(16) as sqrtOut'''\n",
        "spark.sql(sql).show(truncate = False)"
      ],
      "metadata": {
        "colab": {
          "base_uri": "https://localhost:8080/"
        },
        "id": "Lj6UlOi7tBM4",
        "outputId": "d94e25da-4840-4912-f1f8-bb74d677bf55"
      },
      "execution_count": null,
      "outputs": [
        {
          "output_type": "stream",
          "name": "stdout",
          "text": [
            "+-------+\n",
            "|sqrtOut|\n",
            "+-------+\n",
            "|4.0    |\n",
            "+-------+\n",
            "\n"
          ]
        }
      ]
    },
    {
      "cell_type": "code",
      "source": [
        "# cbrt : cube root of a number\n",
        "\n",
        "sql = '''select cbrt(8) as cbrtOut'''\n",
        "spark.sql(sql).show(truncate = False)"
      ],
      "metadata": {
        "colab": {
          "base_uri": "https://localhost:8080/"
        },
        "id": "ucgezefVuowN",
        "outputId": "46241b15-4535-406f-c70e-4879ad0c3be6"
      },
      "execution_count": null,
      "outputs": [
        {
          "output_type": "stream",
          "name": "stdout",
          "text": [
            "+-------+\n",
            "|cbrtOut|\n",
            "+-------+\n",
            "|2.0    |\n",
            "+-------+\n",
            "\n"
          ]
        }
      ]
    },
    {
      "cell_type": "code",
      "source": [
        "# floor : round rown to lower integer\n",
        "\n",
        "sql = '''select floor(10.7) as floorOut'''\n",
        "spark.sql(sql).show(truncate = False)"
      ],
      "metadata": {
        "colab": {
          "base_uri": "https://localhost:8080/"
        },
        "id": "G4Y1qIgOuy7k",
        "outputId": "70f5cf32-ee7f-4015-fc7f-64d2b5920bdc"
      },
      "execution_count": null,
      "outputs": [
        {
          "output_type": "stream",
          "name": "stdout",
          "text": [
            "+--------+\n",
            "|floorOut|\n",
            "+--------+\n",
            "|10      |\n",
            "+--------+\n",
            "\n"
          ]
        }
      ]
    },
    {
      "cell_type": "code",
      "source": [
        "# ceil : round up to the next higher integer\n",
        "# synonym : ceiling\n",
        "\n",
        "sql = '''select ceil(10.2) as ceilOut'''\n",
        "spark.sql(sql).show(truncate = False)\n",
        "\n",
        "sql = '''select ceiling(10.2) as ceilOut'''\n",
        "spark.sql(sql).show(truncate = False)"
      ],
      "metadata": {
        "colab": {
          "base_uri": "https://localhost:8080/"
        },
        "id": "zgpd517CvH3g",
        "outputId": "02fe27e5-2b1c-4f42-f422-f26fafc9ca99"
      },
      "execution_count": null,
      "outputs": [
        {
          "output_type": "stream",
          "name": "stdout",
          "text": [
            "+-------+\n",
            "|ceilOut|\n",
            "+-------+\n",
            "|11     |\n",
            "+-------+\n",
            "\n",
            "+-------+\n",
            "|ceilOut|\n",
            "+-------+\n",
            "|11     |\n",
            "+-------+\n",
            "\n"
          ]
        }
      ]
    },
    {
      "cell_type": "code",
      "source": [
        "# conv : converting a number from one base to another base\n",
        "\n",
        "sql = '''select conv(15,10,12) as covOut'''\n",
        "spark.sql(sql).show(truncate = False)"
      ],
      "metadata": {
        "colab": {
          "base_uri": "https://localhost:8080/"
        },
        "id": "ALk7uS8MvT00",
        "outputId": "a9c73da4-e832-426a-8e00-be2e7aa08f84"
      },
      "execution_count": null,
      "outputs": [
        {
          "output_type": "stream",
          "name": "stdout",
          "text": [
            "+------+\n",
            "|covOut|\n",
            "+------+\n",
            "|13    |\n",
            "+------+\n",
            "\n"
          ]
        }
      ]
    },
    {
      "cell_type": "code",
      "source": [
        "# factorial : factorial\n",
        "\n",
        "sql = '''select factorial(5) as factOut'''\n",
        "spark.sql(sql).show(truncate = False)"
      ],
      "metadata": {
        "colab": {
          "base_uri": "https://localhost:8080/"
        },
        "id": "HSbGHXZRv-2Q",
        "outputId": "2c460c55-ff9f-46c8-c0c5-8195ce2e9f1b"
      },
      "execution_count": null,
      "outputs": [
        {
          "output_type": "stream",
          "name": "stdout",
          "text": [
            "+-------+\n",
            "|factOut|\n",
            "+-------+\n",
            "|120    |\n",
            "+-------+\n",
            "\n"
          ]
        }
      ]
    },
    {
      "cell_type": "code",
      "source": [
        "# greatest : find the greatest values amoung the columns specified\n",
        "\n",
        "sql = '''select greatest(5,10,1) as greatestOut'''\n",
        "spark.sql(sql).show(truncate = False)"
      ],
      "metadata": {
        "colab": {
          "base_uri": "https://localhost:8080/"
        },
        "id": "IWJ_bX0XxpKe",
        "outputId": "f930e51b-4d82-4f6b-96fb-ad5d78e52874"
      },
      "execution_count": null,
      "outputs": [
        {
          "output_type": "stream",
          "name": "stdout",
          "text": [
            "+-----------+\n",
            "|greatestOut|\n",
            "+-----------+\n",
            "|10         |\n",
            "+-----------+\n",
            "\n"
          ]
        }
      ]
    },
    {
      "cell_type": "code",
      "source": [
        "# least : find the least of all columns specified in the columns specified\n",
        "\n",
        "sql = '''select least(5,10,1) as leastOut'''\n",
        "spark.sql(sql).show(truncate = False)"
      ],
      "metadata": {
        "colab": {
          "base_uri": "https://localhost:8080/"
        },
        "id": "TKg7qi7KyTOJ",
        "outputId": "a456e744-a427-4c3e-c141-4913df765bbd"
      },
      "execution_count": null,
      "outputs": [
        {
          "output_type": "stream",
          "name": "stdout",
          "text": [
            "+--------+\n",
            "|leastOut|\n",
            "+--------+\n",
            "|1       |\n",
            "+--------+\n",
            "\n"
          ]
        }
      ]
    },
    {
      "cell_type": "code",
      "source": [
        "# ln : natural logariothm of the expression\n",
        "\n",
        "sql = '''select ln(23) as lnOut'''\n",
        "spark.sql(sql).show(truncate = False)\n"
      ],
      "metadata": {
        "colab": {
          "base_uri": "https://localhost:8080/"
        },
        "id": "rdEVVCYBynAy",
        "outputId": "9e5f20ec-a7e2-4a1b-d2c5-2884fda743c7"
      },
      "execution_count": null,
      "outputs": [
        {
          "output_type": "stream",
          "name": "stdout",
          "text": [
            "+------------------+\n",
            "|lnOut             |\n",
            "+------------------+\n",
            "|3.1354942159291497|\n",
            "+------------------+\n",
            "\n"
          ]
        }
      ]
    }
  ]
}