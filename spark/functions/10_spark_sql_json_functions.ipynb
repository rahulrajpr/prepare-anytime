{
  "nbformat": 4,
  "nbformat_minor": 0,
  "metadata": {
    "colab": {
      "provenance": [],
      "authorship_tag": "ABX9TyNI19i9NQhUcKP2sglfZkQ2",
      "include_colab_link": true
    },
    "kernelspec": {
      "name": "python3",
      "display_name": "Python 3"
    },
    "language_info": {
      "name": "python"
    }
  },
  "cells": [
    {
      "cell_type": "markdown",
      "metadata": {
        "id": "view-in-github",
        "colab_type": "text"
      },
      "source": [
        "<a href=\"https://colab.research.google.com/github/rahulrajpr/prepare-anytime/blob/main/spark/functions/10_spark_sql_json_functions.ipynb\" target=\"_parent\"><img src=\"https://colab.research.google.com/assets/colab-badge.svg\" alt=\"Open In Colab\"/></a>"
      ]
    },
    {
      "cell_type": "markdown",
      "source": [
        "# **Spark JSON Functions**\n",
        "https://spark.apache.org/docs/latest/sql-ref-functions-builtin.html#json-functions"
      ],
      "metadata": {
        "id": "2b5P_Bw3vI8W"
      }
    },
    {
      "cell_type": "markdown",
      "source": [
        "#### JSON in Spark\n",
        "\n",
        "**JSON as File:**  \n",
        "A JSON file that Spark automatically reads and converts into a structured DataFrame with proper column types.\n",
        "\n",
        "**JSON as Column Value:**  \n",
        "A string column storing JSON text, which requires explicit parsing using `from_json()` to access its data."
      ],
      "metadata": {
        "id": "phnpQnmHx8lM"
      }
    },
    {
      "cell_type": "markdown",
      "source": [
        "\n",
        "---\n",
        "#### JSON vs Map in Spark\n",
        "---\n",
        "###### Quick Comparison\n",
        "---\n",
        "| Aspect | JSON Column | Map Column |\n",
        "|--------|-------------|------------|\n",
        "| **Storage** | String text | Native MapType |\n",
        "| **Access** | Parse with `from_json()` | Direct key access |\n",
        "| **Speed** | Slower (parsing needed) | Faster (ready-to-use) |\n",
        "| **Memory** | Higher (text + parsing) | Lower (efficient) |\n",
        "| **Schema** | Flexible, needs definition | Fixed key-value types |\n",
        "| **Best For** | External data, APIs | Internal processing |\n",
        "---\n",
        "#### Spark Convert JSON AS Structs (NOT Maps) on Parsing by defualt\n",
        "---\n",
        "###### Performance Matters\n",
        "---\n",
        "- **Structs**: Fixed schema = Faster access, better memory\n",
        "- **Maps**: Variable keys = Slower lookups, inefficient storage\n",
        "---\n",
        "###### Data Quality\n",
        "---\n",
        "- **Structs**: Validate types and structure upfront\n",
        "- **Maps**: Allow any keys = No quality checks\n",
        "---\n",
        "###### Query Power\n",
        "---\n",
        "- **Structs**: Clean SQL syntax (`user.name, user.age`)\n",
        "- **Maps**: Special syntax required (`user['name'], user['age']`)\n",
        "---\n",
        "###### Optimization\n",
        "- **Structs**: Enable predicate pushdown\n",
        "- **Structs**: Better memory optimization\n"
      ],
      "metadata": {
        "id": "DSeMs55jzwno"
      }
    },
    {
      "cell_type": "code",
      "source": [
        "from pyspark.sql import SparkSession\n",
        "spark = SparkSession.builder.appName('spark-functions').getOrCreate()"
      ],
      "metadata": {
        "id": "Zd-V32ikzutM"
      },
      "execution_count": null,
      "outputs": []
    },
    {
      "cell_type": "code",
      "source": [
        "js_string = '''{\n",
        "  \"user_id\": 12345,\n",
        "  \"name\": \"John Doe\",\n",
        "  \"email\": \"john.doe@example.com\",\n",
        "  \"age\": 30,\n",
        "  \"is_active\": true,\n",
        "  \"skills\": [\"Python\", \"SQL\", \"Spark\", \"Java\"],\n",
        "  \"address\": {\n",
        "    \"street\": \"123 Main St\",\n",
        "    \"city\": \"San Francisco\",\n",
        "    \"state\": \"CA\",\n",
        "    \"zipcode\": \"94105\"\n",
        "  },\n",
        "  \"salary\": 75000.50,\n",
        "  \"hire_date\": \"2022-03-15\",\n",
        "  \"tags\": [\"engineer\", \"backend\", \"senior\"],\n",
        "  \"projects\": [\n",
        "    {\"name\": \"Project A\", \"status\": \"completed\"},\n",
        "    {\"name\": \"Project B\", \"status\": \"in_progress\"}\n",
        "  ]\n",
        "}'''"
      ],
      "metadata": {
        "id": "3fFSTQNI1cYh"
      },
      "execution_count": null,
      "outputs": []
    },
    {
      "cell_type": "code",
      "source": [
        "\n",
        "sql = f'''\n",
        "create or replace temp view input_view as\n",
        "(\n",
        "  select '{js_string}' as js_string\n",
        ")\n",
        "'''\n",
        "\n",
        "spark.sql(sql)\n",
        "\n",
        "sql = 'select js_string from input_view'\n",
        "spark.sql(sql).show(truncate = False)\n"
      ],
      "metadata": {
        "id": "kkU3fdF2Ld0E",
        "colab": {
          "base_uri": "https://localhost:8080/"
        },
        "outputId": "c3f30db6-7329-4055-bb92-ec5d7c65ac6d"
      },
      "execution_count": null,
      "outputs": [
        {
          "output_type": "stream",
          "name": "stdout",
          "text": [
            "+---------------------------------------------------------------------------------------------------------------------------------------------------------------------------------------------------------------------------------------------------------------------------------------------------------------------------------------------------------------------------------------------------------------------------------------------------------------------------------------------------------------------------------------+\n",
            "|js_string                                                                                                                                                                                                                                                                                                                                                                                                                                                                                                                              |\n",
            "+---------------------------------------------------------------------------------------------------------------------------------------------------------------------------------------------------------------------------------------------------------------------------------------------------------------------------------------------------------------------------------------------------------------------------------------------------------------------------------------------------------------------------------------+\n",
            "|{\\n  \"user_id\": 12345,\\n  \"name\": \"John Doe\",\\n  \"email\": \"john.doe@example.com\",\\n  \"age\": 30,\\n  \"is_active\": true,\\n  \"skills\": [\"Python\", \"SQL\", \"Spark\", \"Java\"],\\n  \"address\": {\\n    \"street\": \"123 Main St\",\\n    \"city\": \"San Francisco\",\\n    \"state\": \"CA\",\\n    \"zipcode\": \"94105\"\\n  },\\n  \"salary\": 75000.50,\\n  \"hire_date\": \"2022-03-15\",\\n  \"tags\": [\"engineer\", \"backend\", \"senior\"],\\n  \"projects\": [\\n    {\"name\": \"Project A\", \"status\": \"completed\"},\\n    {\"name\": \"Project B\", \"status\": \"in_progress\"}\\n  ]\\n}|\n",
            "+---------------------------------------------------------------------------------------------------------------------------------------------------------------------------------------------------------------------------------------------------------------------------------------------------------------------------------------------------------------------------------------------------------------------------------------------------------------------------------------------------------------------------------------+\n",
            "\n"
          ]
        }
      ]
    },
    {
      "cell_type": "code",
      "source": [
        "sql = '''\n",
        "select *\n",
        "from input_view\n",
        "'''\n",
        "json_sample = spark.sql(sql).first()[0]\n",
        "print(json_sample)"
      ],
      "metadata": {
        "colab": {
          "base_uri": "https://localhost:8080/"
        },
        "id": "RRDdzwPH_soC",
        "outputId": "490714c9-f31b-416d-a43b-d424fa133bf4"
      },
      "execution_count": null,
      "outputs": [
        {
          "output_type": "stream",
          "name": "stdout",
          "text": [
            "{\n",
            "  \"user_id\": 12345,\n",
            "  \"name\": \"John Doe\",\n",
            "  \"email\": \"john.doe@example.com\",\n",
            "  \"age\": 30,\n",
            "  \"is_active\": true,\n",
            "  \"skills\": [\"Python\", \"SQL\", \"Spark\", \"Java\"],\n",
            "  \"address\": {\n",
            "    \"street\": \"123 Main St\",\n",
            "    \"city\": \"San Francisco\",\n",
            "    \"state\": \"CA\",\n",
            "    \"zipcode\": \"94105\"\n",
            "  },\n",
            "  \"salary\": 75000.50,\n",
            "  \"hire_date\": \"2022-03-15\",\n",
            "  \"tags\": [\"engineer\", \"backend\", \"senior\"],\n",
            "  \"projects\": [\n",
            "    {\"name\": \"Project A\", \"status\": \"completed\"},\n",
            "    {\"name\": \"Project B\", \"status\": \"in_progress\"}\n",
            "  ]\n",
            "}\n"
          ]
        }
      ]
    },
    {
      "cell_type": "code",
      "source": [
        "# schema_of_json : Get the schema of a json sring\n",
        "\n",
        "\n",
        "sql = f'''\n",
        "select schema_of_json('{json_sample}') as js_sch\n",
        "'''\n",
        "js_schema = spark.sql(sql).first()['js_sch']\n",
        "print(js_schema)"
      ],
      "metadata": {
        "colab": {
          "base_uri": "https://localhost:8080/"
        },
        "id": "CrPdeUrvA3-r",
        "outputId": "78fa5237-78c7-4f4d-d5f2-19ae5b90dd60"
      },
      "execution_count": null,
      "outputs": [
        {
          "output_type": "stream",
          "name": "stdout",
          "text": [
            "STRUCT<address: STRUCT<city: STRING, state: STRING, street: STRING, zipcode: STRING>, age: BIGINT, email: STRING, hire_date: STRING, is_active: BOOLEAN, name: STRING, projects: ARRAY<STRUCT<name: STRING, status: STRING>>, salary: DOUBLE, skills: ARRAY<STRING>, tags: ARRAY<STRING>, user_id: BIGINT>\n"
          ]
        }
      ]
    },
    {
      "cell_type": "code",
      "source": [
        "# from_json : converts a json strintig to a struct object\n",
        "\n",
        "# -- paring the json string\n",
        "\n",
        "sql = f'''\n",
        "create or replace temp view parsed_view1 AS\n",
        "(\n",
        "with cte as\n",
        "(\n",
        "select from_json(js_string,'{js_schema}') as js_struct\n",
        "from input_view\n",
        ")\n",
        "select js_struct\n",
        "from cte\n",
        ")\n",
        "'''\n",
        "spark.sql(sql)"
      ],
      "metadata": {
        "colab": {
          "base_uri": "https://localhost:8080/"
        },
        "id": "SqyRJx35Ca1b",
        "outputId": "500fadc1-0125-41e0-fb37-0f5c933c5e4e"
      },
      "execution_count": null,
      "outputs": [
        {
          "output_type": "execute_result",
          "data": {
            "text/plain": [
              "DataFrame[]"
            ]
          },
          "metadata": {},
          "execution_count": 197
        }
      ]
    },
    {
      "cell_type": "code",
      "source": [
        "## -- show the parsed json\n",
        "\n",
        "sql = '''\n",
        "select js_struct\n",
        "from parsed_view1\n",
        "'''\n",
        "spark.sql(sql).show(truncate = False)\n",
        "\n",
        "## -- see the type of parsed json\n",
        "\n",
        "spark.sql(sql).printSchema()"
      ],
      "metadata": {
        "colab": {
          "base_uri": "https://localhost:8080/"
        },
        "id": "IGzh_uRxDrLy",
        "outputId": "136c5efe-27fc-4081-9e04-5647d0fdcce4"
      },
      "execution_count": null,
      "outputs": [
        {
          "output_type": "stream",
          "name": "stdout",
          "text": [
            "+----------------------------------------------------------------------------------------------------------------------------------------------------------------------------------------------------------------------------+\n",
            "|js_struct                                                                                                                                                                                                                   |\n",
            "+----------------------------------------------------------------------------------------------------------------------------------------------------------------------------------------------------------------------------+\n",
            "|{{San Francisco, CA, 123 Main St, 94105}, 30, john.doe@example.com, 2022-03-15, true, John Doe, [{Project A, completed}, {Project B, in_progress}], 75000.5, [Python, SQL, Spark, Java], [engineer, backend, senior], 12345}|\n",
            "+----------------------------------------------------------------------------------------------------------------------------------------------------------------------------------------------------------------------------+\n",
            "\n",
            "root\n",
            " |-- js_struct: struct (nullable = true)\n",
            " |    |-- address: struct (nullable = true)\n",
            " |    |    |-- city: string (nullable = true)\n",
            " |    |    |-- state: string (nullable = true)\n",
            " |    |    |-- street: string (nullable = true)\n",
            " |    |    |-- zipcode: string (nullable = true)\n",
            " |    |-- age: long (nullable = true)\n",
            " |    |-- email: string (nullable = true)\n",
            " |    |-- hire_date: string (nullable = true)\n",
            " |    |-- is_active: boolean (nullable = true)\n",
            " |    |-- name: string (nullable = true)\n",
            " |    |-- projects: array (nullable = true)\n",
            " |    |    |-- element: struct (containsNull = true)\n",
            " |    |    |    |-- name: string (nullable = true)\n",
            " |    |    |    |-- status: string (nullable = true)\n",
            " |    |-- salary: double (nullable = true)\n",
            " |    |-- skills: array (nullable = true)\n",
            " |    |    |-- element: string (containsNull = true)\n",
            " |    |-- tags: array (nullable = true)\n",
            " |    |    |-- element: string (containsNull = true)\n",
            " |    |-- user_id: long (nullable = true)\n",
            "\n"
          ]
        }
      ]
    },
    {
      "cell_type": "code",
      "source": [
        "## -- access the element from the parsed\n",
        "\n",
        "# -- string values\n",
        "\n",
        "sql = '''\n",
        "select js_struct['name'] as `name`\n",
        "from parsed_view1\n",
        "'''\n",
        "spark.sql(sql).show(truncate = False)\n",
        "\n",
        "# -- nexted json ( actually struct )\n",
        "\n",
        "sql = '''\n",
        "select js_struct['address']['street'] as `street`\n",
        "from parsed_view1\n",
        "'''\n",
        "spark.sql(sql).show(truncate = False)"
      ],
      "metadata": {
        "colab": {
          "base_uri": "https://localhost:8080/"
        },
        "id": "ublZP5lzre21",
        "outputId": "605be580-b673-447d-81af-6be0c8e2adcf"
      },
      "execution_count": null,
      "outputs": [
        {
          "output_type": "stream",
          "name": "stdout",
          "text": [
            "+--------+\n",
            "|name    |\n",
            "+--------+\n",
            "|John Doe|\n",
            "+--------+\n",
            "\n",
            "+-----------+\n",
            "|street     |\n",
            "+-----------+\n",
            "|123 Main St|\n",
            "+-----------+\n",
            "\n"
          ]
        }
      ]
    },
    {
      "cell_type": "code",
      "source": [
        "# from_json (TO ARRAY)\n",
        "\n",
        "sql = '''\n",
        "select\n",
        "  from_json('[\"rahul\",\"lathika\",\"skylr\"]','ARRAY<STRING>') as mapParsed\n",
        "'''\n",
        "spark.sql(sql).show(truncate = False)\n",
        "spark.sql(sql).printSchema()"
      ],
      "metadata": {
        "colab": {
          "base_uri": "https://localhost:8080/"
        },
        "id": "tHkyGf-Qpec5",
        "outputId": "aadd80e7-32ae-44df-912c-81f49854e408"
      },
      "execution_count": null,
      "outputs": [
        {
          "output_type": "stream",
          "name": "stdout",
          "text": [
            "+-----------------------+\n",
            "|mapParsed              |\n",
            "+-----------------------+\n",
            "|[rahul, lathika, skylr]|\n",
            "+-----------------------+\n",
            "\n",
            "root\n",
            " |-- mapParsed: array (nullable = true)\n",
            " |    |-- element: string (containsNull = true)\n",
            "\n"
          ]
        }
      ]
    },
    {
      "cell_type": "code",
      "source": [
        "# from_json (TO MAP)\n",
        "\n",
        "sql = '''\n",
        "select\n",
        "  from_json('{\"name\":\"rahul\",\"age\":25}', 'MAP<STRING,STRING>') as mapParsed\n",
        "'''\n",
        "spark.sql(sql).show(truncate = False)\n",
        "spark.sql(sql).printSchema()"
      ],
      "metadata": {
        "colab": {
          "base_uri": "https://localhost:8080/"
        },
        "id": "Dl9-de97qP_C",
        "outputId": "77bfdd38-606b-4647-da58-3c2cc076e33d"
      },
      "execution_count": null,
      "outputs": [
        {
          "output_type": "stream",
          "name": "stdout",
          "text": [
            "+--------------------------+\n",
            "|mapParsed                 |\n",
            "+--------------------------+\n",
            "|{name -> rahul, age -> 25}|\n",
            "+--------------------------+\n",
            "\n",
            "root\n",
            " |-- mapParsed: map (nullable = true)\n",
            " |    |-- key: string\n",
            " |    |-- value: string (valueContainsNull = true)\n",
            "\n"
          ]
        }
      ]
    },
    {
      "cell_type": "markdown",
      "source": [
        "### Converting JSON Strings to STRUCT, MAP, and ARRAY\n",
        "### `using from_json`\n",
        "\n",
        "| Aspect | STRUCT | MAP | ARRAY |\n",
        "|--------|--------|-----|-------|\n",
        "| **Schema Syntax** | `'field1 TYPE, field2 TYPE, nested STRUCT<...>'` | `'MAP<KEY_TYPE, VALUE_TYPE>'` | `'ARRAY<ELEMENT_TYPE>'` |\n",
        "| **JSON Example** | `'{\"name\":\"John\",\"age\":30}'` | `'{\"name\":\"John\",\"age\":30}'` | `'[\"apple\",\"banana\"]'` |\n",
        "| **Output Type** | `struct<name:string, age:int>` | `map<string,string>` | `array<string>` |\n",
        "| **Field Access** | `struct_col.name`<br>`struct_col.age` | `map_col['name']`<br>`map_col['age']` | `array_col[0]`<br>`array_col[1]` |\n",
        "| **Schema Flexibility** | Fixed schema, must match exactly | Flexible keys, fixed value type | Fixed element type |\n",
        "| **Type Safety** | Strong - each field has specific type | Weak - all values same type | Medium - all elements same type |\n",
        "| **Performance** | Fastest (known schema) | Moderate | Fast |\n",
        "| **Use Case** | Fixed schema objects | Dynamic key-value pairs | Ordered lists |"
      ],
      "metadata": {
        "id": "V0B8V42ZrloR"
      }
    },
    {
      "cell_type": "code",
      "source": [
        "# -- nexted array\n",
        "\n",
        "sql = '''\n",
        "select typeOf(js_struct['skills']) as tp\n",
        "from parsed_view1\n",
        "'''\n",
        "spark.sql(sql).show(truncate = False)\n",
        "\n",
        "# -- access nexted array\n",
        "\n",
        "sql = '''\n",
        "select js_struct['skills'] as `skills`\n",
        "from parsed_view1\n",
        "'''\n",
        "spark.sql(sql).show(truncate = False)\n",
        "\n",
        "# -- access nexted array and element from the array\n",
        "\n",
        "sql = '''\n",
        "select js_struct['skills'][0] as `firstSkill`\n",
        "from parsed_view1\n",
        "'''\n",
        "spark.sql(sql).show(truncate = False)"
      ],
      "metadata": {
        "colab": {
          "base_uri": "https://localhost:8080/"
        },
        "id": "xfvMZTuHJVLU",
        "outputId": "5acf23b1-7fff-4123-eaf1-f5e7ce9f4a51"
      },
      "execution_count": null,
      "outputs": [
        {
          "output_type": "stream",
          "name": "stdout",
          "text": [
            "+-------------+\n",
            "|tp           |\n",
            "+-------------+\n",
            "|array<string>|\n",
            "+-------------+\n",
            "\n",
            "+--------------------------+\n",
            "|skills                    |\n",
            "+--------------------------+\n",
            "|[Python, SQL, Spark, Java]|\n",
            "+--------------------------+\n",
            "\n",
            "+----------+\n",
            "|firstSkill|\n",
            "+----------+\n",
            "|Python    |\n",
            "+----------+\n",
            "\n"
          ]
        }
      ]
    },
    {
      "cell_type": "code",
      "source": [
        "# get_json_object :\n",
        "\n",
        "# `get_json_object` is used to get the json value with key WITHOUT parsing the json string into struct.\n",
        "\n",
        "sql = '''\n",
        "select\n",
        "get_json_object(js_string,'$.name') as `name`\n",
        "from input_view\n",
        "'''\n",
        "spark.sql(sql).show(truncate = False)\n",
        "\n"
      ],
      "metadata": {
        "colab": {
          "base_uri": "https://localhost:8080/"
        },
        "id": "QKBrfm3bL6Iw",
        "outputId": "a52eea54-5492-46da-d717-375c5f2e5c88"
      },
      "execution_count": null,
      "outputs": [
        {
          "output_type": "stream",
          "name": "stdout",
          "text": [
            "+--------+\n",
            "|name    |\n",
            "+--------+\n",
            "|John Doe|\n",
            "+--------+\n",
            "\n"
          ]
        }
      ]
    },
    {
      "cell_type": "code",
      "source": [
        "# get_json_object :\n",
        "\n",
        "# `get_json_object` is used to get the json value with key WITHOUT parsing the json string into struct.\n",
        "\n",
        "# -- access nexted json\n",
        "\n",
        "sql = '''\n",
        "select\n",
        "get_json_object(js_string,'$.address') as `address`, -- first level\n",
        "get_json_object(get_json_object(js_string,'$.address'),'$.street') as street -- second level extract\n",
        "from input_view\n",
        "'''\n",
        "spark.sql(sql).show(truncate = False)\n",
        "spark.sql(sql).printSchema()"
      ],
      "metadata": {
        "colab": {
          "base_uri": "https://localhost:8080/"
        },
        "id": "Gly7mFcGONOI",
        "outputId": "750e98a1-36e9-4dc8-edf4-6ef931698af9"
      },
      "execution_count": null,
      "outputs": [
        {
          "output_type": "stream",
          "name": "stdout",
          "text": [
            "+------------------------------------------------------------------------------+-----------+\n",
            "|address                                                                       |street     |\n",
            "+------------------------------------------------------------------------------+-----------+\n",
            "|{\"street\":\"123 Main St\",\"city\":\"San Francisco\",\"state\":\"CA\",\"zipcode\":\"94105\"}|123 Main St|\n",
            "+------------------------------------------------------------------------------+-----------+\n",
            "\n",
            "root\n",
            " |-- address: string (nullable = true)\n",
            " |-- street: string (nullable = true)\n",
            "\n"
          ]
        }
      ]
    },
    {
      "cell_type": "code",
      "source": [
        "# to_json : convert a struct or map or array to a json string\n",
        "\n",
        "sql = '''\n",
        "select to_json(js_struct) as backToJSONString\n",
        "from parsed_view1\n",
        "'''\n",
        "spark.sql(sql).show(truncate = False)"
      ],
      "metadata": {
        "colab": {
          "base_uri": "https://localhost:8080/"
        },
        "id": "3dBJLYC8vFng",
        "outputId": "ccace4e4-50d7-4894-89ff-9c766ef736c0"
      },
      "execution_count": null,
      "outputs": [
        {
          "output_type": "stream",
          "name": "stdout",
          "text": [
            "+------------------------------------------------------------------------------------------------------------------------------------------------------------------------------------------------------------------------------------------------------------------------------------------------------------------------------------------------------------------------------------------------------------------+\n",
            "|backToJSONString                                                                                                                                                                                                                                                                                                                                                                                                  |\n",
            "+------------------------------------------------------------------------------------------------------------------------------------------------------------------------------------------------------------------------------------------------------------------------------------------------------------------------------------------------------------------------------------------------------------------+\n",
            "|{\"address\":{\"city\":\"San Francisco\",\"state\":\"CA\",\"street\":\"123 Main St\",\"zipcode\":\"94105\"},\"age\":30,\"email\":\"john.doe@example.com\",\"hire_date\":\"2022-03-15\",\"is_active\":true,\"name\":\"John Doe\",\"projects\":[{\"name\":\"Project A\",\"status\":\"completed\"},{\"name\":\"Project B\",\"status\":\"in_progress\"}],\"salary\":75000.5,\"skills\":[\"Python\",\"SQL\",\"Spark\",\"Java\"],\"tags\":[\"engineer\",\"backend\",\"senior\"],\"user_id\":12345}|\n",
            "+------------------------------------------------------------------------------------------------------------------------------------------------------------------------------------------------------------------------------------------------------------------------------------------------------------------------------------------------------------------------------------------------------------------+\n",
            "\n"
          ]
        }
      ]
    },
    {
      "cell_type": "markdown",
      "source": [
        "---\n",
        "#### Comparison: `from_json` vs `to_json`\n",
        "---\n",
        "\n",
        "| Aspect | from_json | to_json |\n",
        "|--------|-----------|---------|\n",
        "| **Purpose** | JSON Deserialization | JSON Serialization |\n",
        "| **Input** | JSON String | Struct, Map, or Array |\n",
        "| **Output** | Structured Data (Struct/Map/Array) | JSON String |\n",
        "| **Direction** | JSON → Structured Data | Structured Data → JSON |\n",
        "| **Schema Required** | Yes | No |\n",
        "| **Primary Use Case** | Reading JSON data | Writing JSON data |\n",
        "\n",
        "---\n",
        "| | from_json | to_json |\n",
        "|--|-----------|---------|\n",
        "| **Syntax** | `from_json(jsonStr, schema[, options])` | `to_json(expr[, options])` |\n",
        "| **Schema Parameter** | Required string defining structure | Not applicable |\n",
        "| **Options Parameter** | Optional map for formatting | Optional map for formatting |\n",
        "---\n",
        "\n",
        "| Function | Input Example | Output Example |\n",
        "|----------|---------------|----------------|\n",
        "| **from_json** | `'{\"name\":\"John\",\"age\":30}'` | `{name: \"John\", age: 30}` |\n",
        "| **to_json** | `named_struct('name', 'John', 'age', 30)` | `'{\"name\":\"John\",\"age\":30}'` |"
      ],
      "metadata": {
        "id": "wLA9FBBdvMpm"
      }
    },
    {
      "cell_type": "code",
      "source": [
        "# get_json_object :\n",
        "\n",
        "# `get_json_object` is used to get the json value with key WITHOUT parsing the json string into struct.\n",
        "\n",
        "# -- access array value\n",
        "\n",
        "sql = '''\n",
        "select\n",
        "get_json_object(js_string,'$.skills') as `skills`, -- first level\n",
        "typeOf(get_json_object(js_string,'$.skills')) as returnType -- type of firts level\n",
        "\n",
        "from input_view\n",
        "'''\n",
        "spark.sql(sql).show(truncate = False)"
      ],
      "metadata": {
        "colab": {
          "base_uri": "https://localhost:8080/"
        },
        "id": "iTfJonD-PJGH",
        "outputId": "efc5c089-e73a-47d4-9747-717d26fd33ad"
      },
      "execution_count": null,
      "outputs": [
        {
          "output_type": "stream",
          "name": "stdout",
          "text": [
            "+-------------------------------+----------+\n",
            "|skills                         |returnType|\n",
            "+-------------------------------+----------+\n",
            "|[\"Python\",\"SQL\",\"Spark\",\"Java\"]|string    |\n",
            "+-------------------------------+----------+\n",
            "\n"
          ]
        }
      ]
    },
    {
      "cell_type": "code",
      "source": [
        "# get_json_object :\n",
        "\n",
        "# `get_json_object` is used to get the json value with key WITHOUT parsing the json string into struct.\n",
        "\n",
        "# -- access array value\n",
        "\n",
        "sql = '''\n",
        "select\n",
        "explode(from_json(get_json_object(js_string, '$.skills'),'array<string>')) as explodedDirectlyFromString\n",
        "from input_view\n",
        "order by explodedDirectlyFromString asc\n",
        "'''\n",
        "spark.sql(sql).show(truncate = False)"
      ],
      "metadata": {
        "colab": {
          "base_uri": "https://localhost:8080/"
        },
        "id": "7jZLESzzPyRP",
        "outputId": "e7d94d52-fe01-463b-f4bf-49e0510975eb"
      },
      "execution_count": null,
      "outputs": [
        {
          "output_type": "stream",
          "name": "stdout",
          "text": [
            "+--------------------------+\n",
            "|explodedDirectlyFromString|\n",
            "+--------------------------+\n",
            "|Java                      |\n",
            "|Python                    |\n",
            "|SQL                       |\n",
            "|Spark                     |\n",
            "+--------------------------+\n",
            "\n"
          ]
        }
      ]
    },
    {
      "cell_type": "markdown",
      "source": [
        "### Spark JSON Parsing: `from_json` vs `get_json_object`\n",
        "\n",
        "| Feature | from_json() | get_json_object() |\n",
        "|---------|-------------|-------------------|\n",
        "| **Schema Required** | ✅ Mandatory | ❌ Not required |\n",
        "| **Efficiency** | 🚀 High (parsed once) | 🐌 Low (parsed every time) |\n",
        "| **Use Case** | Multiple field access, known structure | Quick exploration, unknown schema, few fields |\n",
        "| **Memory Usage** | 🟢 Better (structured) | 🔴 Higher (string repetition) |\n",
        "| **Type Safety** | ✅ Strong (enforced types) | ❌ Weak (always returns string) |\n",
        "| **Null Handling** | 🟡 Configurable | 🟢 Returns NULL if path missing |\n",
        "| **Complex JSON** | ✅ Handles nested objects/arrays well | ⚠️ Limited to single path |\n",
        "| **Parallelism** | 🟢 High (structured data) | 🟡 Moderate (string processing) |\n",
        "| **Data Shuffling** | 🟢 Minimal (works within partitions) | 🔴 Can cause shuffling |\n",
        "| **Partitioning** | ✅ Preserves partitioning | ❌ May break partitioning |\n",
        "| **Cluster Utilization** | 🟢 Better utilization | 🟡 Less efficient |\n",
        "| **Performance at Scale** | 🚀 Excellent (linear scaling) | 🐌 Poor (degrades with size) |\n",
        "| **Production Readiness** | ✅ Recommended | ⚠️ Limited use |"
      ],
      "metadata": {
        "id": "NkyyFCXuU0h-"
      }
    },
    {
      "cell_type": "code",
      "source": [
        "# explode function & posexplode function\n",
        "\n",
        "sql = '''\n",
        "select\n",
        "explode(from_json(get_json_object(js_string, '$.skills'),'array<string>')) as explodedDirectlyFromString\n",
        "from input_view\n",
        "order by explodedDirectlyFromString asc\n",
        "'''\n",
        "spark.sql(sql).show(truncate = False)\n",
        "\n",
        "#---\n",
        "\n",
        "sql = '''\n",
        "SELECT\n",
        "  posexplode_outer(from_json(get_json_object(js_string, '$.skills'), 'array<string>')) as (pos, skill)\n",
        "FROM input_view\n",
        "ORDER BY pos ASC\n",
        "'''\n",
        "spark.sql(sql).show(truncate = False)"
      ],
      "metadata": {
        "colab": {
          "base_uri": "https://localhost:8080/"
        },
        "id": "1RQAQHwfQGsv",
        "outputId": "705058ec-a551-4ff0-e736-4d795d247f7e"
      },
      "execution_count": null,
      "outputs": [
        {
          "output_type": "stream",
          "name": "stdout",
          "text": [
            "+--------------------------+\n",
            "|explodedDirectlyFromString|\n",
            "+--------------------------+\n",
            "|Java                      |\n",
            "|Python                    |\n",
            "|SQL                       |\n",
            "|Spark                     |\n",
            "+--------------------------+\n",
            "\n",
            "+---+------+\n",
            "|pos|skill |\n",
            "+---+------+\n",
            "|0  |Python|\n",
            "|1  |SQL   |\n",
            "|2  |Spark |\n",
            "|3  |Java  |\n",
            "+---+------+\n",
            "\n"
          ]
        }
      ]
    },
    {
      "cell_type": "markdown",
      "source": [
        "### explode vs posexplode\n",
        "\n",
        "| Feature | `explode()` | `posexplode()` |\n",
        "|---------|-------------|----------------|\n",
        "| **Purpose** | Explodes arrays into rows | Explodes arrays into rows with position/index |\n",
        "| **Output Columns** | 1 column (array element) | 2 columns (index + array element) |\n",
        "| **Index Included** | ❌ No | ✅ Yes (starts from 0) |\n",
        "| **Basic Syntax** | `explode(array_col)` | `posexplode(array_col)` |\n",
        "| **Direct Usage** | `SELECT explode(arr) FROM table` | `SELECT posexplode(arr) FROM table` |\n",
        "| **Direct Aliasing** | `SELECT explode(arr) as element` | `SELECT posexplode(arr) as (position, element)` |\n",
        "| **LATERAL VIEW Syntax** | `LATERAL VIEW explode(arr) t AS elem` | `LATERAL VIEW posexplode(arr) t AS pos, elem` |\n",
        "| **LATERAL VIEW Aliasing** | Single alias for element | **Two aliases required** (position + element) |\n",
        "| **Column Reference** | Refer to single column | Refer to two columns separately |\n",
        "| **Example Output** | `['A','B','C'] → 'A' 'B' 'C'` | `['A','B','C'] → (0,'A') (1,'B') (2,'C')` |\n",
        "| **Performance** | Faster (less data) | Slightly slower (more data) |\n",
        "| **Use Case** | When you only need values | When you need position/index + values |"
      ],
      "metadata": {
        "id": "3nlfmzwOS6Z2"
      }
    },
    {
      "cell_type": "code",
      "source": [
        "# get_json_tuple : get a list of json value in single shot\n",
        "\n",
        "# works on JSON STRING only\n",
        "\n",
        "sql = '''\n",
        "select json_tuple(js_string,'user_id','name','email','skills') as (user_id,name,email,skills)\n",
        "from input_view\n",
        "'''\n",
        "\n",
        "spark.sql(sql).show(truncate = False)\n",
        "spark.sql(sql).printSchema()"
      ],
      "metadata": {
        "colab": {
          "base_uri": "https://localhost:8080/"
        },
        "id": "ABZcXVGnvf5C",
        "outputId": "6ed3f439-456f-47e0-9ccd-f260b0b0b8d4"
      },
      "execution_count": null,
      "outputs": [
        {
          "output_type": "stream",
          "name": "stdout",
          "text": [
            "+-------+--------+--------------------+-------------------------------+\n",
            "|user_id|name    |email               |skills                         |\n",
            "+-------+--------+--------------------+-------------------------------+\n",
            "|12345  |John Doe|john.doe@example.com|[\"Python\",\"SQL\",\"Spark\",\"Java\"]|\n",
            "+-------+--------+--------------------+-------------------------------+\n",
            "\n",
            "root\n",
            " |-- user_id: string (nullable = true)\n",
            " |-- name: string (nullable = true)\n",
            " |-- email: string (nullable = true)\n",
            " |-- skills: string (nullable = true)\n",
            "\n"
          ]
        }
      ]
    },
    {
      "cell_type": "code",
      "source": [
        "# json_array_length\n",
        "# works on json STRING containing an array\n",
        "\n",
        "sql = '''\n",
        "SELECT json_array_length('[{\"name\":\"rahul\"},{\"name\":\"lathika\"}]') as array_length\n",
        "'''\n",
        "spark.sql(sql).show(truncate = False)"
      ],
      "metadata": {
        "colab": {
          "base_uri": "https://localhost:8080/"
        },
        "id": "rqG4QUQMRpSg",
        "outputId": "8ff7e8fd-4f20-4804-ad25-6325373d7921"
      },
      "execution_count": null,
      "outputs": [
        {
          "output_type": "stream",
          "name": "stdout",
          "text": [
            "+------------+\n",
            "|array_length|\n",
            "+------------+\n",
            "|2           |\n",
            "+------------+\n",
            "\n"
          ]
        }
      ]
    },
    {
      "cell_type": "code",
      "source": [
        "# json_object_keys\n",
        "\n",
        "# works on json STRING, NOT on a parsed JSON\n",
        "\n",
        "sql = '''\n",
        "SELECT json_object_keys(js_string) as jsKeys\n",
        "from input_view\n",
        "'''\n",
        "spark.sql(sql).show(truncate = False)\n",
        "spark.sql(sql).printSchema()"
      ],
      "metadata": {
        "colab": {
          "base_uri": "https://localhost:8080/"
        },
        "id": "Slcax1fngUR3",
        "outputId": "86f90edc-13d2-46fb-ba05-af90cfdf1d87"
      },
      "execution_count": null,
      "outputs": [
        {
          "output_type": "stream",
          "name": "stdout",
          "text": [
            "+------------------------------------------------------------------------------------------+\n",
            "|jsKeys                                                                                    |\n",
            "+------------------------------------------------------------------------------------------+\n",
            "|[user_id, name, email, age, is_active, skills, address, salary, hire_date, tags, projects]|\n",
            "+------------------------------------------------------------------------------------------+\n",
            "\n",
            "root\n",
            " |-- jsKeys: array (nullable = true)\n",
            " |    |-- element: string (containsNull = true)\n",
            "\n"
          ]
        }
      ]
    },
    {
      "cell_type": "markdown",
      "source": [
        "---\n",
        "#### JSON and Array Functions Comparison Table\n",
        "---\n",
        "\n",
        "| Function | Syntax | Purpose | Input | Output | Schema Required | Notes |\n",
        "|----------|--------|---------|-------|--------|-----------------|--------|\n",
        "| **schema_of_json** | `schema_of_json(json_str)` | Infers schema from JSON string | JSON string | Schema string (DDL) | No | Returns the schema as a DDL string |\n",
        "| **from_json** | `from_json(json_str, schema[, options])` | Parses JSON string to structured data | JSON string | Struct/Map/Array | Yes | Converts JSON to Spark complex types |\n",
        "| **to_json** | `to_json(expr[, options])` | Converts structured data to JSON string | Struct/Map/Array | JSON string | No | Serializes Spark types to JSON |\n",
        "| **get_json_object** | `get_json_object(json_str, path)` | Extracts specific element using JSON path | JSON string, Path | String | No | Uses JSONPath syntax for extraction |\n",
        "| **json_tuple** | `json_tuple(json_str, field1, field2, ...)` | Extracts multiple fields as tuple | JSON string, Field names | Multiple string columns | No | More efficient than multiple get_json_object calls |\n",
        "| **json_array_length** | `json_array_length(json_array_str)` | Returns length of JSON array | JSON array string | Integer | No | Works only with JSON arrays |\n",
        "| **json_object_keys** | `json_object_keys(json_obj_str)` | Returns keys from JSON object | JSON object string | Array of strings | No | Extracts all keys from JSON object |\n",
        "| **explode** | `explode(array_column)` | Creates new row for each array element | Array column | Multiple rows (same type as elements) | No | Increases row count, creates Cartesian product |\n",
        "| **posexplode** | `posexplode(array_column)` | Creates new row for each array element with position | Array column | Multiple rows with (pos, element) | No | Includes array index (0-based) |"
      ],
      "metadata": {
        "id": "NkM1TXOcuFXw"
      }
    }
  ]
}