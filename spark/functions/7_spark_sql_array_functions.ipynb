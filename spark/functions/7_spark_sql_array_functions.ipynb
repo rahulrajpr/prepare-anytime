{
  "nbformat": 4,
  "nbformat_minor": 0,
  "metadata": {
    "colab": {
      "provenance": [],
      "authorship_tag": "ABX9TyMX/84/2yGKJbwLLWSm05Zr",
      "include_colab_link": true
    },
    "kernelspec": {
      "name": "python3",
      "display_name": "Python 3"
    },
    "language_info": {
      "name": "python"
    }
  },
  "cells": [
    {
      "cell_type": "markdown",
      "metadata": {
        "id": "view-in-github",
        "colab_type": "text"
      },
      "source": [
        "<a href=\"https://colab.research.google.com/github/rahulrajpr/prepare-anytime/blob/main/spark/functions/7_spark_sql_array_functions.ipynb\" target=\"_parent\"><img src=\"https://colab.research.google.com/assets/colab-badge.svg\" alt=\"Open In Colab\"/></a>"
      ]
    },
    {
      "cell_type": "markdown",
      "source": [
        "# Spark Array Functions\n",
        "https://spark.apache.org/docs/latest/sql-ref-functions-builtin.html#array-functions"
      ],
      "metadata": {
        "id": "e5kBBPez90_W"
      }
    },
    {
      "cell_type": "markdown",
      "source": [
        "> An **Array** in **Apache Spark** is a **complex column type** that allows you to represent **a collection of multiple values** within a **single DataFrame column**.  \n",
        "> It enables storing **ordered elements of the same data type** inside one column, providing a **flexible and efficient way** to manage and query **multi-valued or semi-structured data** such as **lists, tags, or JSON arrays**.\n"
      ],
      "metadata": {
        "id": "ARApr_c5FFbg"
      }
    },
    {
      "cell_type": "code",
      "execution_count": null,
      "metadata": {
        "id": "QC99yUVW9jsv"
      },
      "outputs": [],
      "source": [
        "from pyspark.sql import SparkSession\n",
        "spark = SparkSession.builder.appName('spark-functions').getOrCreate()"
      ]
    },
    {
      "cell_type": "code",
      "source": [
        "# array : to create an array of elements\n",
        "\n",
        "sql = '''select array(1,2,3,4,5) as arrayOut'''\n",
        "spark.sql(sql).show(truncate = False)"
      ],
      "metadata": {
        "colab": {
          "base_uri": "https://localhost:8080/"
        },
        "id": "v_gviBnYFdLe",
        "outputId": "c9261e6b-1bc7-4293-b858-9f39582ddcf3"
      },
      "execution_count": null,
      "outputs": [
        {
          "output_type": "stream",
          "name": "stdout",
          "text": [
            "+---------------+\n",
            "|arrayOut       |\n",
            "+---------------+\n",
            "|[1, 2, 3, 4, 5]|\n",
            "+---------------+\n",
            "\n"
          ]
        }
      ]
    },
    {
      "cell_type": "code",
      "source": [
        "# array_size\n",
        "\n",
        "sql = '''\n",
        "with cte as\n",
        "(\n",
        "select\n",
        "  array(1,2,3) as arrayOut\n",
        ")\n",
        "select\n",
        "  arrayOut,\n",
        "  array_size(arrayOut) array_sizeOut\n",
        "from cte\n",
        "'''\n",
        "spark.sql(sql).show(truncate = False)"
      ],
      "metadata": {
        "colab": {
          "base_uri": "https://localhost:8080/"
        },
        "id": "fT6iwkcySsoV",
        "outputId": "5d8c3163-038e-4d67-9eda-2e142d9172b8"
      },
      "execution_count": null,
      "outputs": [
        {
          "output_type": "stream",
          "name": "stdout",
          "text": [
            "+---------+-------------+\n",
            "|arrayOut |array_sizeOut|\n",
            "+---------+-------------+\n",
            "|[1, 2, 3]|3            |\n",
            "+---------+-------------+\n",
            "\n"
          ]
        }
      ]
    },
    {
      "cell_type": "code",
      "source": [
        "# array_append : append an array with an element\n",
        "\n",
        "sql = '''\n",
        "with cte as\n",
        "(\n",
        "select\n",
        "  array(1,2,3) as arrayOut\n",
        ")\n",
        "select\n",
        "  arrayOut,\n",
        "  array_append(arrayOut,4) appendedArrayOutput\n",
        "from cte\n",
        "'''\n",
        "spark.sql(sql).show(truncate = False)"
      ],
      "metadata": {
        "colab": {
          "base_uri": "https://localhost:8080/"
        },
        "id": "mxWUvofEFyg0",
        "outputId": "fe8fbc11-8b68-435e-cfab-2e65c267e53b"
      },
      "execution_count": null,
      "outputs": [
        {
          "output_type": "stream",
          "name": "stdout",
          "text": [
            "+---------+-------------------+\n",
            "|arrayOut |appendedArrayOutput|\n",
            "+---------+-------------------+\n",
            "|[1, 2, 3]|[1, 2, 3, 4]       |\n",
            "+---------+-------------------+\n",
            "\n"
          ]
        }
      ]
    },
    {
      "cell_type": "code",
      "source": [
        "# array_prepend : prepend an array with an element\n",
        "\n",
        "sql = '''\n",
        "with cte as\n",
        "(\n",
        "select\n",
        "  array(1,2,3) as arrayOut\n",
        ")\n",
        "select\n",
        "  arrayOut,\n",
        "  array_prepend(arrayOut,4) array_prependOut\n",
        "from cte\n",
        "'''\n",
        "spark.sql(sql).show(truncate = False)"
      ],
      "metadata": {
        "colab": {
          "base_uri": "https://localhost:8080/"
        },
        "id": "SPV3H736YLW3",
        "outputId": "95edad0b-14cc-4f80-b9e9-5483e933adfa"
      },
      "execution_count": null,
      "outputs": [
        {
          "output_type": "stream",
          "name": "stdout",
          "text": [
            "+---------+----------------+\n",
            "|arrayOut |array_prependOut|\n",
            "+---------+----------------+\n",
            "|[1, 2, 3]|[4, 1, 2, 3]    |\n",
            "+---------+----------------+\n",
            "\n"
          ]
        }
      ]
    },
    {
      "cell_type": "code",
      "source": [
        "# array_remove\n",
        "\n",
        "sql = '''\n",
        "with cte as\n",
        "(\n",
        "select\n",
        "  array(1,2,3,4,5,5,4) as arrayOut\n",
        ")\n",
        "select\n",
        "  arrayOut,\n",
        "  array_remove(arrayOut,4) array_prependOut\n",
        "from cte\n",
        "'''\n",
        "spark.sql(sql).show(truncate = False)"
      ],
      "metadata": {
        "colab": {
          "base_uri": "https://localhost:8080/"
        },
        "id": "4kz7uaPnYbrn",
        "outputId": "abb88ed8-1e8e-44e2-b792-f7dceb7469a8"
      },
      "execution_count": null,
      "outputs": [
        {
          "output_type": "stream",
          "name": "stdout",
          "text": [
            "+---------------------+----------------+\n",
            "|arrayOut             |array_prependOut|\n",
            "+---------------------+----------------+\n",
            "|[1, 2, 3, 4, 5, 5, 4]|[1, 2, 3, 5, 5] |\n",
            "+---------------------+----------------+\n",
            "\n"
          ]
        }
      ]
    },
    {
      "cell_type": "code",
      "source": [
        "# array_compact : removes the null elements from an array\n",
        "\n",
        "sql = '''\n",
        "with cte as\n",
        "(\n",
        "select\n",
        "  array(NULL,1,2,NULL,3) as arrayOut\n",
        ")\n",
        "select\n",
        "  arrayOut,\n",
        "  array_compact(arrayOut) compactArrayOutput\n",
        "from cte\n",
        "'''\n",
        "spark.sql(sql).show(truncate = False)"
      ],
      "metadata": {
        "colab": {
          "base_uri": "https://localhost:8080/"
        },
        "id": "a_xqfvImGjsD",
        "outputId": "6862a986-34f5-42a2-9ce7-950dd2bcf42b"
      },
      "execution_count": null,
      "outputs": [
        {
          "output_type": "stream",
          "name": "stdout",
          "text": [
            "+---------------------+------------------+\n",
            "|arrayOut             |compactArrayOutput|\n",
            "+---------------------+------------------+\n",
            "|[NULL, 1, 2, NULL, 3]|[1, 2, 3]         |\n",
            "+---------------------+------------------+\n",
            "\n"
          ]
        }
      ]
    },
    {
      "cell_type": "code",
      "source": [
        "# array_contains : check an elements in an array\n",
        "\n",
        "sql = '''\n",
        "with cte as\n",
        "(\n",
        "select\n",
        "  array(NULL,1,2,NULL,3) as arrayOut\n",
        ")\n",
        "select\n",
        "  arrayOut,\n",
        "  array_contains(arrayOut,2) arrayContainsOut\n",
        "from cte\n",
        "'''\n",
        "spark.sql(sql).show(truncate = False)"
      ],
      "metadata": {
        "colab": {
          "base_uri": "https://localhost:8080/"
        },
        "id": "NBPuvNezHpRf",
        "outputId": "e175a710-5c26-46fb-c67b-3c39ab45f8f3"
      },
      "execution_count": null,
      "outputs": [
        {
          "output_type": "stream",
          "name": "stdout",
          "text": [
            "+---------------------+----------------+\n",
            "|arrayOut             |arrayContainsOut|\n",
            "+---------------------+----------------+\n",
            "|[NULL, 1, 2, NULL, 3]|true            |\n",
            "+---------------------+----------------+\n",
            "\n"
          ]
        }
      ]
    },
    {
      "cell_type": "code",
      "source": [
        "# array_distinct : get the distinct values of an array\n",
        "\n",
        "sql = '''\n",
        "with cte as\n",
        "(\n",
        "select\n",
        "  array(1,1,2,2,3,4) as arrayOut\n",
        ")\n",
        "select\n",
        "  arrayOut,\n",
        "  array_distinct(arrayOut) arrayDistinctOut\n",
        "from cte\n",
        "'''\n",
        "spark.sql(sql).show(truncate = False)"
      ],
      "metadata": {
        "colab": {
          "base_uri": "https://localhost:8080/"
        },
        "id": "PFJG3TZIH9mJ",
        "outputId": "bb8fe1f7-7271-48c5-ebe8-840419532b63"
      },
      "execution_count": null,
      "outputs": [
        {
          "output_type": "stream",
          "name": "stdout",
          "text": [
            "+------------------+----------------+\n",
            "|arrayOut          |arrayDistinctOut|\n",
            "+------------------+----------------+\n",
            "|[1, 1, 2, 2, 3, 4]|[1, 2, 3, 4]    |\n",
            "+------------------+----------------+\n",
            "\n"
          ]
        }
      ]
    },
    {
      "cell_type": "code",
      "source": [
        "# array_union\n",
        "\n",
        "sql = '''\n",
        "with cte as\n",
        "(\n",
        "select\n",
        "    array(1,2,3,4) as array1,\n",
        "    array(10,20) as array2\n",
        ")\n",
        "select\n",
        "    array1,\n",
        "    array2,\n",
        "    array_union(array1,array2) as array_unionOut\n",
        "from cte\n",
        "'''\n",
        "spark.sql(sql).show(truncate = False)"
      ],
      "metadata": {
        "colab": {
          "base_uri": "https://localhost:8080/"
        },
        "id": "3OuRwmP_V5hG",
        "outputId": "df9d30f4-9a61-4cb8-d909-0b90090e5db4"
      },
      "execution_count": null,
      "outputs": [
        {
          "output_type": "stream",
          "name": "stdout",
          "text": [
            "+------------+--------+--------------------+\n",
            "|array1      |array2  |array_unionOut      |\n",
            "+------------+--------+--------------------+\n",
            "|[1, 2, 3, 4]|[10, 20]|[1, 2, 3, 4, 10, 20]|\n",
            "+------------+--------+--------------------+\n",
            "\n"
          ]
        }
      ]
    },
    {
      "cell_type": "code",
      "source": [
        "# array_intersect\n",
        "\n",
        "sql = '''\n",
        "with cte as\n",
        "(\n",
        "select\n",
        "    array(1,2,3,4) as array1,\n",
        "    array(1,2) as array2\n",
        ")\n",
        "select\n",
        "    array1,\n",
        "    array2,\n",
        "    array_intersect(array1,array2) as array_intersectOut\n",
        "from cte\n",
        "'''\n",
        "spark.sql(sql).show(truncate = False)"
      ],
      "metadata": {
        "colab": {
          "base_uri": "https://localhost:8080/"
        },
        "id": "wdNxBVtgWGtu",
        "outputId": "3af1f8a8-b93c-4b76-a476-7ae26c298e4e"
      },
      "execution_count": null,
      "outputs": [
        {
          "output_type": "stream",
          "name": "stdout",
          "text": [
            "+------------+------+------------------+\n",
            "|array1      |array2|array_intersectOut|\n",
            "+------------+------+------------------+\n",
            "|[1, 2, 3, 4]|[1, 2]|[1, 2]            |\n",
            "+------------+------+------------------+\n",
            "\n"
          ]
        }
      ]
    },
    {
      "cell_type": "code",
      "source": [
        "# arrays_overlap\n",
        "\n",
        "sql = '''\n",
        "with cte as\n",
        "(\n",
        "select\n",
        "    array(1,2,3,4) as array1,\n",
        "    array(1,2) as array2\n",
        ")\n",
        "select\n",
        "    array1,\n",
        "    array2,\n",
        "    arrays_overlap(array1,array2) as array_overlapOut\n",
        "from cte\n",
        "'''\n",
        "spark.sql(sql).show(truncate = False)"
      ],
      "metadata": {
        "colab": {
          "base_uri": "https://localhost:8080/"
        },
        "id": "GdYt9-JeTNYm",
        "outputId": "35d80123-5358-49d7-d422-0e772c9a61d8"
      },
      "execution_count": null,
      "outputs": [
        {
          "output_type": "stream",
          "name": "stdout",
          "text": [
            "+------------+------+----------------+\n",
            "|array1      |array2|array_overlapOut|\n",
            "+------------+------+----------------+\n",
            "|[1, 2, 3, 4]|[1, 2]|true            |\n",
            "+------------+------+----------------+\n",
            "\n"
          ]
        }
      ]
    },
    {
      "cell_type": "code",
      "source": [
        "# array_except : get the except values from array1 to array2 like in set operation\n",
        "\n",
        "sql = '''\n",
        "with cte as\n",
        "(\n",
        "select\n",
        "    array(1,2,3,4) as array1,\n",
        "    array(1,2) as array2\n",
        ")\n",
        "select\n",
        "    array1,\n",
        "    array2,\n",
        "    array_except(array1,array2) as arrayExceptOut\n",
        "from cte\n",
        "'''\n",
        "spark.sql(sql).show(truncate = False)"
      ],
      "metadata": {
        "colab": {
          "base_uri": "https://localhost:8080/"
        },
        "id": "2KTVU6PfIUVQ",
        "outputId": "7a222cfa-5335-424c-de40-6c0d49763c10"
      },
      "execution_count": null,
      "outputs": [
        {
          "output_type": "stream",
          "name": "stdout",
          "text": [
            "+------------+------+--------------+\n",
            "|array1      |array2|arrayExceptOut|\n",
            "+------------+------+--------------+\n",
            "|[1, 2, 3, 4]|[1, 2]|[3, 4]        |\n",
            "+------------+------+--------------+\n",
            "\n"
          ]
        }
      ]
    },
    {
      "cell_type": "code",
      "source": [
        "# array_insert\n",
        "\n",
        "sql = '''\n",
        "with cte as\n",
        "(\n",
        "select\n",
        "  array(1,1,2,2,3,4) as arrayOut\n",
        ")\n",
        "select\n",
        "  arrayOut,\n",
        "  array_insert(arrayOut,2,100) array_insertOut\n",
        "from cte\n",
        "'''\n",
        "spark.sql(sql).show(truncate = False)"
      ],
      "metadata": {
        "colab": {
          "base_uri": "https://localhost:8080/"
        },
        "id": "B0GEG2VRMDXz",
        "outputId": "dc61645f-3286-4402-9ce8-a555154411a4"
      },
      "execution_count": null,
      "outputs": [
        {
          "output_type": "stream",
          "name": "stdout",
          "text": [
            "+------------------+-----------------------+\n",
            "|arrayOut          |array_insertOut        |\n",
            "+------------------+-----------------------+\n",
            "|[1, 1, 2, 2, 3, 4]|[1, 100, 1, 2, 2, 3, 4]|\n",
            "+------------------+-----------------------+\n",
            "\n"
          ]
        }
      ]
    },
    {
      "cell_type": "code",
      "source": [
        "# array_join\n",
        "\n",
        "sql = '''\n",
        "with cte as\n",
        "(\n",
        "select\n",
        "  array(1,1,2,2,3,4) as arrayOut\n",
        ")\n",
        "select\n",
        "  arrayOut,\n",
        "  array_join(arrayOut,'-') as array_joinOut\n",
        "from cte\n",
        "'''\n",
        "spark.sql(sql).show(truncate = False)\n",
        "\n",
        "sql = '''\n",
        "with cte as\n",
        "(\n",
        "select\n",
        "  array(1,NULL,2,NULL,3,4) as arrayOut\n",
        ")\n",
        "select\n",
        "  arrayOut,\n",
        "  array_join(arrayOut,'-') as array_joinOut\n",
        "from cte\n",
        "'''\n",
        "spark.sql(sql).show(truncate = False)\n",
        "\n",
        "sql = '''\n",
        "with cte as\n",
        "(\n",
        "select\n",
        "  array(1,NULL,2,NULL,3,4) as arrayOut\n",
        ")\n",
        "select\n",
        "  arrayOut,\n",
        "  array_join(arrayOut,'-','missing') as array_joinOut\n",
        "from cte\n",
        "'''\n",
        "spark.sql(sql).show(truncate = False)"
      ],
      "metadata": {
        "colab": {
          "base_uri": "https://localhost:8080/"
        },
        "id": "m976QAb2VfUQ",
        "outputId": "61ca724a-1f1a-4a8f-a063-8295867d36e3"
      },
      "execution_count": null,
      "outputs": [
        {
          "output_type": "stream",
          "name": "stdout",
          "text": [
            "+------------------+-------------+\n",
            "|arrayOut          |array_joinOut|\n",
            "+------------------+-------------+\n",
            "|[1, 1, 2, 2, 3, 4]|1-1-2-2-3-4  |\n",
            "+------------------+-------------+\n",
            "\n",
            "+------------------------+-------------+\n",
            "|arrayOut                |array_joinOut|\n",
            "+------------------------+-------------+\n",
            "|[1, NULL, 2, NULL, 3, 4]|1-2-3-4      |\n",
            "+------------------------+-------------+\n",
            "\n",
            "+------------------------+-----------------------+\n",
            "|arrayOut                |array_joinOut          |\n",
            "+------------------------+-----------------------+\n",
            "|[1, NULL, 2, NULL, 3, 4]|1-missing-2-missing-3-4|\n",
            "+------------------------+-----------------------+\n",
            "\n"
          ]
        }
      ]
    },
    {
      "cell_type": "code",
      "source": [
        "# array_max\n",
        "\n",
        "sql = '''\n",
        "with cte as\n",
        "(\n",
        "select\n",
        "  array(1,1,2,2,3,4) as arrayOut\n",
        ")\n",
        "select\n",
        "  arrayOut,\n",
        "  array_max(arrayOut) as array_maxOut\n",
        "from cte\n",
        "'''\n",
        "spark.sql(sql).show(truncate = False)"
      ],
      "metadata": {
        "colab": {
          "base_uri": "https://localhost:8080/"
        },
        "id": "fKakPMn0W8Tl",
        "outputId": "d2deb3a6-a824-412d-b339-5c898bf2c646"
      },
      "execution_count": null,
      "outputs": [
        {
          "output_type": "stream",
          "name": "stdout",
          "text": [
            "+------------------+------------+\n",
            "|arrayOut          |array_maxOut|\n",
            "+------------------+------------+\n",
            "|[1, 1, 2, 2, 3, 4]|4           |\n",
            "+------------------+------------+\n",
            "\n"
          ]
        }
      ]
    },
    {
      "cell_type": "code",
      "source": [
        "# array_min\n",
        "\n",
        "sql = '''\n",
        "with cte as\n",
        "(\n",
        "select\n",
        "  array(1,1,2,2,3,4) as arrayOut\n",
        ")\n",
        "select\n",
        "  arrayOut,\n",
        "  array_min(arrayOut) as array_minOut\n",
        "from cte\n",
        "'''\n",
        "spark.sql(sql).show(truncate = False)"
      ],
      "metadata": {
        "colab": {
          "base_uri": "https://localhost:8080/"
        },
        "id": "JzA0HM9VXalK",
        "outputId": "e60d6353-19bc-4dab-f70b-d26062bc8484"
      },
      "execution_count": null,
      "outputs": [
        {
          "output_type": "stream",
          "name": "stdout",
          "text": [
            "+------------------+------------+\n",
            "|arrayOut          |array_minOut|\n",
            "+------------------+------------+\n",
            "|[1, 1, 2, 2, 3, 4]|1           |\n",
            "+------------------+------------+\n",
            "\n"
          ]
        }
      ]
    },
    {
      "cell_type": "code",
      "source": [
        "# extracting an item from an array using []\n",
        "\n",
        "## if the index position does not match it will return NULL\n",
        "\n",
        "sql = '''\n",
        "with cte as\n",
        "(\n",
        "select\n",
        "  array(1,1,2,2,3,4) as arrayOut\n",
        ")\n",
        "select\n",
        "  arrayOut,\n",
        "  arrayOut[1] as arrayItem\n",
        "from cte\n",
        "'''\n",
        "spark.sql(sql).show(truncate = False)\n",
        "\n",
        "sql = '''\n",
        "with cte as\n",
        "(\n",
        "select\n",
        "  array(1,1,2,2,3,4) as arrayOut\n",
        ")\n",
        "select\n",
        "  arrayOut,\n",
        "  arrayOut[10] as arrayItem\n",
        "from cte\n",
        "'''\n",
        "spark.sql(sql).show(truncate = False)"
      ],
      "metadata": {
        "colab": {
          "base_uri": "https://localhost:8080/"
        },
        "id": "DI1lMA8xXkJK",
        "outputId": "9855c005-c43a-4cb1-e452-ea0da481492f"
      },
      "execution_count": null,
      "outputs": [
        {
          "output_type": "stream",
          "name": "stdout",
          "text": [
            "+------------------+---------+\n",
            "|arrayOut          |arrayItem|\n",
            "+------------------+---------+\n",
            "|[1, 1, 2, 2, 3, 4]|1        |\n",
            "+------------------+---------+\n",
            "\n",
            "+------------------+---------+\n",
            "|arrayOut          |arrayItem|\n",
            "+------------------+---------+\n",
            "|[1, 1, 2, 2, 3, 4]|NULL     |\n",
            "+------------------+---------+\n",
            "\n"
          ]
        }
      ]
    },
    {
      "cell_type": "code",
      "source": [
        "# get\n",
        "# if the index does not match it will return NULL\n",
        "\n",
        "sql = '''\n",
        "with cte as\n",
        "(\n",
        "select\n",
        "  array(1,1,2,2,3,4) as arrayOut\n",
        ")\n",
        "select\n",
        "  arrayOut,\n",
        "  get(arrayOut,1) as arrayItem\n",
        "from cte\n",
        "'''\n",
        "spark.sql(sql).show(truncate = False)\n",
        "\n",
        "sql = '''\n",
        "with cte as\n",
        "(\n",
        "select\n",
        "  array(1,1,2,2,3,4) as arrayOut\n",
        ")\n",
        "select\n",
        "  arrayOut,\n",
        "  get(arrayOut,10) as arrayItem\n",
        "from cte\n",
        "'''\n",
        "spark.sql(sql).show(truncate = False)"
      ],
      "metadata": {
        "colab": {
          "base_uri": "https://localhost:8080/"
        },
        "id": "J5mGIIy2V8sg",
        "outputId": "b5af157d-f3d4-44f0-e906-8ec7e3baa6b8"
      },
      "execution_count": null,
      "outputs": [
        {
          "output_type": "stream",
          "name": "stdout",
          "text": [
            "+------------------+---------+\n",
            "|arrayOut          |arrayItem|\n",
            "+------------------+---------+\n",
            "|[1, 1, 2, 2, 3, 4]|1        |\n",
            "+------------------+---------+\n",
            "\n",
            "+------------------+---------+\n",
            "|arrayOut          |arrayItem|\n",
            "+------------------+---------+\n",
            "|[1, 1, 2, 2, 3, 4]|NULL     |\n",
            "+------------------+---------+\n",
            "\n"
          ]
        }
      ]
    },
    {
      "cell_type": "code",
      "source": [
        "# array_position\n",
        "\n",
        "# in case of the index positio  does not match, it will [[[[ return 0 ]]]] , >>>> (NOT NULL)\n",
        "\n",
        "sql = '''\n",
        "with cte as\n",
        "(\n",
        "select\n",
        "  array(1,1,2,2,3,4) as arrayOut\n",
        ")\n",
        "select\n",
        "  arrayOut,\n",
        "  array_position(arrayOut,1) as arrayItem\n",
        "from cte\n",
        "'''\n",
        "spark.sql(sql).show(truncate = False)\n",
        "\n",
        "sql = '''\n",
        "with cte as\n",
        "(\n",
        "select\n",
        "  array(1,1,2,2,3,4) as arrayOut\n",
        ")\n",
        "select\n",
        "  arrayOut,\n",
        "  array_position(arrayOut,10) as arrayItem\n",
        "from cte\n",
        "'''\n",
        "spark.sql(sql).show(truncate = False)"
      ],
      "metadata": {
        "colab": {
          "base_uri": "https://localhost:8080/"
        },
        "id": "0mf4hb7LXzI7",
        "outputId": "117c3a1d-23a0-464c-c72f-ed465a4bbe24"
      },
      "execution_count": null,
      "outputs": [
        {
          "output_type": "stream",
          "name": "stdout",
          "text": [
            "+------------------+---------+\n",
            "|arrayOut          |arrayItem|\n",
            "+------------------+---------+\n",
            "|[1, 1, 2, 2, 3, 4]|1        |\n",
            "+------------------+---------+\n",
            "\n",
            "+------------------+---------+\n",
            "|arrayOut          |arrayItem|\n",
            "+------------------+---------+\n",
            "|[1, 1, 2, 2, 3, 4]|0        |\n",
            "+------------------+---------+\n",
            "\n"
          ]
        }
      ]
    },
    {
      "cell_type": "code",
      "source": [
        "|}# array_repeat\n",
        "\n",
        "sql = '''\n",
        "with cte as\n",
        "(\n",
        "select\n",
        "  array(1,2,3) as arrayOut\n",
        ")\n",
        "select\n",
        "  arrayOut,\n",
        "  array_repeat(arrayOut,3) as array_repeatOut\n",
        "from cte\n",
        "'''\n",
        "spark.sql(sql).show(truncate = False)"
      ],
      "metadata": {
        "colab": {
          "base_uri": "https://localhost:8080/"
        },
        "id": "c5hM9wjFYttf",
        "outputId": "14d7d06d-1836-4765-b412-d4b44b64133b"
      },
      "execution_count": null,
      "outputs": [
        {
          "output_type": "stream",
          "name": "stdout",
          "text": [
            "+---------+---------------------------------+\n",
            "|arrayOut |array_repeatOut                  |\n",
            "+---------+---------------------------------+\n",
            "|[1, 2, 3]|[[1, 2, 3], [1, 2, 3], [1, 2, 3]]|\n",
            "+---------+---------------------------------+\n",
            "\n"
          ]
        }
      ]
    },
    {
      "cell_type": "code",
      "source": [
        "# arrays_zip\n",
        "\n",
        "sql = '''\n",
        "with cte as\n",
        "(\n",
        "select\n",
        "  array(1,2,3) as array1,\n",
        "  array(1,2,3) as array2\n",
        ")\n",
        "select\n",
        "  array1,\n",
        "  array2,\n",
        "  arrays_zip(array1,array2) as array_zipOut\n",
        "from cte\n",
        "'''\n",
        "spark.sql(sql).show(truncate = False)"
      ],
      "metadata": {
        "id": "hddHV21pY1Tc",
        "colab": {
          "base_uri": "https://localhost:8080/"
        },
        "outputId": "7ee47dc7-5a53-4d1c-ab5c-a96dca79e5f0"
      },
      "execution_count": null,
      "outputs": [
        {
          "output_type": "stream",
          "name": "stdout",
          "text": [
            "+---------+---------+------------------------+\n",
            "|array1   |array2   |array_zipOut            |\n",
            "+---------+---------+------------------------+\n",
            "|[1, 2, 3]|[1, 2, 3]|[{1, 1}, {2, 2}, {3, 3}]|\n",
            "+---------+---------+------------------------+\n",
            "\n"
          ]
        }
      ]
    },
    {
      "cell_type": "code",
      "source": [
        "# flatten\n",
        "\n",
        "sql = '''\n",
        "with cte as\n",
        "(\n",
        "  select array(array(1),array(2),array(4,5)) as array1\n",
        ")\n",
        "select array1,\n",
        "flatten(array1) as arrayflattenOut\n",
        "from cte'''\n",
        "\n",
        "spark.sql(sql).show(truncate = False)"
      ],
      "metadata": {
        "colab": {
          "base_uri": "https://localhost:8080/"
        },
        "id": "L38xbW9_T7Gu",
        "outputId": "7cf6197c-3050-4961-c191-3345fedcb411"
      },
      "execution_count": null,
      "outputs": [
        {
          "output_type": "stream",
          "name": "stdout",
          "text": [
            "+------------------+---------------+\n",
            "|array1            |arrayflattenOut|\n",
            "+------------------+---------------+\n",
            "|[[1], [2], [4, 5]]|[1, 2, 4, 5]   |\n",
            "+------------------+---------------+\n",
            "\n"
          ]
        }
      ]
    },
    {
      "cell_type": "code",
      "source": [
        "# sequence : generate an array from start end and step count\n",
        "\n",
        "sql = '''\n",
        "with cte as\n",
        "(\n",
        "select sequence(1,12,2) as generatedArray\n",
        ")\n",
        "select generatedArray, TypeOf(generatedArray) as typeOut\n",
        "from cte\n",
        "'''\n",
        "spark.sql(sql).show(truncate = False)\n",
        "\n",
        "##---\n",
        "\n",
        "sql = '''\n",
        "with cte as\n",
        "(\n",
        "select sequence(10,0,-1) as generatedArray\n",
        ")\n",
        "select generatedArray, TypeOf(generatedArray) as typeOut\n",
        "from cte\n",
        "'''\n",
        "spark.sql(sql).show(truncate = False)"
      ],
      "metadata": {
        "colab": {
          "base_uri": "https://localhost:8080/"
        },
        "id": "zi4rflYuVTIn",
        "outputId": "917d86e1-7bbc-40ac-a3f5-6a47951177ef"
      },
      "execution_count": null,
      "outputs": [
        {
          "output_type": "stream",
          "name": "stdout",
          "text": [
            "+-------------------+----------+\n",
            "|generatedArray     |typeOut   |\n",
            "+-------------------+----------+\n",
            "|[1, 3, 5, 7, 9, 11]|array<int>|\n",
            "+-------------------+----------+\n",
            "\n",
            "+----------------------------------+----------+\n",
            "|generatedArray                    |typeOut   |\n",
            "+----------------------------------+----------+\n",
            "|[10, 9, 8, 7, 6, 5, 4, 3, 2, 1, 0]|array<int>|\n",
            "+----------------------------------+----------+\n",
            "\n"
          ]
        }
      ]
    },
    {
      "cell_type": "code",
      "source": [
        "# shuffle : create a random pormutation of the given array\n",
        "\n",
        "sql = '''\n",
        "with cte as\n",
        "(\n",
        "select sequence(10,0,-1) as generatedArray\n",
        ")\n",
        "select generatedArray, shuffle(generatedArray) as shuffleOut\n",
        "from cte\n",
        "'''\n",
        "spark.sql(sql).show(truncate = False)"
      ],
      "metadata": {
        "colab": {
          "base_uri": "https://localhost:8080/"
        },
        "id": "6bKkwvuWXU-2",
        "outputId": "962e2d6e-b8da-426a-9e35-2562943519b9"
      },
      "execution_count": null,
      "outputs": [
        {
          "output_type": "stream",
          "name": "stdout",
          "text": [
            "+----------------------------------+----------------------------------+\n",
            "|generatedArray                    |shuffleOut                        |\n",
            "+----------------------------------+----------------------------------+\n",
            "|[10, 9, 8, 7, 6, 5, 4, 3, 2, 1, 0]|[3, 0, 4, 1, 2, 8, 6, 5, 10, 7, 9]|\n",
            "+----------------------------------+----------------------------------+\n",
            "\n"
          ]
        }
      ]
    },
    {
      "cell_type": "code",
      "source": [
        "# slice : to slice an array with start index and length\n",
        "\n",
        "sql = '''\n",
        "with cte as\n",
        "(\n",
        "select sequence(10,0,-1) as generatedArray\n",
        ")\n",
        "select generatedArray, slice(generatedArray,3,5) as sliceOut\n",
        "from cte\n",
        "'''\n",
        "spark.sql(sql).show(truncate = False)"
      ],
      "metadata": {
        "colab": {
          "base_uri": "https://localhost:8080/"
        },
        "id": "mI5PdPYjWxm7",
        "outputId": "ca671516-fbf7-448a-e43f-1b5674b7fa0d"
      },
      "execution_count": null,
      "outputs": [
        {
          "output_type": "stream",
          "name": "stdout",
          "text": [
            "+----------------------------------+---------------+\n",
            "|generatedArray                    |sliceOut       |\n",
            "+----------------------------------+---------------+\n",
            "|[10, 9, 8, 7, 6, 5, 4, 3, 2, 1, 0]|[8, 7, 6, 5, 4]|\n",
            "+----------------------------------+---------------+\n",
            "\n"
          ]
        }
      ]
    },
    {
      "cell_type": "code",
      "source": [
        "# sort_array : sorting an array ascending and descending\n",
        "\n",
        "sql = '''\n",
        "with cte as\n",
        "(\n",
        "select shuffle(sequence(10,0,-1)) as generatedArray\n",
        ")\n",
        "select generatedArray,\n",
        "sort_array(generatedArray) as sort_arrayOutASC,\n",
        "sort_array(generatedArray,False) as sort_arrayOutDESC\n",
        "from cte\n",
        "'''\n",
        "spark.sql(sql).show(truncate = False)"
      ],
      "metadata": {
        "colab": {
          "base_uri": "https://localhost:8080/"
        },
        "id": "PbNoEICZYDIE",
        "outputId": "8edac254-32c1-49dd-a307-f55b4722e135"
      },
      "execution_count": null,
      "outputs": [
        {
          "output_type": "stream",
          "name": "stdout",
          "text": [
            "+----------------------------------+----------------------------------+----------------------------------+\n",
            "|generatedArray                    |sort_arrayOutASC                  |sort_arrayOutDESC                 |\n",
            "+----------------------------------+----------------------------------+----------------------------------+\n",
            "|[5, 6, 4, 9, 0, 8, 2, 10, 3, 1, 7]|[0, 1, 2, 3, 4, 5, 6, 7, 8, 9, 10]|[10, 9, 8, 7, 6, 5, 4, 3, 2, 1, 0]|\n",
            "+----------------------------------+----------------------------------+----------------------------------+\n",
            "\n"
          ]
        }
      ]
    },
    {
      "cell_type": "code",
      "source": [],
      "metadata": {
        "id": "kRvyHYO2Yr7d"
      },
      "execution_count": null,
      "outputs": []
    }
  ]
}