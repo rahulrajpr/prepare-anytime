{
  "nbformat": 4,
  "nbformat_minor": 0,
  "metadata": {
    "colab": {
      "provenance": [],
      "authorship_tag": "ABX9TyMb9if1Vo1UEkWLki4NY6sL",
      "include_colab_link": true
    },
    "kernelspec": {
      "name": "python3",
      "display_name": "Python 3"
    },
    "language_info": {
      "name": "python"
    }
  },
  "cells": [
    {
      "cell_type": "markdown",
      "metadata": {
        "id": "view-in-github",
        "colab_type": "text"
      },
      "source": [
        "<a href=\"https://colab.research.google.com/github/rahulrajpr/prepare-anytime/blob/main/spark/functions/11_spark_sql_csv_functions.ipynb\" target=\"_parent\"><img src=\"https://colab.research.google.com/assets/colab-badge.svg\" alt=\"Open In Colab\"/></a>"
      ]
    },
    {
      "cell_type": "markdown",
      "source": [
        "# **Spark CSV Functions**\n",
        "https://spark.apache.org/docs/latest/sql-ref-functions-builtin.html#csv-functions"
      ],
      "metadata": {
        "id": "UACg3r1RxEzw"
      }
    },
    {
      "cell_type": "code",
      "execution_count": null,
      "metadata": {
        "id": "hq0Sau2Tw78B"
      },
      "outputs": [],
      "source": [
        "from pyspark.sql import SparkSession\n",
        "spark = SparkSession.builder.appName('spark-functions').getOrCreate()"
      ]
    },
    {
      "cell_type": "code",
      "source": [
        "csv_string = '''rahul,data-engineer,28'''"
      ],
      "metadata": {
        "id": "Faffi1MpVG3x"
      },
      "execution_count": null,
      "outputs": []
    },
    {
      "cell_type": "code",
      "source": [
        "# schema of csv\n",
        "\n",
        "sql = f'''select schema_of_csv('{csv_string}') as schema_csv'''\n",
        "spark.sql(sql).show(truncate = False)\n",
        "\n",
        "sql = f'''select schema_of_csv('{csv_string}') as schema_csv'''\n",
        "schema_string = spark.sql(sql).first()[0]\n",
        "schema_string = schema_string.replace('_c0','name').replace('_c1','profession').replace('_c2','age')"
      ],
      "metadata": {
        "colab": {
          "base_uri": "https://localhost:8080/"
        },
        "id": "WBJXBBMyVIJl",
        "outputId": "0f5d094c-1a07-4861-f1b0-14d3d7b7bbdc"
      },
      "execution_count": null,
      "outputs": [
        {
          "output_type": "stream",
          "name": "stdout",
          "text": [
            "+------------------------------------------+\n",
            "|schema_csv                                |\n",
            "+------------------------------------------+\n",
            "|STRUCT<_c0: STRING, _c1: STRING, _c2: INT>|\n",
            "+------------------------------------------+\n",
            "\n"
          ]
        }
      ]
    },
    {
      "cell_type": "code",
      "source": [
        "# from_csv : converting a csv into a struct\n",
        "\n",
        "sql = f'''\n",
        "select\n",
        "    from_csv('{csv_string}','{schema_string}') as parsed_csv_struct\n",
        "'''\n",
        "spark.sql(sql).show(truncate = False)\n",
        "spark.sql(sql).printSchema()"
      ],
      "metadata": {
        "colab": {
          "base_uri": "https://localhost:8080/"
        },
        "id": "ncC3KvjjxUVO",
        "outputId": "0bcb56f3-f8d6-4f99-c6f7-94ce87ba3051"
      },
      "execution_count": null,
      "outputs": [
        {
          "output_type": "stream",
          "name": "stdout",
          "text": [
            "+--------------------------+\n",
            "|parsed_csv_struct         |\n",
            "+--------------------------+\n",
            "|{rahul, data-engineer, 28}|\n",
            "+--------------------------+\n",
            "\n",
            "root\n",
            " |-- parsed_csv_struct: struct (nullable = false)\n",
            " |    |-- name: string (nullable = true)\n",
            " |    |-- profession: string (nullable = true)\n",
            " |    |-- age: integer (nullable = true)\n",
            "\n"
          ]
        }
      ]
    },
    {
      "cell_type": "code",
      "source": [
        "from os import truncate\n",
        "# to_csv\n",
        "\n",
        "sql = f'''\n",
        "with cte as\n",
        "(\n",
        "  select\n",
        "    from_csv('{csv_string}','{schema_string}') as parsed_csv_struct\n",
        ")\n",
        "select to_csv(parsed_csv_struct) as csv_content\n",
        "from cte\n",
        "'''\n",
        "spark.sql(sql).show(truncate = False)"
      ],
      "metadata": {
        "colab": {
          "base_uri": "https://localhost:8080/"
        },
        "id": "K93oLwSTye3G",
        "outputId": "bd820262-457c-4c98-a5e3-6c2f7be1be9b"
      },
      "execution_count": null,
      "outputs": [
        {
          "output_type": "stream",
          "name": "stdout",
          "text": [
            "+----------------------+\n",
            "|csv_content           |\n",
            "+----------------------+\n",
            "|rahul,data-engineer,28|\n",
            "+----------------------+\n",
            "\n"
          ]
        }
      ]
    }
  ]
}