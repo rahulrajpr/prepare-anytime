{
  "nbformat": 4,
  "nbformat_minor": 0,
  "metadata": {
    "colab": {
      "provenance": [],
      "authorship_tag": "ABX9TyMartFW4LYeTTqD4My9lwGJ",
      "include_colab_link": true
    },
    "kernelspec": {
      "name": "python3",
      "display_name": "Python 3"
    },
    "language_info": {
      "name": "python"
    }
  },
  "cells": [
    {
      "cell_type": "markdown",
      "metadata": {
        "id": "view-in-github",
        "colab_type": "text"
      },
      "source": [
        "<a href=\"https://colab.research.google.com/github/rahulrajpr/prepare-anytime/blob/main/spark/functions/6_spark_sql_struct_functions.ipynb\" target=\"_parent\"><img src=\"https://colab.research.google.com/assets/colab-badge.svg\" alt=\"Open In Colab\"/></a>"
      ]
    },
    {
      "cell_type": "markdown",
      "source": [
        "# Spark Struct Functions\n",
        "https://spark.apache.org/docs/latest/sql-ref-functions-builtin.html#struct-functions"
      ],
      "metadata": {
        "id": "dwBGI4zOps84"
      }
    },
    {
      "cell_type": "markdown",
      "source": [
        "> A **Struct** in **Apache Spark** is a **complex column type** that allows you to represent **nested or hierarchical data** within a **DataFrame**.  \n",
        "> It enables defining a **schema with multiple subfields** inside a single column, providing a **structured and efficient way** to store and query **semi-structured data** such as **JSON** or **Parquet**.\n"
      ],
      "metadata": {
        "id": "ekUAqlaoula3"
      }
    },
    {
      "cell_type": "code",
      "execution_count": null,
      "metadata": {
        "id": "Ka3YPDb9pkxX"
      },
      "outputs": [],
      "source": [
        "from pyspark.sql import SparkSession\n",
        "spark = SparkSession.builder.appName('spark-functions').getOrCreate()"
      ]
    },
    {
      "cell_type": "code",
      "source": [
        "# named_struct\n",
        "\n",
        "sql = '''\n",
        "create or replace temp view sample_view as\n",
        "(\n",
        "select 'rahul' as name,\n",
        "        32 as age,\n",
        "        named_struct('city','muvattupuzha',\n",
        "                     'state','kerala',\n",
        "                     'zip',686669) as address\n",
        ")\n",
        "'''\n",
        "spark.sql(sql)\n",
        "\n",
        "sql = '''\n",
        "select *,\n",
        "  address.city as city,\n",
        "  address.state as state,\n",
        "  address.zip as zip\n",
        "from sample_view'''\n",
        "\n",
        "spark.sql(sql).show(truncate = False)"
      ],
      "metadata": {
        "colab": {
          "base_uri": "https://localhost:8080/"
        },
        "id": "YfX0buWauwxB",
        "outputId": "58676984-b22a-431d-b8ed-3a309590541c"
      },
      "execution_count": null,
      "outputs": [
        {
          "output_type": "stream",
          "name": "stdout",
          "text": [
            "+-----+---+------------------------------+------------+------+------+\n",
            "|name |age|address                       |city        |state |zip   |\n",
            "+-----+---+------------------------------+------------+------+------+\n",
            "|rahul|32 |{muvattupuzha, kerala, 686669}|muvattupuzha|kerala|686669|\n",
            "+-----+---+------------------------------+------------+------+------+\n",
            "\n"
          ]
        }
      ]
    },
    {
      "cell_type": "code",
      "source": [
        "sql = '''\n",
        "create or replace temp view sample_view2 as\n",
        "(\n",
        "select *\n",
        "from sample_view\n",
        "union all\n",
        "select\n",
        "  'lathika' as name,\n",
        "   32 as age,\n",
        "   struct('kalady','kerala',686669) as address\n",
        ")\n",
        "'''\n",
        "spark.sql(sql)\n",
        "\n",
        "sql = '''\n",
        "select *,\n",
        "  address.city as city,\n",
        "  address.state as state,\n",
        "  address.zip as zip\n",
        "from sample_view2'''\n",
        "\n",
        "spark.sql(sql).show(truncate = False)"
      ],
      "metadata": {
        "colab": {
          "base_uri": "https://localhost:8080/"
        },
        "id": "MOmIdXOL6Atz",
        "outputId": "7931e0f8-7275-4782-93c1-cfa96c0df20e"
      },
      "execution_count": null,
      "outputs": [
        {
          "output_type": "stream",
          "name": "stdout",
          "text": [
            "+-------+---+------------------------------+------------+------+------+\n",
            "|name   |age|address                       |city        |state |zip   |\n",
            "+-------+---+------------------------------+------------+------+------+\n",
            "|rahul  |32 |{muvattupuzha, kerala, 686669}|muvattupuzha|kerala|686669|\n",
            "|lathika|32 |{kalady, kerala, 686669}      |kalady      |kerala|686669|\n",
            "+-------+---+------------------------------+------------+------+------+\n",
            "\n"
          ]
        }
      ]
    },
    {
      "cell_type": "markdown",
      "source": [
        "| Feature | `named_struct` | `struct` |\n",
        "|---------|----------------|-----------|\n",
        "| **Purpose** | Create a struct with **explicit field names** | Create a struct from **existing values or columns**, field names come from input |\n",
        "| **Syntax** | `named_struct('field1', val1, 'field2', val2, ...)` | `struct(val1, val2, ...)` |\n",
        "| **Field Names** | You **define the names explicitly** (`city`, `state`, `zip`) | Field names are **auto-generated** (`_1`, `_2`, `_3`) if using literals, or same as column names if using columns |\n",
        "| **Usage Example** | `named_struct('city','muvattupuzha','state','kerala','zip',686669)` | `struct('kalady','kerala',686669)` |\n",
        "| **Access Fields** | Use dot notation: `address.city`, `address.state`, `address.zip` | Use dot notation **only works if fields have names** (with literals, default names may be `_1`, `_2`, `_3`) |\n",
        "| **When to Use** | When you need **custom field names** and clarity in schema | When you want **quick struct grouping** of columns or literals and don’t need custom names |\n",
        "| **Schema Output in your Example** | `address: struct<city:string,state:string,zip:int>` | `address: struct<_1:string,_2:string,_3:int>` (auto field names) |\n"
      ],
      "metadata": {
        "id": "d8IiqXCj9K_1"
      }
    },
    {
      "cell_type": "code",
      "source": [],
      "metadata": {
        "id": "02Yn_D9gEQkE"
      },
      "execution_count": null,
      "outputs": []
    }
  ]
}