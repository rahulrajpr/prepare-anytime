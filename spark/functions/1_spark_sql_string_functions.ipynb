{
  "nbformat": 4,
  "nbformat_minor": 0,
  "metadata": {
    "colab": {
      "provenance": [],
      "authorship_tag": "ABX9TyPk59m9GH+IaJW0viHe40z6",
      "include_colab_link": true
    },
    "kernelspec": {
      "name": "python3",
      "display_name": "Python 3"
    },
    "language_info": {
      "name": "python"
    }
  },
  "cells": [
    {
      "cell_type": "markdown",
      "metadata": {
        "id": "view-in-github",
        "colab_type": "text"
      },
      "source": [
        "<a href=\"https://colab.research.google.com/github/rahulrajpr/prepare-anytime/blob/main/spark/functions/1_spark_sql_string_functions.ipynb\" target=\"_parent\"><img src=\"https://colab.research.google.com/assets/colab-badge.svg\" alt=\"Open In Colab\"/></a>"
      ]
    },
    {
      "cell_type": "markdown",
      "source": [
        "# Spark String Functions\n",
        "https://spark.apache.org/docs/latest/sql-ref-functions-builtin.html#string-functions"
      ],
      "metadata": {
        "id": "Z3w6SCiZlYar"
      }
    },
    {
      "cell_type": "code",
      "execution_count": null,
      "metadata": {
        "colab": {
          "base_uri": "https://localhost:8080/"
        },
        "id": "EI5ENButTTX1",
        "outputId": "79297a8f-8bd1-4719-84bb-21fda05e8aed"
      },
      "outputs": [
        {
          "output_type": "stream",
          "name": "stdout",
          "text": [
            "Requirement already satisfied: pyspark in /usr/local/lib/python3.12/dist-packages (3.5.1)\n",
            "Requirement already satisfied: py4j==0.10.9.7 in /usr/local/lib/python3.12/dist-packages (from pyspark) (0.10.9.7)\n"
          ]
        }
      ],
      "source": [
        "!pip install pyspark"
      ]
    },
    {
      "cell_type": "code",
      "source": [
        "from pyspark.sql import SparkSession\n",
        "spark = SparkSession.builder.appName('sql_functions').getOrCreate()"
      ],
      "metadata": {
        "id": "PExLbybSTehE"
      },
      "execution_count": null,
      "outputs": []
    },
    {
      "cell_type": "code",
      "source": [
        "sql = 'select 1 as col'\n",
        "spark.sql(sql).show(truncate = False)"
      ],
      "metadata": {
        "colab": {
          "base_uri": "https://localhost:8080/"
        },
        "id": "p7Y8ruW-UCsh",
        "outputId": "5c4b69b6-c09a-437d-9c7d-ec678ef9cf97"
      },
      "execution_count": null,
      "outputs": [
        {
          "output_type": "stream",
          "name": "stdout",
          "text": [
            "+---+\n",
            "|col|\n",
            "+---+\n",
            "|1  |\n",
            "+---+\n",
            "\n"
          ]
        }
      ]
    },
    {
      "cell_type": "code",
      "source": [
        "## BTRIM (alias for trim)\n",
        "\n",
        "sql = '''SELECT BTRIM(' Rahul') AS trimmedString'''\n",
        "\n",
        "spark.sql(sql).show(truncate = False)"
      ],
      "metadata": {
        "colab": {
          "base_uri": "https://localhost:8080/"
        },
        "id": "YzT5XNM-U0lS",
        "outputId": "9483015e-3fa3-466a-bacf-54674182709c"
      },
      "execution_count": null,
      "outputs": [
        {
          "output_type": "stream",
          "name": "stdout",
          "text": [
            "+-------------+\n",
            "|trimmedString|\n",
            "+-------------+\n",
            "|Rahul        |\n",
            "+-------------+\n",
            "\n"
          ]
        }
      ]
    },
    {
      "cell_type": "code",
      "source": [
        "## trim : (alias for btrim)\n",
        "\n",
        "sql = '''SELECT trim(' Rahul') AS trimmedString'''\n",
        "\n",
        "spark.sql(sql).show(truncate = False)"
      ],
      "metadata": {
        "colab": {
          "base_uri": "https://localhost:8080/"
        },
        "id": "M-ViOR6AhPpk",
        "outputId": "5a9546bc-7696-47a8-9612-aa1e671062a8"
      },
      "execution_count": null,
      "outputs": [
        {
          "output_type": "stream",
          "name": "stdout",
          "text": [
            "+-------------+\n",
            "|trimmedString|\n",
            "+-------------+\n",
            "|Rahul        |\n",
            "+-------------+\n",
            "\n"
          ]
        }
      ]
    },
    {
      "cell_type": "code",
      "source": [
        "## ltrim : (trim to the left)\n",
        "\n",
        "sql = '''SELECT ltrim(' Rahul') AS trimmedString'''\n",
        "\n",
        "spark.sql(sql).show(truncate = False)"
      ],
      "metadata": {
        "colab": {
          "base_uri": "https://localhost:8080/"
        },
        "id": "IFSDPKZ0hPZN",
        "outputId": "70637d71-9921-452e-8d34-745c76aa912b"
      },
      "execution_count": null,
      "outputs": [
        {
          "output_type": "stream",
          "name": "stdout",
          "text": [
            "+-------------+\n",
            "|trimmedString|\n",
            "+-------------+\n",
            "|Rahul        |\n",
            "+-------------+\n",
            "\n"
          ]
        }
      ]
    },
    {
      "cell_type": "code",
      "source": [
        "## rtrim : (trim to the right)\n",
        "\n",
        "sql = '''SELECT rtrim('Rahul ') AS trimmedString'''\n",
        "\n",
        "spark.sql(sql).show(truncate = False)"
      ],
      "metadata": {
        "colab": {
          "base_uri": "https://localhost:8080/"
        },
        "id": "wWMjR8cWhiYG",
        "outputId": "3665408b-6582-495d-f28d-20979fe567d8"
      },
      "execution_count": null,
      "outputs": [
        {
          "output_type": "stream",
          "name": "stdout",
          "text": [
            "+-------------+\n",
            "|trimmedString|\n",
            "+-------------+\n",
            "|Rahul        |\n",
            "+-------------+\n",
            "\n"
          ]
        }
      ]
    },
    {
      "cell_type": "code",
      "source": [
        "## char_length : return the length of the charactor, synonym for len\n",
        "\n",
        "sql = '''SELECT char_length('Rahul') AS lengthChar'''\n",
        "\n",
        "spark.sql(sql).show(truncate = False)"
      ],
      "metadata": {
        "colab": {
          "base_uri": "https://localhost:8080/"
        },
        "id": "YeFqUcCOULtC",
        "outputId": "5785a74c-74fa-4788-cd5d-640dddb626d0"
      },
      "execution_count": null,
      "outputs": [
        {
          "output_type": "stream",
          "name": "stdout",
          "text": [
            "+----------+\n",
            "|lengthChar|\n",
            "+----------+\n",
            "|5         |\n",
            "+----------+\n",
            "\n"
          ]
        }
      ]
    },
    {
      "cell_type": "code",
      "source": [
        "## len : return the length of the charactor, synonym for char_length\n",
        "\n",
        "sql = '''SELECT len('Rahul') AS lengthChar'''\n",
        "\n",
        "spark.sql(sql).show(truncate = False)"
      ],
      "metadata": {
        "colab": {
          "base_uri": "https://localhost:8080/"
        },
        "id": "ALISLfc-fYkl",
        "outputId": "f27a6cb5-3457-431a-c9c9-93d5b685676e"
      },
      "execution_count": null,
      "outputs": [
        {
          "output_type": "stream",
          "name": "stdout",
          "text": [
            "+----------+\n",
            "|lengthChar|\n",
            "+----------+\n",
            "|5         |\n",
            "+----------+\n",
            "\n"
          ]
        }
      ]
    },
    {
      "cell_type": "code",
      "source": [
        "## length : return the length of the charactor, synonym for len\n",
        "\n",
        "sql = '''SELECT length('Rahul') AS lengthChar'''\n",
        "\n",
        "spark.sql(sql).show(truncate = False)"
      ],
      "metadata": {
        "colab": {
          "base_uri": "https://localhost:8080/"
        },
        "id": "T_HUY2Y3frHz",
        "outputId": "bccc8632-3e8b-4067-a9d1-ae44205eab2a"
      },
      "execution_count": null,
      "outputs": [
        {
          "output_type": "stream",
          "name": "stdout",
          "text": [
            "+----------+\n",
            "|lengthChar|\n",
            "+----------+\n",
            "|5         |\n",
            "+----------+\n",
            "\n"
          ]
        }
      ]
    },
    {
      "cell_type": "code",
      "source": [
        "## concat_ws : concatinating different columns with specified delimeter\n",
        "\n",
        "sql = '''SELECT concat_ws('-','Rahul','Raj') AS concat_ws_output'''\n",
        "\n",
        "spark.sql(sql).show(truncate = False)"
      ],
      "metadata": {
        "colab": {
          "base_uri": "https://localhost:8080/"
        },
        "id": "2xg_20BwxoFv",
        "outputId": "481321b6-0092-4bd0-886f-08d995356c2a"
      },
      "execution_count": null,
      "outputs": [
        {
          "output_type": "stream",
          "name": "stdout",
          "text": [
            "+----------------+\n",
            "|concat_ws_output|\n",
            "+----------------+\n",
            "|Rahul-Raj       |\n",
            "+----------------+\n",
            "\n"
          ]
        }
      ]
    },
    {
      "cell_type": "code",
      "source": [
        "## contains : check if a substring is conatined within a master string and return True or False\n",
        "\n",
        "sql = '''SELECT contains('Rahul Raj','Raj') AS isContains'''\n",
        "\n",
        "spark.sql(sql).show(truncate = False)"
      ],
      "metadata": {
        "colab": {
          "base_uri": "https://localhost:8080/"
        },
        "id": "Tv4O0TKS3smW",
        "outputId": "97e48886-2786-4619-90f2-60861f7590c2"
      },
      "execution_count": null,
      "outputs": [
        {
          "output_type": "stream",
          "name": "stdout",
          "text": [
            "+----------+\n",
            "|isContains|\n",
            "+----------+\n",
            "|true      |\n",
            "+----------+\n",
            "\n"
          ]
        }
      ]
    },
    {
      "cell_type": "code",
      "source": [
        "## elt : return the value from the list of volumns by specified column index\n",
        "\n",
        "sql = '''SELECT elt(2,'Rahul','Skylr','lathika') AS elt_output'''\n",
        "\n",
        "spark.sql(sql).show(truncate = False)"
      ],
      "metadata": {
        "colab": {
          "base_uri": "https://localhost:8080/"
        },
        "id": "92KDIWwv4snL",
        "outputId": "ababb960-32fa-4a62-a999-83765dcfbe92"
      },
      "execution_count": null,
      "outputs": [
        {
          "output_type": "stream",
          "name": "stdout",
          "text": [
            "+----------+\n",
            "|elt_output|\n",
            "+----------+\n",
            "|Skylr     |\n",
            "+----------+\n",
            "\n"
          ]
        }
      ]
    },
    {
      "cell_type": "code",
      "source": [
        "## startswith : startswith checks a string string starts with a sub string\n",
        "\n",
        "sql = '''SELECT startswith('Bangalore','Ba') AS isStartsWith'''\n",
        "\n",
        "spark.sql(sql).show(truncate = False)"
      ],
      "metadata": {
        "colab": {
          "base_uri": "https://localhost:8080/"
        },
        "id": "1hzfTMLgmzDR",
        "outputId": "4fa0bd1c-88cb-4551-bace-aa45cce03b26"
      },
      "execution_count": null,
      "outputs": [
        {
          "output_type": "stream",
          "name": "stdout",
          "text": [
            "+------------+\n",
            "|isStartsWith|\n",
            "+------------+\n",
            "|true        |\n",
            "+------------+\n",
            "\n"
          ]
        }
      ]
    },
    {
      "cell_type": "code",
      "source": [
        "## endswith : checks if the string endwith a particular sub-string and return True or False\n",
        "\n",
        "sql = '''SELECT endswith('Bangalore','ore') AS isEndsWith'''\n",
        "\n",
        "spark.sql(sql).show(truncate = False)"
      ],
      "metadata": {
        "colab": {
          "base_uri": "https://localhost:8080/"
        },
        "id": "iJkEBxiK5ioI",
        "outputId": "1ae9459c-2829-47c7-bd58-13b65b8503ac"
      },
      "execution_count": null,
      "outputs": [
        {
          "output_type": "stream",
          "name": "stdout",
          "text": [
            "+----------+\n",
            "|isEndsWith|\n",
            "+----------+\n",
            "|true      |\n",
            "+----------+\n",
            "\n"
          ]
        }
      ]
    },
    {
      "cell_type": "code",
      "source": [
        "## find_in_set : return 1 in case as string in part of the array of strings\n",
        "\n",
        "sql = '''SELECT find_in_set('rahul','rahul,lathika,skylr') AS inSet'''\n",
        "\n",
        "spark.sql(sql).show(truncate = False)"
      ],
      "metadata": {
        "colab": {
          "base_uri": "https://localhost:8080/"
        },
        "id": "Kd-DzupI6EmR",
        "outputId": "380460ba-8582-4fa8-8770-64a6fc922411"
      },
      "execution_count": null,
      "outputs": [
        {
          "output_type": "stream",
          "name": "stdout",
          "text": [
            "+-----+\n",
            "|inSet|\n",
            "+-----+\n",
            "|1    |\n",
            "+-----+\n",
            "\n"
          ]
        }
      ]
    },
    {
      "cell_type": "code",
      "source": [
        "## format_number : return the striglified version of a numeber based on the format specified\n",
        "## this return a s string\n",
        "\n",
        "sql = '''SELECT format_number(123,'000') AS formatted_numeber'''\n",
        "spark.sql(sql).show(truncate = False)\n",
        "\n",
        "sql = '''SELECT format_number(123,'0000') AS formatted_numeber'''\n",
        "spark.sql(sql).show(truncate = False)\n",
        "\n",
        "sql = '''SELECT format_number(123,'000.00') AS formatted_numeber'''\n",
        "spark.sql(sql).show(truncate = False)\n",
        "\n",
        "sql = '''SELECT format_number(123,'$000.00') AS formatted_numeber'''\n",
        "spark.sql(sql).show(truncate = False)\n",
        "\n",
        "sql = '''SELECT format_number(12345,'0,000') AS formatted_numeber'''\n",
        "spark.sql(sql).show(truncate = False)\n",
        "\n",
        "sql = '''SELECT format_number(.84,'0.00%') AS formatted_numeber'''\n",
        "spark.sql(sql).show(truncate = False)\n"
      ],
      "metadata": {
        "colab": {
          "base_uri": "https://localhost:8080/"
        },
        "id": "OLfV9H9H6fKr",
        "outputId": "05c480ea-f836-45f7-f8b6-23ebdfac2ffc"
      },
      "execution_count": null,
      "outputs": [
        {
          "output_type": "stream",
          "name": "stdout",
          "text": [
            "+-----------------+\n",
            "|formatted_numeber|\n",
            "+-----------------+\n",
            "|123              |\n",
            "+-----------------+\n",
            "\n",
            "+-----------------+\n",
            "|formatted_numeber|\n",
            "+-----------------+\n",
            "|0123             |\n",
            "+-----------------+\n",
            "\n",
            "+-----------------+\n",
            "|formatted_numeber|\n",
            "+-----------------+\n",
            "|123.00           |\n",
            "+-----------------+\n",
            "\n",
            "+-----------------+\n",
            "|formatted_numeber|\n",
            "+-----------------+\n",
            "|$123.00          |\n",
            "+-----------------+\n",
            "\n",
            "+-----------------+\n",
            "|formatted_numeber|\n",
            "+-----------------+\n",
            "|12,345           |\n",
            "+-----------------+\n",
            "\n",
            "+-----------------+\n",
            "|formatted_numeber|\n",
            "+-----------------+\n",
            "|84.00%           |\n",
            "+-----------------+\n",
            "\n"
          ]
        }
      ]
    },
    {
      "cell_type": "code",
      "source": [
        "## to_number : return the striglified version of a numeber based on the format specified\n",
        "## this return a numeric datatype\n",
        "\n",
        "sql = '''SELECT to_number(123,'999') AS to_numbetOut'''\n",
        "spark.sql(sql).show(truncate = False)\n",
        "\n",
        "sql = '''SELECT to_number(123,'9999') AS to_numbetOut'''\n",
        "spark.sql(sql).show(truncate = False)\n",
        "\n",
        "sql = '''SELECT to_number(123,'999.99') AS to_numbetOut'''\n",
        "spark.sql(sql).show(truncate = False)\n",
        "\n",
        "sql = '''SELECT to_number(123,'999.999') AS to_numbetOut'''\n",
        "spark.sql(sql).show(truncate = False)\n",
        "\n",
        "sql = '''\n",
        "WITH CTE AS\n",
        "(\n",
        "SELECT to_number(123,'999') AS to_numbetOut\n",
        ")\n",
        "SELECT TypeOf(to_numbetOut) as typeOut\n",
        "FROM CTE\n",
        "'''\n",
        "spark.sql(sql).show(truncate = False)\n"
      ],
      "metadata": {
        "colab": {
          "base_uri": "https://localhost:8080/"
        },
        "id": "O_UEKowBiQDS",
        "outputId": "618be638-151c-4229-cc39-dc8ba0bdcde3"
      },
      "execution_count": null,
      "outputs": [
        {
          "output_type": "stream",
          "name": "stdout",
          "text": [
            "+------------+\n",
            "|to_numbetOut|\n",
            "+------------+\n",
            "|123         |\n",
            "+------------+\n",
            "\n",
            "+------------+\n",
            "|to_numbetOut|\n",
            "+------------+\n",
            "|123         |\n",
            "+------------+\n",
            "\n",
            "+------------+\n",
            "|to_numbetOut|\n",
            "+------------+\n",
            "|123.00      |\n",
            "+------------+\n",
            "\n",
            "+------------+\n",
            "|to_numbetOut|\n",
            "+------------+\n",
            "|123.000     |\n",
            "+------------+\n",
            "\n",
            "+------------+\n",
            "|typeOut     |\n",
            "+------------+\n",
            "|decimal(3,0)|\n",
            "+------------+\n",
            "\n"
          ]
        }
      ]
    },
    {
      "cell_type": "code",
      "source": [
        "## string_format : equvalent to the f-string in python\n",
        "\n",
        "# %s - for string replacement\n",
        "# %d - for integer replacement\n",
        "# %f - float replacemnt\n",
        "\n",
        "sql = '''SELECT format_string('I %s live in %s and i work at %s','rahul','bengaluru','examroom.ai') AS formatted_numeber'''\n",
        "spark.sql(sql).show(truncate = False)\n",
        "\n",
        "sql = '''SELECT format_string('Sanju Scored %d runs today',145) AS formatted_numeber'''\n",
        "spark.sql(sql).show(truncate = False)\n",
        "\n",
        "sql = '''SELECT format_string('My wieght is %.2f kg',CAST(69.5 AS DOUBLE)) AS formatted_numeber'''\n",
        "spark.sql(sql).show(truncate = False)"
      ],
      "metadata": {
        "colab": {
          "base_uri": "https://localhost:8080/"
        },
        "id": "3PUOOjAH72ub",
        "outputId": "586081b6-4444-4b84-d93d-b6f297e2eb0e"
      },
      "execution_count": null,
      "outputs": [
        {
          "output_type": "stream",
          "name": "stdout",
          "text": [
            "+---------------------------------------------------+\n",
            "|formatted_numeber                                  |\n",
            "+---------------------------------------------------+\n",
            "|I rahul live in bengaluru and i work at examroom.ai|\n",
            "+---------------------------------------------------+\n",
            "\n",
            "+---------------------------+\n",
            "|formatted_numeber          |\n",
            "+---------------------------+\n",
            "|Sanju Scored 145 runs today|\n",
            "+---------------------------+\n",
            "\n",
            "+---------------------+\n",
            "|formatted_numeber    |\n",
            "+---------------------+\n",
            "|My wieght is 69.50 kg|\n",
            "+---------------------+\n",
            "\n"
          ]
        }
      ]
    },
    {
      "cell_type": "code",
      "source": [
        "## to_char : convert a string to given string pattern and numbers\n",
        "## to_varchar : a syonym and with a fixed length for the output\n",
        "\n",
        "sql = '''select to_char(123,'9999.99') as to_charOut'''\n",
        "spark.sql(sql).show(truncate = False)\n",
        "\n",
        "sql = '''select to_varchar(123,'9999.99') as to_charOut'''\n",
        "spark.sql(sql).show(truncate = False)\n",
        "\n",
        "sql = '''select to_varchar(123,'999') as to_charOut'''\n",
        "spark.sql(sql).show(truncate = False)"
      ],
      "metadata": {
        "colab": {
          "base_uri": "https://localhost:8080/"
        },
        "id": "kX4ODNuTd6Z-",
        "outputId": "92c04050-2d58-4c1d-d1db-aa67abe39f20"
      },
      "execution_count": null,
      "outputs": [
        {
          "output_type": "stream",
          "name": "stdout",
          "text": [
            "+----------+\n",
            "|to_charOut|\n",
            "+----------+\n",
            "| 123.00   |\n",
            "+----------+\n",
            "\n",
            "+----------+\n",
            "|to_charOut|\n",
            "+----------+\n",
            "| 123.00   |\n",
            "+----------+\n",
            "\n",
            "+----------+\n",
            "|to_charOut|\n",
            "+----------+\n",
            "|123       |\n",
            "+----------+\n",
            "\n"
          ]
        }
      ]
    },
    {
      "cell_type": "code",
      "source": [
        "## format_date : convert a date to given string pattern and numbers\n",
        "\n",
        "sql = '''select date_format(to_date('2025-10-25'), 'dd-MMM-yyyy') as to_charOut'''\n",
        "spark.sql(sql).show(truncate = False)\n",
        "\n",
        "sql = '''select date_format('2025-10-25', 'dd-MMM-yyyy') as to_charOut'''\n",
        "spark.sql(sql).show(truncate = False)\n",
        "\n",
        "sql = '''\n",
        "with cte as\n",
        "(\n",
        "select date_format('2025-10-25', 'dd-MMM-yyyy') as dateFormatOut\n",
        ")\n",
        "select typeOf(dateFormatOut) as outputType\n",
        "from cte\n",
        "'''\n",
        "spark.sql(sql).show(truncate = False)"
      ],
      "metadata": {
        "colab": {
          "base_uri": "https://localhost:8080/"
        },
        "id": "qNgGZeCCgjR-",
        "outputId": "876b2ad4-495b-4b86-d821-490650c4f10d"
      },
      "execution_count": null,
      "outputs": [
        {
          "output_type": "stream",
          "name": "stdout",
          "text": [
            "+-----------+\n",
            "|to_charOut |\n",
            "+-----------+\n",
            "|25-Oct-2025|\n",
            "+-----------+\n",
            "\n",
            "+-----------+\n",
            "|to_charOut |\n",
            "+-----------+\n",
            "|25-Oct-2025|\n",
            "+-----------+\n",
            "\n",
            "+----------+\n",
            "|outputType|\n",
            "+----------+\n",
            "|string    |\n",
            "+----------+\n",
            "\n"
          ]
        }
      ]
    },
    {
      "cell_type": "code",
      "source": [
        "## initcap : capitaluse the initial letter of a string\n",
        "\n",
        "sql = '''SELECT INITCAP('rahul') as initcapOut'''\n",
        "spark.sql(sql).show(truncate = False)"
      ],
      "metadata": {
        "id": "katla_IN-EZa",
        "colab": {
          "base_uri": "https://localhost:8080/"
        },
        "outputId": "79f6f4b1-b01f-44a8-cf0f-fdf0335fa06c"
      },
      "execution_count": null,
      "outputs": [
        {
          "output_type": "stream",
          "name": "stdout",
          "text": [
            "+----------+\n",
            "|initcapOut|\n",
            "+----------+\n",
            "|Rahul     |\n",
            "+----------+\n",
            "\n"
          ]
        }
      ]
    },
    {
      "cell_type": "code",
      "source": [
        "## lcase : lowercasing the string in full, synonym for lower\n",
        "\n",
        "sql = '''SELECT lcase('RaHul') as lcaseOut'''\n",
        "spark.sql(sql).show(truncate = False)"
      ],
      "metadata": {
        "colab": {
          "base_uri": "https://localhost:8080/"
        },
        "id": "82qPxhXWeZxU",
        "outputId": "056df860-b00e-4548-f1ce-d7827e8c80e9"
      },
      "execution_count": null,
      "outputs": [
        {
          "output_type": "stream",
          "name": "stdout",
          "text": [
            "+--------+\n",
            "|lcaseOut|\n",
            "+--------+\n",
            "|rahul   |\n",
            "+--------+\n",
            "\n"
          ]
        }
      ]
    },
    {
      "cell_type": "code",
      "source": [
        "## lower : lowercasing the string in full, synonym for lcase\n",
        "\n",
        "sql = '''SELECT lower('RaHul') as lowerOut'''\n",
        "spark.sql(sql).show(truncate = False)"
      ],
      "metadata": {
        "colab": {
          "base_uri": "https://localhost:8080/"
        },
        "id": "Ah-JKzXze8UA",
        "outputId": "f2e2f4e2-240b-471c-c1b4-0478ea3ab9dc"
      },
      "execution_count": null,
      "outputs": [
        {
          "output_type": "stream",
          "name": "stdout",
          "text": [
            "+--------+\n",
            "|lowerOut|\n",
            "+--------+\n",
            "|rahul   |\n",
            "+--------+\n",
            "\n"
          ]
        }
      ]
    },
    {
      "cell_type": "code",
      "source": [
        "## ucase : uppercasing the string in full, synonym for upper\n",
        "\n",
        "sql = '''SELECT ucase('RaHul') as uCaseOut'''\n",
        "spark.sql(sql).show(truncate = False)"
      ],
      "metadata": {
        "colab": {
          "base_uri": "https://localhost:8080/"
        },
        "id": "sPPKsI3pfCTQ",
        "outputId": "92a39561-d628-420b-dc72-4019b95a69f6"
      },
      "execution_count": null,
      "outputs": [
        {
          "output_type": "stream",
          "name": "stdout",
          "text": [
            "+--------+\n",
            "|uCaseOut|\n",
            "+--------+\n",
            "|RAHUL   |\n",
            "+--------+\n",
            "\n"
          ]
        }
      ]
    },
    {
      "cell_type": "code",
      "source": [
        "## upper : uppercasing the string in full, synonym for ucase\n",
        "\n",
        "sql = '''SELECT upper('RaHul') as upperOut'''\n",
        "spark.sql(sql).show(truncate = False)"
      ],
      "metadata": {
        "colab": {
          "base_uri": "https://localhost:8080/"
        },
        "id": "eHM5qv3EfOlf",
        "outputId": "15f7a8d1-8536-4e1b-d7b3-768d52670fc9"
      },
      "execution_count": null,
      "outputs": [
        {
          "output_type": "stream",
          "name": "stdout",
          "text": [
            "+--------+\n",
            "|upperOut|\n",
            "+--------+\n",
            "|RAHUL   |\n",
            "+--------+\n",
            "\n"
          ]
        }
      ]
    },
    {
      "cell_type": "code",
      "source": [
        "## locate : locate the 1-based potision of a suybstring in a string , Syntax : Substring, String\n",
        "\n",
        "sql = '''SELECT locate('h','Rahul') AS locationOut'''\n",
        "spark.sql(sql).show(truncate = False)"
      ],
      "metadata": {
        "colab": {
          "base_uri": "https://localhost:8080/"
        },
        "id": "m6nyqUscfTRf",
        "outputId": "c21d0ebb-6eb1-4612-d5d3-ef8a7d1ef358"
      },
      "execution_count": null,
      "outputs": [
        {
          "output_type": "stream",
          "name": "stdout",
          "text": [
            "+-----------+\n",
            "|locationOut|\n",
            "+-----------+\n",
            "|3          |\n",
            "+-----------+\n",
            "\n"
          ]
        }
      ]
    },
    {
      "cell_type": "code",
      "source": [
        "## position :  position, the 1-based potision of a substring in a string , Syntax : Substring, String (same asloacte)\n",
        "\n",
        "sql = '''SELECT position('h','Rahul') AS locationOut'''\n",
        "spark.sql(sql).show(truncate = False)"
      ],
      "metadata": {
        "colab": {
          "base_uri": "https://localhost:8080/"
        },
        "id": "gm4z_zFw9AKj",
        "outputId": "c10c2dea-7ef8-40ab-fca0-85e5968c8fbd"
      },
      "execution_count": null,
      "outputs": [
        {
          "output_type": "stream",
          "name": "stdout",
          "text": [
            "+-----------+\n",
            "|locationOut|\n",
            "+-----------+\n",
            "|3          |\n",
            "+-----------+\n",
            "\n"
          ]
        }
      ]
    },
    {
      "cell_type": "code",
      "source": [
        "## lpad : padding the string to the left with padding number\n",
        "\n",
        "sql = '''SELECT lpad('Rahul',10,'0') AS padOut'''\n",
        "spark.sql(sql).show(truncate = False)"
      ],
      "metadata": {
        "colab": {
          "base_uri": "https://localhost:8080/"
        },
        "id": "K5T1t5JwgHUT",
        "outputId": "1df52532-e518-44be-ebfc-902c15abbbe5"
      },
      "execution_count": null,
      "outputs": [
        {
          "output_type": "stream",
          "name": "stdout",
          "text": [
            "+----------+\n",
            "|padOut    |\n",
            "+----------+\n",
            "|00000Rahul|\n",
            "+----------+\n",
            "\n"
          ]
        }
      ]
    },
    {
      "cell_type": "code",
      "source": [
        "## rpad : padding the string to the right with padding number\n",
        "\n",
        "sql = '''SELECT rpad('Rahul',10,'0') AS padOut'''\n",
        "spark.sql(sql).show(truncate = False)"
      ],
      "metadata": {
        "colab": {
          "base_uri": "https://localhost:8080/"
        },
        "id": "gxfC04Y-hBOk",
        "outputId": "957fa9ea-b007-4964-e410-4c8784f4cd9c"
      },
      "execution_count": null,
      "outputs": [
        {
          "output_type": "stream",
          "name": "stdout",
          "text": [
            "+----------+\n",
            "|padOut    |\n",
            "+----------+\n",
            "|Rahul00000|\n",
            "+----------+\n",
            "\n"
          ]
        }
      ]
    },
    {
      "cell_type": "code",
      "source": [
        "## mask : masking the column value on select\n",
        "\n",
        "sql = '''SELECT mask('Rahul') AS maskOut'''\n",
        "spark.sql(sql).show(truncate = False)\n",
        "\n",
        "sql = '''SELECT mask('Rahul','A','a','o') AS maskOut'''\n",
        "spark.sql(sql).show(truncate = False)"
      ],
      "metadata": {
        "colab": {
          "base_uri": "https://localhost:8080/"
        },
        "id": "0OlebDN2hI6t",
        "outputId": "d3650c53-456e-410b-eee2-113498a62e1b"
      },
      "execution_count": null,
      "outputs": [
        {
          "output_type": "stream",
          "name": "stdout",
          "text": [
            "+-------+\n",
            "|maskOut|\n",
            "+-------+\n",
            "|Xxxxx  |\n",
            "+-------+\n",
            "\n",
            "+-------+\n",
            "|maskOut|\n",
            "+-------+\n",
            "|Aaaaa  |\n",
            "+-------+\n",
            "\n"
          ]
        }
      ]
    },
    {
      "cell_type": "code",
      "source": [
        "## replace : replace a sub string with another string\n",
        "\n",
        "sql = '''SELECT replace('rahul raj','raj','spark') as replacedString'''\n",
        "spark.sql(sql).show(truncate = False)"
      ],
      "metadata": {
        "colab": {
          "base_uri": "https://localhost:8080/"
        },
        "id": "ppz3-XaPi7I8",
        "outputId": "1d557338-b023-48f9-c2e8-617d3a12a7b3"
      },
      "execution_count": null,
      "outputs": [
        {
          "output_type": "stream",
          "name": "stdout",
          "text": [
            "+--------------+\n",
            "|replacedString|\n",
            "+--------------+\n",
            "|rahul spark   |\n",
            "+--------------+\n",
            "\n"
          ]
        }
      ]
    },
    {
      "cell_type": "code",
      "source": [
        "## overlay : overlay a string with position and length\n",
        "\n",
        "sql = '''SELECT overlay('rahul raj',' spark ', 6,1 ) as replacedString'''\n",
        "spark.sql(sql).show(truncate = False)"
      ],
      "metadata": {
        "colab": {
          "base_uri": "https://localhost:8080/"
        },
        "id": "9U_6qaFVnbQP",
        "outputId": "11430fd4-a1fc-4325-c0fc-60d926a1f1a9"
      },
      "execution_count": null,
      "outputs": [
        {
          "output_type": "stream",
          "name": "stdout",
          "text": [
            "+---------------+\n",
            "|replacedString |\n",
            "+---------------+\n",
            "|rahul spark raj|\n",
            "+---------------+\n",
            "\n"
          ]
        }
      ]
    },
    {
      "cell_type": "code",
      "source": [
        "## regex_replace :replace the substring in a string with regex\n",
        "\n",
        "sql = '''SELECT regexp_replace('123rahul567raj100yes89spark','[0-9]+','#') as regexReplaceOut'''\n",
        "spark.sql(sql).show(truncate = False)"
      ],
      "metadata": {
        "colab": {
          "base_uri": "https://localhost:8080/"
        },
        "id": "UXGU2fOqDnwT",
        "outputId": "17db979d-1f11-41b3-e789-cd54c9b26bb1"
      },
      "execution_count": null,
      "outputs": [
        {
          "output_type": "stream",
          "name": "stdout",
          "text": [
            "+--------------------+\n",
            "|regexReplaceOut     |\n",
            "+--------------------+\n",
            "|#rahul#raj#yes#spark|\n",
            "+--------------------+\n",
            "\n"
          ]
        }
      ]
    },
    {
      "cell_type": "code",
      "source": [
        "# transalete : replece char by char using the from and to parameters\n",
        "\n",
        "sql = '''select translate('rahul-aeiou','aou','###') as translateOut'''\n",
        "spark.sql(sql).show(truncate = False)\n",
        "\n",
        "sql = '''select translate('2025-10-25', '025', 'abc') as translateOut'''\n",
        "spark.sql(sql).show(truncate = False)"
      ],
      "metadata": {
        "colab": {
          "base_uri": "https://localhost:8080/"
        },
        "id": "IlEI9Yw1kOfM",
        "outputId": "04ab5176-d632-442b-a67a-043c5bede11e"
      },
      "execution_count": null,
      "outputs": [
        {
          "output_type": "stream",
          "name": "stdout",
          "text": [
            "+------------+\n",
            "|translateOut|\n",
            "+------------+\n",
            "|r#h#l-#ei## |\n",
            "+------------+\n",
            "\n",
            "+------------+\n",
            "|translateOut|\n",
            "+------------+\n",
            "|babc-1a-bc  |\n",
            "+------------+\n",
            "\n"
          ]
        }
      ]
    },
    {
      "cell_type": "code",
      "source": [
        "## regexp_count : count the occurances of the regular expressions in string\n",
        "\n",
        "sql = '''SELECT regexp_count('rahul raj spark yes spark','spark') as regexCountOut'''\n",
        "spark.sql(sql).show(truncate = False)\n",
        "\n",
        "sql = '''SELECT regexp_count('rahul raj spark yes spark','(?i)spark') as regexCountOut'''\n",
        "spark.sql(sql).show(truncate = False)"
      ],
      "metadata": {
        "colab": {
          "base_uri": "https://localhost:8080/"
        },
        "id": "p1TE0nDXoD_L",
        "outputId": "da2c30fe-8a81-4447-a361-f8cbeae4291f"
      },
      "execution_count": null,
      "outputs": [
        {
          "output_type": "stream",
          "name": "stdout",
          "text": [
            "+-------------+\n",
            "|regexCountOut|\n",
            "+-------------+\n",
            "|2            |\n",
            "+-------------+\n",
            "\n",
            "+-------------+\n",
            "|regexCountOut|\n",
            "+-------------+\n",
            "|2            |\n",
            "+-------------+\n",
            "\n"
          ]
        }
      ]
    },
    {
      "cell_type": "code",
      "source": [
        "## regexp_extract : extract the first sub-string that matches a regular expression from as string\n",
        "\n",
        "sql = '''SELECT regexp_extract('rahul raj Spark yes spark','spark',0) as regexCountOut'''\n",
        "spark.sql(sql).show(truncate = False)\n",
        "\n",
        "sql = '''SELECT regexp_extract('rahul raj Spark yes Spark','(?i)spark',0) as regexCountOut'''\n",
        "spark.sql(sql).show(truncate = False)"
      ],
      "metadata": {
        "colab": {
          "base_uri": "https://localhost:8080/"
        },
        "id": "D5ZNstrC_vf8",
        "outputId": "49099c53-1103-4330-8d6d-c85196e846cc"
      },
      "execution_count": null,
      "outputs": [
        {
          "output_type": "stream",
          "name": "stdout",
          "text": [
            "+-------------+\n",
            "|regexCountOut|\n",
            "+-------------+\n",
            "|spark        |\n",
            "+-------------+\n",
            "\n",
            "+-------------+\n",
            "|regexCountOut|\n",
            "+-------------+\n",
            "|Spark        |\n",
            "+-------------+\n",
            "\n"
          ]
        }
      ]
    },
    {
      "cell_type": "code",
      "source": [
        "## regexp_extract : extract the first sub-string that matches a regular expression from as string\n",
        "## 0 - stands for entire match\n",
        "\n",
        "sql = '''SELECT regexp_extract_all('123rahul567raj100yes89spark','[0-9]',0) as regex_extract_allValue'''\n",
        "spark.sql(sql).show(truncate = False)\n",
        "\n",
        "sql = '''SELECT regexp_extract_all('123rahul567raj100yes89spark','[0-9]+',0) as regex_extract_allValue'''\n",
        "spark.sql(sql).show(truncate = False)\n",
        "\n",
        "sql = '''\n",
        "WITH CTE AS\n",
        "(\n",
        "SELECT regexp_extract_all('123rahul567raj100yes89spark','[0-9]+',0) as regex_extract_allValue\n",
        ")\n",
        "SELECT typeOf(regex_extract_allValue) as outputType\n",
        "FROM CTE\n",
        "'''\n",
        "\n",
        "spark.sql(sql).show(truncate = False)"
      ],
      "metadata": {
        "colab": {
          "base_uri": "https://localhost:8080/"
        },
        "id": "GuksrXSBAODN",
        "outputId": "8150ce24-e0cd-482d-ab7f-962bb36a6acf"
      },
      "execution_count": null,
      "outputs": [
        {
          "output_type": "stream",
          "name": "stdout",
          "text": [
            "+---------------------------------+\n",
            "|regex_extract_allValue           |\n",
            "+---------------------------------+\n",
            "|[1, 2, 3, 5, 6, 7, 1, 0, 0, 8, 9]|\n",
            "+---------------------------------+\n",
            "\n",
            "+----------------------+\n",
            "|regex_extract_allValue|\n",
            "+----------------------+\n",
            "|[123, 567, 100, 89]   |\n",
            "+----------------------+\n",
            "\n",
            "+-------------+\n",
            "|outputType   |\n",
            "+-------------+\n",
            "|array<string>|\n",
            "+-------------+\n",
            "\n"
          ]
        }
      ]
    },
    {
      "cell_type": "code",
      "source": [
        "## repeat : repeat a string column n times\n",
        "\n",
        "sql = '''SELECT repeat('rahul',5) as repeatStringNTimes'''\n",
        "spark.sql(sql).show(truncate = False)"
      ],
      "metadata": {
        "colab": {
          "base_uri": "https://localhost:8080/"
        },
        "id": "UCA4rBlfBWTn",
        "outputId": "f33659da-406a-46ed-8d30-b11d08cdd4ea"
      },
      "execution_count": null,
      "outputs": [
        {
          "output_type": "stream",
          "name": "stdout",
          "text": [
            "+-------------------------+\n",
            "|repeatStringNTimes       |\n",
            "+-------------------------+\n",
            "|rahulrahulrahulrahulrahul|\n",
            "+-------------------------+\n",
            "\n"
          ]
        }
      ]
    },
    {
      "cell_type": "code",
      "source": [
        "## left : extract the number of charectors from left side\n",
        "\n",
        "sql = '''SELECT left('rahul',2) as leftOut'''\n",
        "spark.sql(sql).show(truncate = False)"
      ],
      "metadata": {
        "colab": {
          "base_uri": "https://localhost:8080/"
        },
        "id": "cXMQLjTXERjT",
        "outputId": "426b8929-9009-45b5-b6be-21cdf232f861"
      },
      "execution_count": null,
      "outputs": [
        {
          "output_type": "stream",
          "name": "stdout",
          "text": [
            "+-------+\n",
            "|leftOut|\n",
            "+-------+\n",
            "|ra     |\n",
            "+-------+\n",
            "\n"
          ]
        }
      ]
    },
    {
      "cell_type": "code",
      "source": [
        "## right : extract the number of charectors from right side\n",
        "\n",
        "sql = '''SELECT right('rahul',2) as leftOut'''\n",
        "spark.sql(sql).show(truncate = False)"
      ],
      "metadata": {
        "colab": {
          "base_uri": "https://localhost:8080/"
        },
        "id": "6Jc9IkoFEeEU",
        "outputId": "5ed7865c-3c63-4724-c058-22ec9151e683"
      },
      "execution_count": null,
      "outputs": [
        {
          "output_type": "stream",
          "name": "stdout",
          "text": [
            "+-------+\n",
            "|leftOut|\n",
            "+-------+\n",
            "|ul     |\n",
            "+-------+\n",
            "\n"
          ]
        }
      ]
    },
    {
      "cell_type": "code",
      "source": [
        "## sentances : split the paragraph into the array of sentances and nexted by array of words\n",
        "\n",
        "sql = '''SELECT sentences('Hello world. Spark SQL is amazing! Let us learn.') as sentancesOut'''\n",
        "spark.sql(sql).show(truncate = False)\n",
        "\n",
        "sql = '''SELECT sentences('Hello world') as sentancesOut'''\n",
        "spark.sql(sql).show(truncate = False)\n",
        "\n",
        "sql = '''\n",
        "WITH CTE AS\n",
        "(\n",
        "SELECT sentences('Hello world') as sentancesOut\n",
        ")\n",
        "SELECT TypeOf(sentancesOut) AS outType\n",
        "FROM CTE\n",
        "'''\n",
        "spark.sql(sql).show(truncate = False)"
      ],
      "metadata": {
        "colab": {
          "base_uri": "https://localhost:8080/"
        },
        "id": "IJ-hsYEzEqbZ",
        "outputId": "63d5ddbb-3dd4-4e1e-b4f9-5ae783543f13"
      },
      "execution_count": null,
      "outputs": [
        {
          "output_type": "stream",
          "name": "stdout",
          "text": [
            "+-------------------------------------------------------------+\n",
            "|sentancesOut                                                 |\n",
            "+-------------------------------------------------------------+\n",
            "|[[Hello, world], [Spark, SQL, is, amazing], [Let, us, learn]]|\n",
            "+-------------------------------------------------------------+\n",
            "\n",
            "+----------------+\n",
            "|sentancesOut    |\n",
            "+----------------+\n",
            "|[[Hello, world]]|\n",
            "+----------------+\n",
            "\n",
            "+--------------------+\n",
            "|outType             |\n",
            "+--------------------+\n",
            "|array<array<string>>|\n",
            "+--------------------+\n",
            "\n"
          ]
        }
      ]
    },
    {
      "cell_type": "code",
      "source": [
        "## Split : split the text using a delimeter or a regex pattern\n",
        "\n",
        "sql = '''SELECT split('Hello world. Spark SQL is amazing! Let us learn.',' ') as splitOut'''\n",
        "spark.sql(sql).show(truncate = False)\n",
        "\n",
        "sql = '''SELECT split('Hello world 1 Spark SQL is amazing 2 Let us learn.','[0-9]') as splitOut'''\n",
        "spark.sql(sql).show(truncate = False)\n",
        "\n",
        "sql = '''\n",
        "WITH CTE AS\n",
        "(\n",
        "SELECT split('Hello world 1 Spark SQL is amazing 2 Let us learn.','[0-9]') as splitOut\n",
        ")\n",
        "SELECT TypeOf(splitOut) AS outType\n",
        "FROM CTE\n",
        "'''\n",
        "spark.sql(sql).show(truncate = False)"
      ],
      "metadata": {
        "colab": {
          "base_uri": "https://localhost:8080/"
        },
        "id": "YP3JKJAZFMGH",
        "outputId": "37a4ecbf-9f5a-461d-e878-97d5eaf4915d"
      },
      "execution_count": null,
      "outputs": [
        {
          "output_type": "stream",
          "name": "stdout",
          "text": [
            "+----------------------------------------------------------+\n",
            "|splitOut                                                  |\n",
            "+----------------------------------------------------------+\n",
            "|[Hello, world., Spark, SQL, is, amazing!, Let, us, learn.]|\n",
            "+----------------------------------------------------------+\n",
            "\n",
            "+------------------------------------------------------+\n",
            "|splitOut                                              |\n",
            "+------------------------------------------------------+\n",
            "|[Hello world ,  Spark SQL is amazing ,  Let us learn.]|\n",
            "+------------------------------------------------------+\n",
            "\n",
            "+-------------+\n",
            "|outType      |\n",
            "+-------------+\n",
            "|array<string>|\n",
            "+-------------+\n",
            "\n"
          ]
        }
      ]
    },
    {
      "cell_type": "code",
      "source": [
        "## Split_part : split_part the text using a delimeter access the elment of the resulted array\n",
        "\n",
        "sql = '''SELECT split_part('Rahul Raj PR',' ',2) as splitPartOut'''\n",
        "spark.sql(sql).show(truncate = False)\n",
        "\n",
        "sql = '''SELECT split_part('Rahul Raj PR',' ',-1) as splitPartOut''' ## access the laste element with -1 notation\n",
        "spark.sql(sql).show(truncate = False)"
      ],
      "metadata": {
        "colab": {
          "base_uri": "https://localhost:8080/"
        },
        "id": "296d78IiHVgZ",
        "outputId": "491f87d8-22a4-4e9a-9f20-ea3f08f9b6dd"
      },
      "execution_count": null,
      "outputs": [
        {
          "output_type": "stream",
          "name": "stdout",
          "text": [
            "+------------+\n",
            "|splitPartOut|\n",
            "+------------+\n",
            "|Raj         |\n",
            "+------------+\n",
            "\n",
            "+------------+\n",
            "|splitPartOut|\n",
            "+------------+\n",
            "|PR          |\n",
            "+------------+\n",
            "\n"
          ]
        }
      ]
    },
    {
      "cell_type": "code",
      "source": [
        "#substr : substring function to extratct the substring from a string starting from a given index and to a give length\n",
        "## synonym for substring\n",
        "\n",
        "sql = '''SELECT substr('Rahul Raj',2,3) as substrout'''\n",
        "spark.sql(sql).show(truncate = False)\n",
        "\n",
        "sql = '''SELECT substr('Rahul Raj' FROM 2 FOR 3) as substrout'''\n",
        "spark.sql(sql).show(truncate = False)\n",
        "\n",
        "sql = '''SELECT substring('Rahul Raj',2,3) as substrout'''\n",
        "spark.sql(sql).show(truncate = False)\n",
        "\n",
        "sql = '''SELECT substring('Rahul Raj' FROM 2 FOR 3) as substrout'''\n",
        "spark.sql(sql).show(truncate = False)"
      ],
      "metadata": {
        "id": "5-VHxM8vp5yJ",
        "colab": {
          "base_uri": "https://localhost:8080/"
        },
        "outputId": "d40cb24f-d801-47a7-bb0a-68b3dc133136"
      },
      "execution_count": null,
      "outputs": [
        {
          "output_type": "stream",
          "name": "stdout",
          "text": [
            "+---------+\n",
            "|substrout|\n",
            "+---------+\n",
            "|ahu      |\n",
            "+---------+\n",
            "\n",
            "+---------+\n",
            "|substrout|\n",
            "+---------+\n",
            "|ahu      |\n",
            "+---------+\n",
            "\n",
            "+---------+\n",
            "|substrout|\n",
            "+---------+\n",
            "|ahu      |\n",
            "+---------+\n",
            "\n",
            "+---------+\n",
            "|substrout|\n",
            "+---------+\n",
            "|ahu      |\n",
            "+---------+\n",
            "\n"
          ]
        }
      ]
    },
    {
      "cell_type": "code",
      "source": [
        "# substring_index: Splits a string using the given delimiter and\n",
        "# returns the substring based on the specified occurrence.\n",
        "# - If the count is positive, it returns everything to the left of the nth occurrence of the delimiter.\n",
        "# - If the count is negative, it returns everything to the right of the nth occurrence from the end.\n",
        "\n",
        "sql = '''SELECT substring_index('rahul-raj-pr','-',1) as substing_indexOut'''\n",
        "spark.sql(sql).show(truncate = False)\n",
        "\n",
        "sql = '''SELECT substring_index('rahul-raj-pr','-',2) as substing_indexOut'''\n",
        "spark.sql(sql).show(truncate = False)\n",
        "\n",
        "sql = '''SELECT substring_index('rahul-raj-pr','-',-1) as substing_indexOut'''\n",
        "spark.sql(sql).show(truncate = False)\n",
        "\n",
        "sql = '''SELECT substring_index('rahul-raj-pr','-',-2) as substing_indexOut'''\n",
        "spark.sql(sql).show(truncate = False)"
      ],
      "metadata": {
        "colab": {
          "base_uri": "https://localhost:8080/"
        },
        "id": "wubNo5E4XXHp",
        "outputId": "c0db020c-42a6-4188-e9f7-d57636f8de2e"
      },
      "execution_count": null,
      "outputs": [
        {
          "output_type": "stream",
          "name": "stdout",
          "text": [
            "+-----------------+\n",
            "|substing_indexOut|\n",
            "+-----------------+\n",
            "|rahul            |\n",
            "+-----------------+\n",
            "\n",
            "+-----------------+\n",
            "|substing_indexOut|\n",
            "+-----------------+\n",
            "|rahul-raj        |\n",
            "+-----------------+\n",
            "\n",
            "+-----------------+\n",
            "|substing_indexOut|\n",
            "+-----------------+\n",
            "|pr               |\n",
            "+-----------------+\n",
            "\n",
            "+-----------------+\n",
            "|substing_indexOut|\n",
            "+-----------------+\n",
            "|raj-pr           |\n",
            "+-----------------+\n",
            "\n"
          ]
        }
      ]
    }
  ]
}