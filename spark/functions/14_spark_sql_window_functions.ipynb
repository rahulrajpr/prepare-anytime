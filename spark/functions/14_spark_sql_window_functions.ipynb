{
  "nbformat": 4,
  "nbformat_minor": 0,
  "metadata": {
    "colab": {
      "provenance": [],
      "authorship_tag": "ABX9TyOjf+0yxBNF8Y55U0vcBfAB",
      "include_colab_link": true
    },
    "kernelspec": {
      "name": "python3",
      "display_name": "Python 3"
    },
    "language_info": {
      "name": "python"
    }
  },
  "cells": [
    {
      "cell_type": "markdown",
      "metadata": {
        "id": "view-in-github",
        "colab_type": "text"
      },
      "source": [
        "<a href=\"https://colab.research.google.com/github/rahulrajpr/prepare-anytime/blob/main/spark/functions/14_spark_sql_window_functions.ipynb\" target=\"_parent\"><img src=\"https://colab.research.google.com/assets/colab-badge.svg\" alt=\"Open In Colab\"/></a>"
      ]
    },
    {
      "cell_type": "markdown",
      "source": [
        "# **Spark Window Functions**\n",
        "https://spark.apache.org/docs/latest/sql-ref-functions-builtin.html#window-functions"
      ],
      "metadata": {
        "id": "ptAYb_3hSs8Z"
      }
    },
    {
      "cell_type": "code",
      "execution_count": null,
      "metadata": {
        "id": "qXIHqycTSsTi"
      },
      "outputs": [],
      "source": [
        "from pyspark.sql import SparkSession\n",
        "spark = SparkSession.builder.appName('spark-functions').getOrCreate()"
      ]
    },
    {
      "cell_type": "code",
      "source": [
        "from pyspark.sql.functions import to_date, desc, rank,col,dense_rank,expr\n",
        "from pyspark.sql.types import StructType,StructField, IntegerType, StringType"
      ],
      "metadata": {
        "id": "DUaPQh3cchI9"
      },
      "execution_count": null,
      "outputs": []
    },
    {
      "cell_type": "code",
      "source": [
        "\n",
        "data = [\n",
        "    (\"2023-01-01\", \"Alice\", \"Electronics\", 1000),\n",
        "    (\"2023-01-01\", \"Bob\", \"Electronics\", 1200),\n",
        "    (\"2023-01-01\", \"Charlie\", \"Clothing\", 800),\n",
        "    (\"2023-01-01\", \"Diana\", \"Electronics\", 1500),\n",
        "    (\"2023-01-01\", \"Eve\", \"Clothing\", 600),\n",
        "    (\"2023-02-01\", \"Alice\", \"Electronics\", 1100),\n",
        "    (\"2023-02-01\", \"Bob\", \"Electronics\", 900),\n",
        "    (\"2023-02-01\", \"Charlie\", \"Clothing\", 950),\n",
        "    (\"2023-02-01\", \"Diana\", \"Electronics\", 1300),\n",
        "    (\"2023-02-01\", \"Eve\", \"Clothing\", 700),\n",
        "    (\"2023-02-01\", \"Frank\", \"Electronics\", None),\n",
        "    (\"2023-03-01\", \"Alice\", \"Electronics\", 1400),\n",
        "    (\"2023-03-01\", \"Bob\", \"Electronics\", 1000),\n",
        "    (\"2023-03-01\", \"Charlie\", \"Clothing\", 1200),\n",
        "    (\"2023-03-01\", \"Diana\", \"Electronics\", 1600)\n",
        "]\n",
        "\n",
        "# Define schema\n",
        "schema = StructType([\n",
        "    StructField(\"mn\", StringType(), True),\n",
        "    StructField(\"salesperson\", StringType(), True),\n",
        "    StructField(\"department\", StringType(), True),\n",
        "    StructField(\"sales\", IntegerType(), True)\n",
        "])\n",
        "\n",
        "dataframe = spark.createDataFrame(data, schema)\n",
        "dataframe = dataframe.withColumn('mn',to_date(col('mn'), 'yyyy-MM-dd'))\n",
        "dataframe.printSchema()\n",
        "dataframe.show(truncate = False)"
      ],
      "metadata": {
        "colab": {
          "base_uri": "https://localhost:8080/"
        },
        "id": "ESOUZY2Tb451",
        "outputId": "1422f7d1-29f3-42a3-bc52-4ff29aedfbd0"
      },
      "execution_count": null,
      "outputs": [
        {
          "output_type": "stream",
          "name": "stdout",
          "text": [
            "root\n",
            " |-- mn: date (nullable = true)\n",
            " |-- salesperson: string (nullable = true)\n",
            " |-- department: string (nullable = true)\n",
            " |-- sales: integer (nullable = true)\n",
            "\n",
            "+----------+-----------+-----------+-----+\n",
            "|mn        |salesperson|department |sales|\n",
            "+----------+-----------+-----------+-----+\n",
            "|2023-01-01|Alice      |Electronics|1000 |\n",
            "|2023-01-01|Bob        |Electronics|1200 |\n",
            "|2023-01-01|Charlie    |Clothing   |800  |\n",
            "|2023-01-01|Diana      |Electronics|1500 |\n",
            "|2023-01-01|Eve        |Clothing   |600  |\n",
            "|2023-02-01|Alice      |Electronics|1100 |\n",
            "|2023-02-01|Bob        |Electronics|900  |\n",
            "|2023-02-01|Charlie    |Clothing   |950  |\n",
            "|2023-02-01|Diana      |Electronics|1300 |\n",
            "|2023-02-01|Eve        |Clothing   |700  |\n",
            "|2023-02-01|Frank      |Electronics|NULL |\n",
            "|2023-03-01|Alice      |Electronics|1400 |\n",
            "|2023-03-01|Bob        |Electronics|1000 |\n",
            "|2023-03-01|Charlie    |Clothing   |1200 |\n",
            "|2023-03-01|Diana      |Electronics|1600 |\n",
            "+----------+-----------+-----------+-----+\n",
            "\n"
          ]
        }
      ]
    },
    {
      "cell_type": "code",
      "source": [
        "dataframe.createOrReplaceTempView('dataframe_view')"
      ],
      "metadata": {
        "id": "3LMzRqS1cxU9"
      },
      "execution_count": null,
      "outputs": []
    },
    {
      "cell_type": "code",
      "source": [
        "# rank\n",
        "\n",
        "# saprk sqkl\n",
        "\n",
        "sql = '''\n",
        "with cte as\n",
        "(\n",
        "  select *, rank() over(partition by department order by sales desc NULLS LAST) as rn\n",
        "  from dataframe_view\n",
        ")\n",
        "select *\n",
        "from cte\n",
        "where rn = 1\n",
        "'''\n",
        "spark.sql(sql).show(truncate = False)"
      ],
      "metadata": {
        "colab": {
          "base_uri": "https://localhost:8080/"
        },
        "id": "Fxr5Skvhfhgg",
        "outputId": "839f831e-5435-4dab-ec96-dbd7aa3be9af"
      },
      "execution_count": null,
      "outputs": [
        {
          "output_type": "stream",
          "name": "stdout",
          "text": [
            "+----------+-----------+-----------+-----+---+\n",
            "|mn        |salesperson|department |sales|rn |\n",
            "+----------+-----------+-----------+-----+---+\n",
            "|2023-03-01|Charlie    |Clothing   |1200 |1  |\n",
            "|2023-03-01|Diana      |Electronics|1600 |1  |\n",
            "+----------+-----------+-----------+-----+---+\n",
            "\n"
          ]
        }
      ]
    },
    {
      "cell_type": "code",
      "source": [
        "from pyspark.sql.window import Window"
      ],
      "metadata": {
        "id": "ULC1tHyjf7-J"
      },
      "execution_count": null,
      "outputs": []
    },
    {
      "cell_type": "code",
      "source": [
        "# rank (psyspark dataframe api)\n",
        "\n",
        "win = Window.partitionBy('department').orderBy(desc('sales'))\n",
        "dataframe.withColumn('rn',rank().over(win)).filter('rn == 1').show()"
      ],
      "metadata": {
        "colab": {
          "base_uri": "https://localhost:8080/"
        },
        "id": "kYqC36OViQGd",
        "outputId": "c526f4b2-5eed-4d4e-eae9-80b7c8f53566"
      },
      "execution_count": null,
      "outputs": [
        {
          "output_type": "stream",
          "name": "stdout",
          "text": [
            "+----------+-----------+-----------+-----+---+\n",
            "|        mn|salesperson| department|sales| rn|\n",
            "+----------+-----------+-----------+-----+---+\n",
            "|2023-03-01|    Charlie|   Clothing| 1200|  1|\n",
            "|2023-03-01|      Diana|Electronics| 1600|  1|\n",
            "+----------+-----------+-----------+-----+---+\n",
            "\n"
          ]
        }
      ]
    },
    {
      "cell_type": "code",
      "source": [
        "# dense_rank()\n",
        "\n",
        "# saprk sql\n",
        "\n",
        "sql = '''\n",
        "with cte as\n",
        "(\n",
        "  select *, dense_rank() over(partition by department order by sales desc NULLS LAST) as rn\n",
        "  from dataframe_view\n",
        ")\n",
        "select *\n",
        "from cte\n",
        "where rn = 2\n",
        "'''\n",
        "spark.sql(sql).show(truncate = False)"
      ],
      "metadata": {
        "colab": {
          "base_uri": "https://localhost:8080/"
        },
        "id": "P7w4mrigsLwx",
        "outputId": "15fbe03c-6d6a-4504-8402-f358487b416c"
      },
      "execution_count": null,
      "outputs": [
        {
          "output_type": "stream",
          "name": "stdout",
          "text": [
            "+----------+-----------+-----------+-----+---+\n",
            "|mn        |salesperson|department |sales|rn |\n",
            "+----------+-----------+-----------+-----+---+\n",
            "|2023-02-01|Charlie    |Clothing   |950  |2  |\n",
            "|2023-01-01|Diana      |Electronics|1500 |2  |\n",
            "+----------+-----------+-----------+-----+---+\n",
            "\n"
          ]
        }
      ]
    },
    {
      "cell_type": "code",
      "source": [
        "# dense_rank (psyspark dataframe api)\n",
        "\n",
        "from pyspark.sql.window import Window\n",
        "from pyspark.sql.functions import expr, dense_rank, desc, desc_nulls_last\n",
        "\n",
        "win = Window.partitionBy('department').orderBy(desc_nulls_last('sales'))\n",
        "dataframe.withColumn('dnsrk', dense_rank().over(win)).filter('dnsrk == 2').show(truncate=False)"
      ],
      "metadata": {
        "colab": {
          "base_uri": "https://localhost:8080/"
        },
        "id": "M6lthDmesPUS",
        "outputId": "213e43dd-57d8-4f7b-8e69-0c804a2ff01c"
      },
      "execution_count": null,
      "outputs": [
        {
          "output_type": "stream",
          "name": "stdout",
          "text": [
            "+----------+-----------+-----------+-----+-----+\n",
            "|mn        |salesperson|department |sales|dnsrk|\n",
            "+----------+-----------+-----------+-----+-----+\n",
            "|2023-02-01|Charlie    |Clothing   |950  |2    |\n",
            "|2023-01-01|Diana      |Electronics|1500 |2    |\n",
            "+----------+-----------+-----------+-----+-----+\n",
            "\n"
          ]
        }
      ]
    },
    {
      "cell_type": "code",
      "source": [
        "# row_number()\n",
        "\n",
        "sql = '''\n",
        "with cte as\n",
        "(\n",
        "  select *, row_number() over(partition by department order by sales desc NULLS LAST) as rn\n",
        "  from dataframe_view\n",
        ")\n",
        "select *\n",
        "from cte\n",
        "where rn = 1\n",
        "'''\n",
        "spark.sql(sql).show(truncate = False)"
      ],
      "metadata": {
        "colab": {
          "base_uri": "https://localhost:8080/"
        },
        "id": "hRIPwj16s6mx",
        "outputId": "550fab42-e0e7-4916-94ae-0367c23cc730"
      },
      "execution_count": null,
      "outputs": [
        {
          "output_type": "stream",
          "name": "stdout",
          "text": [
            "+----------+-----------+-----------+-----+---+\n",
            "|mn        |salesperson|department |sales|rn |\n",
            "+----------+-----------+-----------+-----+---+\n",
            "|2023-03-01|Charlie    |Clothing   |1200 |1  |\n",
            "|2023-03-01|Diana      |Electronics|1600 |1  |\n",
            "+----------+-----------+-----------+-----+---+\n",
            "\n"
          ]
        }
      ]
    },
    {
      "cell_type": "code",
      "source": [
        "# row_number() - pysprk dataframe api\n",
        "\n",
        "from pyspark.sql.functions import row_number, desc_nulls_last,col, exp\n",
        "from pyspark.sql.window import Window\n",
        "\n",
        "win = Window.partitionBy('department').orderBy(desc_nulls_last('sales'))\n",
        "dataframe.withColumn('rwNum',row_number().over(win)).filter(expr('rwNum = 1')).show(truncate = False)\n",
        "\n",
        "dataframe.withColumn('rwNum',expr('row_number() over(partition by department order by sales desc)')).filter(expr('rwNum = 1')).show(truncate = False)"
      ],
      "metadata": {
        "colab": {
          "base_uri": "https://localhost:8080/"
        },
        "id": "TprrAx_QwBq3",
        "outputId": "06f8b4b2-57b2-4057-9974-e03ad46f45d0"
      },
      "execution_count": null,
      "outputs": [
        {
          "output_type": "stream",
          "name": "stdout",
          "text": [
            "+----------+-----------+-----------+-----+-----+\n",
            "|mn        |salesperson|department |sales|rwNum|\n",
            "+----------+-----------+-----------+-----+-----+\n",
            "|2023-03-01|Charlie    |Clothing   |1200 |1    |\n",
            "|2023-03-01|Diana      |Electronics|1600 |1    |\n",
            "+----------+-----------+-----------+-----+-----+\n",
            "\n",
            "+----------+-----------+-----------+-----+-----+\n",
            "|mn        |salesperson|department |sales|rwNum|\n",
            "+----------+-----------+-----------+-----+-----+\n",
            "|2023-03-01|Charlie    |Clothing   |1200 |1    |\n",
            "|2023-03-01|Diana      |Electronics|1600 |1    |\n",
            "+----------+-----------+-----------+-----+-----+\n",
            "\n"
          ]
        }
      ]
    },
    {
      "cell_type": "markdown",
      "source": [],
      "metadata": {
        "id": "zLsPfTYH2PNu"
      }
    }
  ]
}