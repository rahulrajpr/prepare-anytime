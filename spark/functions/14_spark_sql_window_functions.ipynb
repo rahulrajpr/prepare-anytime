{
  "nbformat": 4,
  "nbformat_minor": 0,
  "metadata": {
    "colab": {
      "provenance": [],
      "authorship_tag": "ABX9TyMV9SgpZgND31wtSbVCMt3K",
      "include_colab_link": true
    },
    "kernelspec": {
      "name": "python3",
      "display_name": "Python 3"
    },
    "language_info": {
      "name": "python"
    }
  },
  "cells": [
    {
      "cell_type": "markdown",
      "metadata": {
        "id": "view-in-github",
        "colab_type": "text"
      },
      "source": [
        "<a href=\"https://colab.research.google.com/github/rahulrajpr/prepare-anytime/blob/main/spark/functions/14_spark_sql_window_functions.ipynb\" target=\"_parent\"><img src=\"https://colab.research.google.com/assets/colab-badge.svg\" alt=\"Open In Colab\"/></a>"
      ]
    },
    {
      "cell_type": "markdown",
      "source": [
        "# **Spark Window Functions**\n",
        "https://spark.apache.org/docs/latest/sql-ref-functions-builtin.html#window-functions"
      ],
      "metadata": {
        "id": "ptAYb_3hSs8Z"
      }
    },
    {
      "cell_type": "code",
      "execution_count": 2,
      "metadata": {
        "id": "qXIHqycTSsTi"
      },
      "outputs": [],
      "source": [
        "from pyspark.sql import SparkSession\n",
        "spark = SparkSession.builder.appName('spark-functions').getOrCreate()"
      ]
    },
    {
      "cell_type": "code",
      "source": [
        "from pyspark.sql.functions import to_date, desc, rank\n",
        "from pyspark.sql.types import StructType,StructField, IntegerType, StringType"
      ],
      "metadata": {
        "id": "DUaPQh3cchI9"
      },
      "execution_count": 31,
      "outputs": []
    },
    {
      "cell_type": "code",
      "source": [
        "\n",
        "data = [\n",
        "    (\"2023-01-01\", \"Alice\", \"Electronics\", 1000),\n",
        "    (\"2023-01-01\", \"Bob\", \"Electronics\", 1200),\n",
        "    (\"2023-01-01\", \"Charlie\", \"Clothing\", 800),\n",
        "    (\"2023-01-01\", \"Diana\", \"Electronics\", 1500),\n",
        "    (\"2023-01-01\", \"Eve\", \"Clothing\", 600),\n",
        "    (\"2023-02-01\", \"Alice\", \"Electronics\", 1100),\n",
        "    (\"2023-02-01\", \"Bob\", \"Electronics\", 900),\n",
        "    (\"2023-02-01\", \"Charlie\", \"Clothing\", 950),\n",
        "    (\"2023-02-01\", \"Diana\", \"Electronics\", 1300),\n",
        "    (\"2023-02-01\", \"Eve\", \"Clothing\", 700),\n",
        "    (\"2023-02-01\", \"Frank\", \"Electronics\", None),\n",
        "    (\"2023-03-01\", \"Alice\", \"Electronics\", 1400),\n",
        "    (\"2023-03-01\", \"Bob\", \"Electronics\", 1000),\n",
        "    (\"2023-03-01\", \"Charlie\", \"Clothing\", 1200),\n",
        "    (\"2023-03-01\", \"Diana\", \"Electronics\", 1600)\n",
        "]\n",
        "\n",
        "# Define schema\n",
        "schema = StructType([\n",
        "    StructField(\"mn\", StringType(), True),\n",
        "    StructField(\"salesperson\", StringType(), True),\n",
        "    StructField(\"department\", StringType(), True),\n",
        "    StructField(\"sales\", IntegerType(), True)\n",
        "])\n",
        "\n",
        "dataframe = spark.createDataFrame(data, schema)\n",
        "dataframe = dataframe.withColumn('mn',to_date(col('mn'), 'yyyy-MM-dd'))\n",
        "dataframe.printSchema()\n",
        "dataframe.show(truncate = False)"
      ],
      "metadata": {
        "colab": {
          "base_uri": "https://localhost:8080/"
        },
        "id": "ESOUZY2Tb451",
        "outputId": "f951f1c4-2267-4bf6-887e-48cd29a3930d"
      },
      "execution_count": 13,
      "outputs": [
        {
          "output_type": "stream",
          "name": "stdout",
          "text": [
            "root\n",
            " |-- mn: date (nullable = true)\n",
            " |-- salesperson: string (nullable = true)\n",
            " |-- department: string (nullable = true)\n",
            " |-- sales: integer (nullable = true)\n",
            "\n",
            "+----------+-----------+-----------+-----+\n",
            "|mn        |salesperson|department |sales|\n",
            "+----------+-----------+-----------+-----+\n",
            "|2023-01-01|Alice      |Electronics|1000 |\n",
            "|2023-01-01|Bob        |Electronics|1200 |\n",
            "|2023-01-01|Charlie    |Clothing   |800  |\n",
            "|2023-01-01|Diana      |Electronics|1500 |\n",
            "|2023-01-01|Eve        |Clothing   |600  |\n",
            "|2023-02-01|Alice      |Electronics|1100 |\n",
            "|2023-02-01|Bob        |Electronics|900  |\n",
            "|2023-02-01|Charlie    |Clothing   |950  |\n",
            "|2023-02-01|Diana      |Electronics|1300 |\n",
            "|2023-02-01|Eve        |Clothing   |700  |\n",
            "|2023-02-01|Frank      |Electronics|NULL |\n",
            "|2023-03-01|Alice      |Electronics|1400 |\n",
            "|2023-03-01|Bob        |Electronics|1000 |\n",
            "|2023-03-01|Charlie    |Clothing   |1200 |\n",
            "|2023-03-01|Diana      |Electronics|1600 |\n",
            "+----------+-----------+-----------+-----+\n",
            "\n"
          ]
        }
      ]
    },
    {
      "cell_type": "code",
      "source": [
        "dataframe.createOrReplaceTempView('dataframe_view')"
      ],
      "metadata": {
        "id": "3LMzRqS1cxU9"
      },
      "execution_count": 14,
      "outputs": []
    },
    {
      "cell_type": "code",
      "source": [
        "# rank\n",
        "\n",
        "# saprk sqkl\n",
        "\n",
        "sql = '''\n",
        "with cte as\n",
        "(\n",
        "  select *, rank() over(partition by department order by sales desc NULLS LAST) as rn\n",
        "  from dataframe_view\n",
        ")\n",
        "select *\n",
        "from cte\n",
        "where rn = 1\n",
        "'''\n",
        "spark.sql(sql).show(truncate = False)"
      ],
      "metadata": {
        "colab": {
          "base_uri": "https://localhost:8080/"
        },
        "id": "Fxr5Skvhfhgg",
        "outputId": "839f831e-5435-4dab-ec96-dbd7aa3be9af"
      },
      "execution_count": 23,
      "outputs": [
        {
          "output_type": "stream",
          "name": "stdout",
          "text": [
            "+----------+-----------+-----------+-----+---+\n",
            "|mn        |salesperson|department |sales|rn |\n",
            "+----------+-----------+-----------+-----+---+\n",
            "|2023-03-01|Charlie    |Clothing   |1200 |1  |\n",
            "|2023-03-01|Diana      |Electronics|1600 |1  |\n",
            "+----------+-----------+-----------+-----+---+\n",
            "\n"
          ]
        }
      ]
    },
    {
      "cell_type": "code",
      "source": [
        "from pyspark.sql.window import Window"
      ],
      "metadata": {
        "id": "ULC1tHyjf7-J"
      },
      "execution_count": 33,
      "outputs": []
    },
    {
      "cell_type": "code",
      "source": [
        "win = Window.partitionBy('department').orderBy(desc('sales'))\n",
        "dataframe.withColumn('rn',rank().over(win)).filter('rn == 1').show()"
      ],
      "metadata": {
        "colab": {
          "base_uri": "https://localhost:8080/"
        },
        "id": "kYqC36OViQGd",
        "outputId": "c526f4b2-5eed-4d4e-eae9-80b7c8f53566"
      },
      "execution_count": 37,
      "outputs": [
        {
          "output_type": "stream",
          "name": "stdout",
          "text": [
            "+----------+-----------+-----------+-----+---+\n",
            "|        mn|salesperson| department|sales| rn|\n",
            "+----------+-----------+-----------+-----+---+\n",
            "|2023-03-01|    Charlie|   Clothing| 1200|  1|\n",
            "|2023-03-01|      Diana|Electronics| 1600|  1|\n",
            "+----------+-----------+-----------+-----+---+\n",
            "\n"
          ]
        }
      ]
    }
  ]
}