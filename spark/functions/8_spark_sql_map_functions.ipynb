{
  "nbformat": 4,
  "nbformat_minor": 0,
  "metadata": {
    "colab": {
      "provenance": [],
      "authorship_tag": "ABX9TyNNE0FAof47JBP28hLQ9PS/",
      "include_colab_link": true
    },
    "kernelspec": {
      "name": "python3",
      "display_name": "Python 3"
    },
    "language_info": {
      "name": "python"
    }
  },
  "cells": [
    {
      "cell_type": "markdown",
      "metadata": {
        "id": "view-in-github",
        "colab_type": "text"
      },
      "source": [
        "<a href=\"https://colab.research.google.com/github/rahulrajpr/prepare-anytime/blob/main/spark/functions/8_spark_sql_map_functions.ipynb\" target=\"_parent\"><img src=\"https://colab.research.google.com/assets/colab-badge.svg\" alt=\"Open In Colab\"/></a>"
      ]
    },
    {
      "cell_type": "markdown",
      "source": [
        "# **Spark Map Functions**\n",
        "----------------------------------------------\n",
        "https://spark.apache.org/docs/latest/sql-ref-functions-builtin.html#map-functions\n",
        "----------------------------------------------"
      ],
      "metadata": {
        "id": "BMmQW6WNZTtT"
      }
    },
    {
      "cell_type": "markdown",
      "source": [
        "----------------------------------------------\n",
        "A **Map** in **Apache Spark** is a **complex column type** that allows you to represent **a collection of key-value pairs** within a **single DataFrame column**.  \n",
        "It enables storing **associative data where each key maps to a value**, providing a **flexible and efficient way** to manage and query **semi-structured or dynamic data** such as **JSON objects, configurations, or property lists**.\n",
        "----------------------------------------------"
      ],
      "metadata": {
        "id": "WHf8320fc5ot"
      }
    },
    {
      "cell_type": "markdown",
      "source": [
        "### Map vs Struct\n",
        "\n",
        "| Feature | **StructType** | **MapType** |\n",
        "|---------|----------------|-------------|\n",
        "| **Definition** | A complex type that groups multiple **named fields** together into a single column. | A complex type that stores **key-value pairs** inside a single column, like a dictionary. |\n",
        "| **Key/Field Names** | **Fixed field names** defined at schema design time. | **Dynamic keys** — each row can have different keys. |\n",
        "| **Access** | Accessed by field name: `struct_col.fieldName` | Accessed by key: `map_col['keyName']` |\n",
        "| **Use Case** | When you know **all attributes upfront** and want a rigid schema. | When keys are **variable or semi-structured**, e.g., JSON with optional fields. |\n",
        "| **Order** | Fields have a **fixed order**. | Key order is **not guaranteed**. |\n",
        "| **Example** | `{street: \"Muvattupuzha\", city: \"Ernakulam\", zip: 686669}` | `{\"city\": \"Ernakulam\", \"hobby\": \"Chess\"}` |\n",
        "\n"
      ],
      "metadata": {
        "id": "WVoeEsC6dCii"
      }
    },
    {
      "cell_type": "code",
      "source": [
        "from pyspark.sql import SparkSession\n",
        "spark = SparkSession.builder.appName('spark-functions').getOrCreate()"
      ],
      "metadata": {
        "id": "ybUiYrYGdoun"
      },
      "execution_count": null,
      "outputs": []
    },
    {
      "cell_type": "code",
      "execution_count": null,
      "metadata": {
        "colab": {
          "base_uri": "https://localhost:8080/"
        },
        "id": "yFTB_EXCZPlG",
        "outputId": "2529f628-5517-4215-f304-1f4bf8a66b61"
      },
      "outputs": [
        {
          "output_type": "stream",
          "name": "stdout",
          "text": [
            "+-------------------------------------------+---------------------+\n",
            "|mapGenerated                               |structGenerated      |\n",
            "+-------------------------------------------+---------------------+\n",
            "|{name -> rahul, profession -> dataengineer}|{rahul, dataengineer}|\n",
            "+-------------------------------------------+---------------------+\n",
            "\n"
          ]
        }
      ],
      "source": [
        "# map : create a map\n",
        "\n",
        "sql = '''\n",
        "with cte as\n",
        "(\n",
        "  select\n",
        "  map('name','rahul','profession','dataengineer') as mapGenerated,\n",
        "  named_struct('name','rahul','profession','dataengineer') as structGenerated\n",
        ")\n",
        "select mapGenerated,structGenerated\n",
        "from cte\n",
        "'''\n",
        "\n",
        "spark.sql(sql).show(truncate = False)"
      ]
    },
    {
      "cell_type": "code",
      "source": [
        "# map_concat : create a map\n",
        "\n",
        "sql = '''\n",
        "with cte as\n",
        "(\n",
        "  select\n",
        "  map('name','rahul','profession','dataengineer') as mapGenerated1,\n",
        "  map('age',33,'sports','cricket') as mapGenerated2\n",
        ")\n",
        "select map_concat(mapGenerated1,mapGenerated2) as map_concatOut\n",
        "from cte\n",
        "'''\n",
        "\n",
        "spark.sql(sql).show(truncate = False)"
      ],
      "metadata": {
        "colab": {
          "base_uri": "https://localhost:8080/"
        },
        "id": "CevvldfLd2Yn",
        "outputId": "bd35a936-841a-4631-e6da-789a00e2d058"
      },
      "execution_count": null,
      "outputs": [
        {
          "output_type": "stream",
          "name": "stdout",
          "text": [
            "+-------------------------------------------------------------------------+\n",
            "|map_concatOut                                                            |\n",
            "+-------------------------------------------------------------------------+\n",
            "|{name -> rahul, profession -> dataengineer, age -> 33, sports -> cricket}|\n",
            "+-------------------------------------------------------------------------+\n",
            "\n"
          ]
        }
      ]
    },
    {
      "cell_type": "code",
      "source": [
        "# map_contains_key : this case sensitive\n",
        "\n",
        "sql = '''\n",
        "with cte as\n",
        "(\n",
        "  select\n",
        "  map('name','rahul','profession','dataengineer') as mapGenerated1\n",
        ")\n",
        "select map_contains_key(mapGenerated1,'name') as map_concatOut\n",
        "from cte\n",
        "'''\n",
        "\n",
        "spark.sql(sql).show(truncate = False)\n",
        "\n",
        "##--\n",
        "\n",
        "sql = '''\n",
        "with cte as\n",
        "(\n",
        "  select\n",
        "  map('name','rahul','profession','dataengineer') as mapGenerated1\n",
        ")\n",
        "select map_contains_key(mapGenerated1,'Name') as map_concatOut\n",
        "from cte\n",
        "'''\n",
        "\n",
        "spark.sql(sql).show(truncate = False)"
      ],
      "metadata": {
        "colab": {
          "base_uri": "https://localhost:8080/"
        },
        "id": "IFoOdTsbe3KU",
        "outputId": "7f6fe9e7-db4c-49c0-ef2c-cc3d86a41a0d"
      },
      "execution_count": null,
      "outputs": [
        {
          "output_type": "stream",
          "name": "stdout",
          "text": [
            "+-------------+\n",
            "|map_concatOut|\n",
            "+-------------+\n",
            "|true         |\n",
            "+-------------+\n",
            "\n",
            "+-------------+\n",
            "|map_concatOut|\n",
            "+-------------+\n",
            "|false        |\n",
            "+-------------+\n",
            "\n"
          ]
        }
      ]
    },
    {
      "cell_type": "code",
      "source": [
        "# map_entries : this converts the map into an array of stucts\n",
        "\n",
        "## this will help to flatten a map and do array operation if in case requred.\n",
        "\n",
        "sql = '''\n",
        "with cte as (\n",
        "  select map('name','rahul','profession','dataengineer') as mapGenerated1\n",
        ")\n",
        "select\n",
        "  mapGenerated1,\n",
        "  map_entries(mapGenerated1) as map_entriesout\n",
        "from cte\n",
        "'''\n",
        "spark.sql(sql).show(truncate = False)"
      ],
      "metadata": {
        "colab": {
          "base_uri": "https://localhost:8080/"
        },
        "id": "kTMO1m03fGk7",
        "outputId": "34a2cd12-c3ba-4d1e-d995-658b68bcfd80"
      },
      "execution_count": null,
      "outputs": [
        {
          "output_type": "stream",
          "name": "stdout",
          "text": [
            "+-------------------------------------------+-------------------------------------------+\n",
            "|mapGenerated1                              |map_entriesout                             |\n",
            "+-------------------------------------------+-------------------------------------------+\n",
            "|{name -> rahul, profession -> dataengineer}|[{name, rahul}, {profession, dataengineer}]|\n",
            "+-------------------------------------------+-------------------------------------------+\n",
            "\n"
          ]
        }
      ]
    },
    {
      "cell_type": "code",
      "source": [
        "# map_from_arrays\n",
        "\n",
        "sql = '''\n",
        "with cte as (\n",
        "  select\n",
        "    array('name','profession') as keyarray,\n",
        "    array('rahul','dataengineering') as valuearray\n",
        ")\n",
        "select\n",
        "  keyarray,\n",
        "  valuearray,\n",
        "  map_from_arrays(keyarray,valuearray) as resultMap\n",
        "from cte\n",
        "'''\n",
        "spark.sql(sql).show(truncate = False)\n",
        "\n"
      ],
      "metadata": {
        "colab": {
          "base_uri": "https://localhost:8080/"
        },
        "id": "KE7gMv6egr8k",
        "outputId": "b6f6b3c6-0990-4767-eded-f506005d907d"
      },
      "execution_count": null,
      "outputs": [
        {
          "output_type": "stream",
          "name": "stdout",
          "text": [
            "+------------------+------------------------+----------------------------------------------+\n",
            "|keyarray          |valuearray              |resultMap                                     |\n",
            "+------------------+------------------------+----------------------------------------------+\n",
            "|[name, profession]|[rahul, dataengineering]|{name -> rahul, profession -> dataengineering}|\n",
            "+------------------+------------------------+----------------------------------------------+\n",
            "\n"
          ]
        }
      ]
    },
    {
      "cell_type": "code",
      "source": [
        "# map_from_entries\n",
        "\n",
        "# an entry is an array of structs\n",
        "\n",
        "sql = '''\n",
        "with cte as (\n",
        "  select\n",
        "    array(struct('name','rahul'),\n",
        "          struct('profession','dataengineer'),\n",
        "          struct('sports','cricket')) as entry1\n",
        ")\n",
        "select\n",
        "  entry1,\n",
        "  map_from_entries(entry1) as map_from_entriesOut\n",
        "from cte\n",
        "'''\n",
        "spark.sql(sql).show(truncate = False)\n"
      ],
      "metadata": {
        "colab": {
          "base_uri": "https://localhost:8080/"
        },
        "id": "v6YNoyszih9-",
        "outputId": "ed264529-2367-44a8-dd9c-e3159dc931be"
      },
      "execution_count": null,
      "outputs": [
        {
          "output_type": "stream",
          "name": "stdout",
          "text": [
            "+--------------------------------------------------------------+--------------------------------------------------------------+\n",
            "|entry1                                                        |map_from_entriesOut                                           |\n",
            "+--------------------------------------------------------------+--------------------------------------------------------------+\n",
            "|[{name, rahul}, {profession, dataengineer}, {sports, cricket}]|{name -> rahul, profession -> dataengineer, sports -> cricket}|\n",
            "+--------------------------------------------------------------+--------------------------------------------------------------+\n",
            "\n"
          ]
        }
      ]
    },
    {
      "cell_type": "code",
      "source": [],
      "metadata": {
        "id": "eZ0QRDhpjpBt"
      },
      "execution_count": null,
      "outputs": []
    }
  ]
}