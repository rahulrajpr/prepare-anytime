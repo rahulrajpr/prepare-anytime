{
  "nbformat": 4,
  "nbformat_minor": 0,
  "metadata": {
    "colab": {
      "provenance": [],
      "authorship_tag": "ABX9TyMxz0JtCkV7GWqkftFSSLOW",
      "include_colab_link": true
    },
    "kernelspec": {
      "name": "python3",
      "display_name": "Python 3"
    },
    "language_info": {
      "name": "python"
    }
  },
  "cells": [
    {
      "cell_type": "markdown",
      "metadata": {
        "id": "view-in-github",
        "colab_type": "text"
      },
      "source": [
        "<a href=\"https://colab.research.google.com/github/rahulrajpr/prepare-anytime/blob/main/spark/functions/12_spark_sql_predicate_functions.ipynb\" target=\"_parent\"><img src=\"https://colab.research.google.com/assets/colab-badge.svg\" alt=\"Open In Colab\"/></a>"
      ]
    },
    {
      "cell_type": "markdown",
      "source": [
        "# **Spark Predicate Functions**\n",
        "https://spark.apache.org/docs/latest/sql-ref-functions-builtin.html#predicate-functions"
      ],
      "metadata": {
        "id": "7t-KN1NRY86Q"
      }
    },
    {
      "cell_type": "code",
      "execution_count": null,
      "metadata": {
        "id": "rNa109vpY4-B"
      },
      "outputs": [],
      "source": [
        "from pyspark.sql import SparkSession\n",
        "spark = SparkSession.builder.appName('spark-functions').getOrCreate()"
      ]
    },
    {
      "cell_type": "code",
      "source": [
        "# !\n",
        "\n",
        "sql = '''select ! True as val'''\n",
        "spark.sql(sql).show(truncate = True)"
      ],
      "metadata": {
        "colab": {
          "base_uri": "https://localhost:8080/"
        },
        "id": "ueIaer-jZQL6",
        "outputId": "5c2fe6e2-54ae-4519-9c06-37c34a783259"
      },
      "execution_count": null,
      "outputs": [
        {
          "output_type": "stream",
          "name": "stdout",
          "text": [
            "+-----+\n",
            "|  val|\n",
            "+-----+\n",
            "|false|\n",
            "+-----+\n",
            "\n"
          ]
        }
      ]
    },
    {
      "cell_type": "code",
      "source": [
        "# NOT\n",
        "\n",
        "sql = '''select NOT True as val'''\n",
        "spark.sql(sql).show(truncate = True)"
      ],
      "metadata": {
        "colab": {
          "base_uri": "https://localhost:8080/"
        },
        "id": "G9gWoA_vZlZh",
        "outputId": "f82aa020-ff9e-4340-d879-0a344646c8b2"
      },
      "execution_count": null,
      "outputs": [
        {
          "output_type": "stream",
          "name": "stdout",
          "text": [
            "+-----+\n",
            "|  val|\n",
            "+-----+\n",
            "|false|\n",
            "+-----+\n",
            "\n"
          ]
        }
      ]
    },
    {
      "cell_type": "code",
      "source": [
        "# =\n",
        "# Synonym ==\n",
        "\n",
        "sql = '''select 5 = 5.0 as val'''\n",
        "spark.sql(sql).show(truncate = True)\n",
        "\n",
        "#--\n",
        "\n",
        "sql = '''select NULL = NULL as val'''\n",
        "spark.sql(sql).show(truncate = True)\n",
        "\n",
        "#--\n",
        "\n",
        "sql = '''select 3 = NULL as val'''\n",
        "spark.sql(sql).show(truncate = True)"
      ],
      "metadata": {
        "colab": {
          "base_uri": "https://localhost:8080/"
        },
        "id": "IPCktP1MaAY_",
        "outputId": "26b48ada-ed9f-451f-8c74-3807d0cd4ebe"
      },
      "execution_count": null,
      "outputs": [
        {
          "output_type": "stream",
          "name": "stdout",
          "text": [
            "+----+\n",
            "| val|\n",
            "+----+\n",
            "|true|\n",
            "+----+\n",
            "\n",
            "+----+\n",
            "| val|\n",
            "+----+\n",
            "|NULL|\n",
            "+----+\n",
            "\n",
            "+----+\n",
            "| val|\n",
            "+----+\n",
            "|NULL|\n",
            "+----+\n",
            "\n"
          ]
        }
      ]
    },
    {
      "cell_type": "code",
      "source": [
        "# ==\n",
        "\n",
        "sql = '''select 5 == 5.0 as val'''\n",
        "spark.sql(sql).show(truncate = True)\n",
        "\n",
        "#--\n",
        "\n",
        "sql = '''select NULL == NULL as val'''\n",
        "spark.sql(sql).show(truncate = True)\n",
        "\n",
        "#--\n",
        "\n",
        "sql = '''select 3 == NULL as val'''\n",
        "spark.sql(sql).show(truncate = True)"
      ],
      "metadata": {
        "colab": {
          "base_uri": "https://localhost:8080/"
        },
        "id": "9X_nmuP8cCp-",
        "outputId": "057e0c65-3593-4830-fa81-04fe33b6dbd0"
      },
      "execution_count": null,
      "outputs": [
        {
          "output_type": "stream",
          "name": "stdout",
          "text": [
            "+----+\n",
            "| val|\n",
            "+----+\n",
            "|true|\n",
            "+----+\n",
            "\n",
            "+----+\n",
            "| val|\n",
            "+----+\n",
            "|NULL|\n",
            "+----+\n",
            "\n",
            "+----+\n",
            "| val|\n",
            "+----+\n",
            "|NULL|\n",
            "+----+\n",
            "\n"
          ]
        }
      ]
    },
    {
      "cell_type": "code",
      "source": [
        "# <=> : Null Safe Equality\n",
        "# synonymn : EqualNull\n",
        "\n",
        "sql = '''select 5 <=> 5.0 as val'''\n",
        "spark.sql(sql).show(truncate = True)\n",
        "\n",
        "#--\n",
        "\n",
        "sql = '''select NULL <=> NULL as val'''\n",
        "spark.sql(sql).show(truncate = True)\n",
        "\n",
        "#-\n",
        "\n",
        "sql = '''select 4 <=> NULL as val'''\n",
        "spark.sql(sql).show(truncate = True)"
      ],
      "metadata": {
        "colab": {
          "base_uri": "https://localhost:8080/"
        },
        "id": "nVwDUXQiaPlx",
        "outputId": "f647dbab-1ff1-445c-9a6d-055b221a52d1"
      },
      "execution_count": null,
      "outputs": [
        {
          "output_type": "stream",
          "name": "stdout",
          "text": [
            "+----+\n",
            "| val|\n",
            "+----+\n",
            "|true|\n",
            "+----+\n",
            "\n",
            "+----+\n",
            "| val|\n",
            "+----+\n",
            "|true|\n",
            "+----+\n",
            "\n",
            "+-----+\n",
            "|  val|\n",
            "+-----+\n",
            "|false|\n",
            "+-----+\n",
            "\n"
          ]
        }
      ]
    },
    {
      "cell_type": "code",
      "source": [
        "# EqualNUll\n",
        "\n",
        "sql = '''select Equal_Null(5,5.0) as val'''\n",
        "spark.sql(sql).show(truncate = True)\n",
        "\n",
        "#--\n",
        "\n",
        "sql = '''select Equal_Null(NULL,NULL)  as val'''\n",
        "spark.sql(sql).show(truncate = True)\n",
        "\n",
        "#-\n",
        "\n",
        "sql = '''select Equal_Null(5,NULL) as val'''\n",
        "spark.sql(sql).show(truncate = True)"
      ],
      "metadata": {
        "colab": {
          "base_uri": "https://localhost:8080/"
        },
        "id": "LEVIR6on4IFj",
        "outputId": "3a17efbd-1c50-4656-bfb9-ac005241dd7f"
      },
      "execution_count": null,
      "outputs": [
        {
          "output_type": "stream",
          "name": "stdout",
          "text": [
            "+----+\n",
            "| val|\n",
            "+----+\n",
            "|true|\n",
            "+----+\n",
            "\n",
            "+----+\n",
            "| val|\n",
            "+----+\n",
            "|true|\n",
            "+----+\n",
            "\n",
            "+-----+\n",
            "|  val|\n",
            "+-----+\n",
            "|false|\n",
            "+-----+\n",
            "\n"
          ]
        }
      ]
    },
    {
      "cell_type": "markdown",
      "source": [
        "---\n",
        "#### Spark Predicate Comparison: `=` vs `<=>` (Null Safe Equality)\n",
        "---\n",
        "\n",
        "| Aspect | `=` (Equality) | `<=>` (Null-safe Equality) |\n",
        "|--------|----------------|----------------------------|\n",
        "| **Basic Definition** | Standard equality comparison | Null-safe equality comparison |\n",
        "| **NULL Handling** | Returns NULL if any operand is NULL | Returns TRUE if both operands are NULL, FALSE if one is NULL |\n",
        "| **Syntax** | `column = value` | `column <=> value` |\n",
        "| **Alternative Syntax** | `==` (in DataFrame API) | `eqNullSafe()` (in DataFrame API) |\n",
        "| **NULL = NULL** | Returns NULL | Returns TRUE |\n",
        "| **NULL = Value** | Returns NULL | Returns FALSE |\n",
        "| **Value = NULL** | Returns NULL | Returns FALSE |\n",
        "| **Spark SQL Support** | Yes | Yes |\n",
        "| **DataFrame API Support** | Yes | Yes |\n",
        "---\n",
        "##### Key Differences\n",
        "---\n",
        "- **`=`** follows SQL standard: any comparison with NULL returns NULL\n",
        "- **`<=>`** treats NULL as a comparable value: NULL <=> NULL returns TRUE\n",
        "---\n",
        "##### When to Use\n",
        "---\n",
        "##### Use `=` when:\n",
        "- You're sure columns don't contain NULLs\n",
        "- You want standard SQL behavior\n",
        "- NULL comparisons should return NULL\n",
        "- Performance is critical\n",
        "---\n",
        "##### Use `<=>` when:\n",
        "---\n",
        "- You need to compare columns that may contain NULLs\n",
        "- You want to treat NULL as a comparable value\n",
        "- You need consistent boolean results\n",
        "- Working with anti-joins or finding missing records"
      ],
      "metadata": {
        "id": "gK45OEVKaplO"
      }
    },
    {
      "cell_type": "code",
      "source": [
        "# <\n",
        "\n",
        "sql = '''select 5 < 10 as val'''\n",
        "spark.sql(sql).show(truncate = True)"
      ],
      "metadata": {
        "colab": {
          "base_uri": "https://localhost:8080/"
        },
        "id": "rgxN_zVBZrb5",
        "outputId": "af1f419e-d659-41a0-a184-ddf28e6477eb"
      },
      "execution_count": null,
      "outputs": [
        {
          "output_type": "stream",
          "name": "stdout",
          "text": [
            "+----+\n",
            "| val|\n",
            "+----+\n",
            "|true|\n",
            "+----+\n",
            "\n"
          ]
        }
      ]
    },
    {
      "cell_type": "code",
      "source": [
        "# <=\n",
        "\n",
        "sql = '''select 5 <= 5.0 as val'''\n",
        "spark.sql(sql).show(truncate = True)"
      ],
      "metadata": {
        "colab": {
          "base_uri": "https://localhost:8080/"
        },
        "id": "CfF0joiDZ11n",
        "outputId": "c6577b33-abda-4462-9960-f3d883087f4a"
      },
      "execution_count": null,
      "outputs": [
        {
          "output_type": "stream",
          "name": "stdout",
          "text": [
            "+----+\n",
            "| val|\n",
            "+----+\n",
            "|true|\n",
            "+----+\n",
            "\n"
          ]
        }
      ]
    },
    {
      "cell_type": "code",
      "source": [
        "# <\n",
        "\n",
        "sql = '''select 10 > 5 as val'''\n",
        "spark.sql(sql).show(truncate = True)"
      ],
      "metadata": {
        "colab": {
          "base_uri": "https://localhost:8080/"
        },
        "id": "qeBffLoBaGzI",
        "outputId": "1a5e7c7b-20cc-4cf8-e318-72cf1910b937"
      },
      "execution_count": null,
      "outputs": [
        {
          "output_type": "stream",
          "name": "stdout",
          "text": [
            "+----+\n",
            "| val|\n",
            "+----+\n",
            "|true|\n",
            "+----+\n",
            "\n"
          ]
        }
      ]
    },
    {
      "cell_type": "code",
      "source": [
        "# <=\n",
        "\n",
        "sql = '''select 10 >= 5.0 as val'''\n",
        "spark.sql(sql).show(truncate = True)"
      ],
      "metadata": {
        "colab": {
          "base_uri": "https://localhost:8080/"
        },
        "id": "TshcT8STZ5-A",
        "outputId": "730a0b31-44b2-4de3-f03a-1afbb2b50442"
      },
      "execution_count": null,
      "outputs": [
        {
          "output_type": "stream",
          "name": "stdout",
          "text": [
            "+----+\n",
            "| val|\n",
            "+----+\n",
            "|true|\n",
            "+----+\n",
            "\n"
          ]
        }
      ]
    },
    {
      "cell_type": "code",
      "source": [
        "# and : `loccal and`\n",
        "\n",
        "sql = '''select True and True as val'''\n",
        "spark.sql(sql).show(truncate = True)\n",
        "\n",
        "sql = '''select False and True as val'''\n",
        "spark.sql(sql).show(truncate = True)\n",
        "\n",
        "sql = '''select NULL and True as val'''  #-- very important to note\n",
        "spark.sql(sql).show(truncate = True)\n",
        "\n",
        "sql = '''select NULL and False as val''' #-- very important to note\n",
        "spark.sql(sql).show(truncate = True)\n"
      ],
      "metadata": {
        "colab": {
          "base_uri": "https://localhost:8080/"
        },
        "id": "fqihXfpCaLxa",
        "outputId": "ed5ef3f5-022e-4f46-f910-3ac1ba94574e"
      },
      "execution_count": null,
      "outputs": [
        {
          "output_type": "stream",
          "name": "stdout",
          "text": [
            "+----+\n",
            "| val|\n",
            "+----+\n",
            "|true|\n",
            "+----+\n",
            "\n",
            "+-----+\n",
            "|  val|\n",
            "+-----+\n",
            "|false|\n",
            "+-----+\n",
            "\n",
            "+----+\n",
            "| val|\n",
            "+----+\n",
            "|NULL|\n",
            "+----+\n",
            "\n",
            "+-----+\n",
            "|  val|\n",
            "+-----+\n",
            "|false|\n",
            "+-----+\n",
            "\n"
          ]
        }
      ]
    },
    {
      "cell_type": "code",
      "source": [
        "# or : `locical or`\n",
        "\n",
        "sql = '''select True or True as val'''\n",
        "spark.sql(sql).show(truncate = True)\n",
        "\n",
        "sql = '''select False or True as val'''\n",
        "spark.sql(sql).show(truncate = True)\n",
        "\n",
        "sql = '''select NULL or True as val'''  #-- very important to note\n",
        "spark.sql(sql).show(truncate = True)\n",
        "\n",
        "sql = '''select NULL or False as val''' #-- very important to note\n",
        "spark.sql(sql).show(truncate = True)"
      ],
      "metadata": {
        "colab": {
          "base_uri": "https://localhost:8080/"
        },
        "id": "eBYbjmRecWA_",
        "outputId": "76dbcf40-7090-4ec0-f9f7-00a85c351d2e"
      },
      "execution_count": null,
      "outputs": [
        {
          "output_type": "stream",
          "name": "stdout",
          "text": [
            "+----+\n",
            "| val|\n",
            "+----+\n",
            "|true|\n",
            "+----+\n",
            "\n",
            "+----+\n",
            "| val|\n",
            "+----+\n",
            "|true|\n",
            "+----+\n",
            "\n",
            "+----+\n",
            "| val|\n",
            "+----+\n",
            "|true|\n",
            "+----+\n",
            "\n",
            "+----+\n",
            "| val|\n",
            "+----+\n",
            "|NULL|\n",
            "+----+\n",
            "\n"
          ]
        }
      ]
    },
    {
      "cell_type": "markdown",
      "source": [
        "---\n",
        "#### Logical AND / OR Truth Table (with NULL)\n",
        "---\n",
        "| Operand1 | Operand2 | AND Result | OR Result |\n",
        "|----------|----------|------------|-----------|\n",
        "| TRUE     | TRUE     | TRUE       | TRUE      |\n",
        "| TRUE     | FALSE    | FALSE      | TRUE      |\n",
        "|||\n",
        "| FALSE    | FALSE    | FALSE      | FALSE     |\n",
        "|||\n",
        "| TRUE     | NULL     | NULL       | TRUE      |\n",
        "|||\n",
        "| FALSE    | NULL     | FALSE      | NULL      |\n",
        "|||\n",
        "| NULL     | NULL     | NULL       | NULL      |\n",
        "\n",
        "---\n",
        "##### Key Rules\n",
        "---\n",
        "\n",
        "##### AND (&&)\n",
        "- Returns **TRUE** only if both operands are TRUE\n",
        "- Returns **FALSE** immediately if any operand is FALSE\n",
        "- Returns **NULL** if no operand is FALSE and at least one is NULL\n",
        "---\n",
        "##### OR (||)\n",
        "- Returns **TRUE** immediately if any operand is TRUE  \n",
        "- Returns **FALSE** only if both operands are FALSE\n",
        "- Returns **NULL** if no operand is TRUE and at least one is NULL\n",
        "---\n",
        "##### Short-Circuit Evaluation\n",
        "- `FALSE AND anything` = FALSE (right side not evaluated)\n",
        "- `TRUE OR anything` = TRUE (right side not evaluated)"
      ],
      "metadata": {
        "id": "2y4o8LZqnqRq"
      }
    },
    {
      "cell_type": "code",
      "source": [
        "# like\n",
        "\n",
        "sql = '''select 'rahul' like '%hu%' as val '''\n",
        "spark.sql(sql).show(truncate = False)"
      ],
      "metadata": {
        "id": "CWsAD1C7cYYr",
        "colab": {
          "base_uri": "https://localhost:8080/"
        },
        "outputId": "cb417a11-f568-4317-aba8-5fd51db8f7b9"
      },
      "execution_count": null,
      "outputs": [
        {
          "output_type": "stream",
          "name": "stdout",
          "text": [
            "+----+\n",
            "|val |\n",
            "+----+\n",
            "|true|\n",
            "+----+\n",
            "\n"
          ]
        }
      ]
    },
    {
      "cell_type": "code",
      "source": [
        "# ilike : case in-sensitive like\n",
        "\n",
        "sql = '''select 'rahul' ilike '%HU%' as val '''\n",
        "spark.sql(sql).show(truncate = False)"
      ],
      "metadata": {
        "colab": {
          "base_uri": "https://localhost:8080/"
        },
        "id": "g4T8vSgR5B0x",
        "outputId": "995ce3c2-27e9-4faa-ae64-582fdd5cbb5c"
      },
      "execution_count": null,
      "outputs": [
        {
          "output_type": "stream",
          "name": "stdout",
          "text": [
            "+----+\n",
            "|val |\n",
            "+----+\n",
            "|true|\n",
            "+----+\n",
            "\n"
          ]
        }
      ]
    },
    {
      "cell_type": "code",
      "source": [
        "# rlike : regex-like\n",
        "\n",
        "sql = '''select 'rahul99' rlike '[0-9]' as val '''\n",
        "spark.sql(sql).show(truncate = False)"
      ],
      "metadata": {
        "colab": {
          "base_uri": "https://localhost:8080/"
        },
        "id": "YgAnvWvE5I6D",
        "outputId": "243b0ca1-e0bb-4f96-f235-807bf0616f51"
      },
      "execution_count": null,
      "outputs": [
        {
          "output_type": "stream",
          "name": "stdout",
          "text": [
            "+----+\n",
            "|val |\n",
            "+----+\n",
            "|true|\n",
            "+----+\n",
            "\n"
          ]
        }
      ]
    },
    {
      "cell_type": "code",
      "source": [
        "# regexp_like : regexp-like\n",
        "\n",
        "sql = '''select regexp_like('rahul99','[0-9]') as val '''\n",
        "spark.sql(sql).show(truncate = False)"
      ],
      "metadata": {
        "colab": {
          "base_uri": "https://localhost:8080/"
        },
        "id": "BcL1Chn69Nb1",
        "outputId": "c764e22e-51aa-4a0e-fb94-7f912543a461"
      },
      "execution_count": null,
      "outputs": [
        {
          "output_type": "stream",
          "name": "stdout",
          "text": [
            "+----+\n",
            "|val |\n",
            "+----+\n",
            "|true|\n",
            "+----+\n",
            "\n"
          ]
        }
      ]
    },
    {
      "cell_type": "markdown",
      "source": [
        "#### Comparison of `LIKE`, `ILIKE`, and `RLIKE`\n",
        "\n",
        "| Feature | LIKE | ILIKE | RLIKE (or REGEXP) |\n",
        "| :--- | :--- | :--- | :--- |\n",
        "| **Full Name** | Basic Pattern Match | **Case-Insensitive** Basic Pattern Match | **Regex** Pattern Match |\n",
        "| **Case-Sensitive?** | **Yes** | **No** | **Yes** (by default) |\n",
        "| **Pattern Type** | SQL Wildcards | SQL Wildcards | **POSIX Regular\n",
        "| **Performance** | **Fastest** (simple comparison) | Fast (similar to LIKE) | **Slower** (regex engine overhead) |\n",
        "| **Use Case** | Simple, case-sensitive text filtering.<br>e.g., Find names starting with \"Jo\". | Simple, case-**in**sensitive text filtering.<br>e.g., Find emails ending with \"@gmail.com\". | Complex, flexible pattern matching.<br>e.g., Validate email format, extract log data. |"
      ],
      "metadata": {
        "id": "Zfloyeow6AxJ"
      }
    },
    {
      "cell_type": "code",
      "source": [
        "# in\n",
        "\n",
        "sql = '''select 'rahul' in ('rahul','lathika','skylr') as val '''\n",
        "spark.sql(sql).show(truncate = False)"
      ],
      "metadata": {
        "colab": {
          "base_uri": "https://localhost:8080/"
        },
        "id": "ffMjf4rx5VOC",
        "outputId": "fd02b2fd-68cb-4335-8ff9-8287dc6ff9ac"
      },
      "execution_count": null,
      "outputs": [
        {
          "output_type": "stream",
          "name": "stdout",
          "text": [
            "+----+\n",
            "|val |\n",
            "+----+\n",
            "|true|\n",
            "+----+\n",
            "\n"
          ]
        }
      ]
    },
    {
      "cell_type": "code",
      "source": [
        "# isnull\n",
        "\n",
        "sql = '''select isnull(NULL) as val '''\n",
        "spark.sql(sql).show(truncate = False)"
      ],
      "metadata": {
        "colab": {
          "base_uri": "https://localhost:8080/"
        },
        "id": "0qMZ-AT66cJd",
        "outputId": "1b68a673-7e13-43aa-8663-d04b4e14eccb"
      },
      "execution_count": null,
      "outputs": [
        {
          "output_type": "stream",
          "name": "stdout",
          "text": [
            "+----+\n",
            "|val |\n",
            "+----+\n",
            "|true|\n",
            "+----+\n",
            "\n"
          ]
        }
      ]
    },
    {
      "cell_type": "code",
      "source": [
        "# isNotnull\n",
        "\n",
        "sql = '''select isNotnull('rahul') as val '''\n",
        "spark.sql(sql).show(truncate = False)"
      ],
      "metadata": {
        "colab": {
          "base_uri": "https://localhost:8080/"
        },
        "id": "AvuueAgl6qGN",
        "outputId": "37c33d90-12be-4b9e-f2ae-3d0327f41583"
      },
      "execution_count": null,
      "outputs": [
        {
          "output_type": "stream",
          "name": "stdout",
          "text": [
            "+----+\n",
            "|val |\n",
            "+----+\n",
            "|true|\n",
            "+----+\n",
            "\n"
          ]
        }
      ]
    },
    {
      "cell_type": "code",
      "source": [
        "# isNan\n",
        "\n",
        "sql = '''select 99 AS val,isNan(99) as Eval '''\n",
        "spark.sql(sql).show(truncate = False)\n",
        "\n",
        "sql = '''select 'rahul' AS val,isNan('rahul') as Eval '''\n",
        "spark.sql(sql).show(truncate = False)\n",
        "\n",
        "sql = '''select NULL AS val,isNan(NULL) as Eval '''\n",
        "spark.sql(sql).show(truncate = False)\n",
        "\n",
        "sql = '''select 'Nan' AS val,isNan('Nan') as Eval '''\n",
        "spark.sql(sql).show(truncate = False)\n",
        "\n",
        "sql = '''select CAST('Nan' AS DOUBLE) as val,isNan(CAST('Nan' AS DOUBLE)) as Eval '''\n",
        "spark.sql(sql).show(truncate = False)"
      ],
      "metadata": {
        "colab": {
          "base_uri": "https://localhost:8080/"
        },
        "id": "bSmH22Is6tes",
        "outputId": "e8d5b289-6616-45bf-fa07-2ad18703009e"
      },
      "execution_count": null,
      "outputs": [
        {
          "output_type": "stream",
          "name": "stdout",
          "text": [
            "+---+-----+\n",
            "|val|Eval |\n",
            "+---+-----+\n",
            "|99 |false|\n",
            "+---+-----+\n",
            "\n",
            "+-----+-----+\n",
            "|val  |Eval |\n",
            "+-----+-----+\n",
            "|rahul|false|\n",
            "+-----+-----+\n",
            "\n",
            "+----+-----+\n",
            "|val |Eval |\n",
            "+----+-----+\n",
            "|NULL|false|\n",
            "+----+-----+\n",
            "\n",
            "+---+----+\n",
            "|val|Eval|\n",
            "+---+----+\n",
            "|Nan|true|\n",
            "+---+----+\n",
            "\n",
            "+---+----+\n",
            "|val|Eval|\n",
            "+---+----+\n",
            "|NaN|true|\n",
            "+---+----+\n",
            "\n"
          ]
        }
      ]
    },
    {
      "cell_type": "markdown",
      "source": [
        "---\n",
        "#### Comparison of NULL and NaN\n",
        "---\n",
        "\n",
        "| Feature | NULL | NaN (Not a Number) |\n",
        "| :--- | :--- | :--- |\n",
        "| **Full Name** | Absence of Value / Unknown | **Not a Number** |\n",
        "| **Data Type** | Applicable to **all** data types | Primarily for **floating-point** numeric types (Float, Double) |\n",
        "| **Semantic Meaning** | Represents **missing**, **unknown**, or **inapplicable** data | Represents an **undefined** or **unrepresentable** numeric value |\n",
        "| **Origin/Source** | Unpopulated fields, JOIN mismatches, explicit NULL inserts | Result of **invalid mathematical operations** (0/0, ∞-∞, √-1) |\n",
        "| **Comparison Behavior** | `NULL = NULL` → **NULL**<br>`NULL IS NULL` → **True**<br>| `NaN = NaN` → **True**<br>`NaN` is considered **equal to itself** |\n",
        "| **Propagation** | Most operations with NULL return **NULL** (propagates) | Mathematical operations with NaN typically return **NaN** (propagates) |\n",
        "| **Sorting Order** | Treated as the **smallest** possible value by default<br>NULLs appear **first** in ascending order | Considered **larger** than any other numeric value<br>NaNs appear **after** NULLs and regular numbers |\n",
        "---\n",
        "## Quick Summary\n",
        "---\n",
        "- **`NULL`**: Represents **missing or unknown data** across all data types\n",
        "- **`NaN`**: Represents an **invalid numeric result** specifically in floating-point computations\n",
        "---\n",
        "## Key Behavioral Differences\n",
        "---\n",
        "```sql\n",
        "-- NULL comparisons\n",
        "SELECT NULL = NULL;        -- → NULL (not True!)\n",
        "SELECT NULL IS NULL;       -- → True\n",
        "SELECT NULL IS NOT NULL;   -- → False\n",
        "\n",
        "-- NaN comparisons  \n",
        "SELECT NaN = NaN;          -- → True (unlike NULL!)\n",
        "SELECT NaN IS NULL;        -- → False\n",
        "SELECT isnan(NaN);         -- → True\n",
        "SELECT isnan(NULL);        -- → False"
      ],
      "metadata": {
        "id": "qm_o6qku795t"
      }
    }
  ]
}