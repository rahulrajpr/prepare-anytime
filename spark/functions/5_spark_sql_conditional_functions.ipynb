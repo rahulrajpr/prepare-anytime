{
  "nbformat": 4,
  "nbformat_minor": 0,
  "metadata": {
    "colab": {
      "provenance": [],
      "authorship_tag": "ABX9TyPAFmKSL75z5rBw8bzc/dfM",
      "include_colab_link": true
    },
    "kernelspec": {
      "name": "python3",
      "display_name": "Python 3"
    },
    "language_info": {
      "name": "python"
    }
  },
  "cells": [
    {
      "cell_type": "markdown",
      "metadata": {
        "id": "view-in-github",
        "colab_type": "text"
      },
      "source": [
        "<a href=\"https://colab.research.google.com/github/rahulrajpr/prepare-anytime/blob/main/spark/functions/5_spark_sql_conditional_functions.ipynb\" target=\"_parent\"><img src=\"https://colab.research.google.com/assets/colab-badge.svg\" alt=\"Open In Colab\"/></a>"
      ]
    },
    {
      "cell_type": "markdown",
      "source": [
        "# Spark Casting Functions\n",
        "https://spark.apache.org/docs/latest/sql-ref-functions-builtin.html#conditional-functions"
      ],
      "metadata": {
        "id": "7wjZSvo4cNw8"
      }
    },
    {
      "cell_type": "code",
      "execution_count": null,
      "metadata": {
        "id": "YZ9sYYwRcKgf"
      },
      "outputs": [],
      "source": [
        "from pyspark.sql import SparkSession\n",
        "spark = SparkSession.builder.appName('spark-functions').getOrCreate()"
      ]
    },
    {
      "cell_type": "code",
      "source": [
        "# coalesce\n",
        "\n",
        "sql = '''select coalesce(1,2) as out'''\n",
        "spark.sql(sql).show(truncate = False)\n",
        "\n",
        "sql = '''select coalesce(NULL,2) as out'''\n",
        "spark.sql(sql).show(truncate = False)"
      ],
      "metadata": {
        "colab": {
          "base_uri": "https://localhost:8080/"
        },
        "id": "Ggtnha3Jcf6U",
        "outputId": "07a977b9-96de-4d7c-a8fa-1c2adc333321"
      },
      "execution_count": null,
      "outputs": [
        {
          "output_type": "stream",
          "name": "stdout",
          "text": [
            "+---+\n",
            "|out|\n",
            "+---+\n",
            "|1  |\n",
            "+---+\n",
            "\n",
            "+---+\n",
            "|out|\n",
            "+---+\n",
            "|2  |\n",
            "+---+\n",
            "\n"
          ]
        }
      ]
    },
    {
      "cell_type": "code",
      "source": [
        "# nvl : nullValuation\n",
        "# synonym : coalesce\n",
        "\n",
        "sql = '''select nvl(1,2) as out'''\n",
        "spark.sql(sql).show(truncate = False)\n",
        "\n",
        "sql = '''select nvl(NULL,2) as out'''\n",
        "spark.sql(sql).show(truncate = False)"
      ],
      "metadata": {
        "colab": {
          "base_uri": "https://localhost:8080/"
        },
        "id": "NPhr6LNfkZfA",
        "outputId": "6136083d-d89c-4fc5-e753-fd2b5ca77d4b"
      },
      "execution_count": null,
      "outputs": [
        {
          "output_type": "stream",
          "name": "stdout",
          "text": [
            "+---+\n",
            "|out|\n",
            "+---+\n",
            "|1  |\n",
            "+---+\n",
            "\n",
            "+---+\n",
            "|out|\n",
            "+---+\n",
            "|2  |\n",
            "+---+\n",
            "\n"
          ]
        }
      ]
    },
    {
      "cell_type": "code",
      "source": [
        "# nvl2 : nullValuation\n",
        "# synonym : coalesce\n",
        "\n",
        "sql = '''select nvl2(1,2,3) as out'''\n",
        "spark.sql(sql).show(truncate = False)\n",
        "\n",
        "sql = '''select nvl2(NULL,2,3) as out'''\n",
        "spark.sql(sql).show(truncate = False)"
      ],
      "metadata": {
        "colab": {
          "base_uri": "https://localhost:8080/"
        },
        "id": "A-a5vfvNkvgv",
        "outputId": "6cf0ca16-6366-4723-cd9e-c979acb01339"
      },
      "execution_count": null,
      "outputs": [
        {
          "output_type": "stream",
          "name": "stdout",
          "text": [
            "+---+\n",
            "|out|\n",
            "+---+\n",
            "|2  |\n",
            "+---+\n",
            "\n",
            "+---+\n",
            "|out|\n",
            "+---+\n",
            "|3  |\n",
            "+---+\n",
            "\n"
          ]
        }
      ]
    },
    {
      "cell_type": "markdown",
      "source": [
        "### Comparison of COALESCE | NVL | NVL2\n",
        "\n",
        "| Function | # of Arguments | Behavior | Spark SQL Support | Example Output |\n",
        "|----------|----------------|----------|-------------------|----------------|\n",
        "| `COALESCE` | 2+ | Returns first non-null value | ✅ Yes (SQL Standard) | `COALESCE(NULL, 'X') → 'X'` |\n",
        "| `NVL` | 2 | Returns `expr2` if `expr1` is null | ✅ Yes (Oracle compatibility) | `NVL(NULL, 'X') → 'X'` |\n",
        "| `NVL2` | 3 | Returns `expr2` if `expr1` not null, else `expr3` | ✅ Yes (Oracle compatibility) | `NVL2(NULL, 'Y', 'N') → 'N'` |"
      ],
      "metadata": {
        "id": "hvFnvkgqnORr"
      }
    },
    {
      "cell_type": "code",
      "source": [
        "# case when\n",
        "\n",
        "sql = '''select case when contains('rahul','ra') then 1 else 0 end as out'''\n",
        "spark.sql(sql).show(truncate = False)"
      ],
      "metadata": {
        "colab": {
          "base_uri": "https://localhost:8080/"
        },
        "id": "xoEgmL3Wg0Jx",
        "outputId": "c38e8dd7-14fb-4027-d9c6-2b61dd1062d9"
      },
      "execution_count": null,
      "outputs": [
        {
          "output_type": "stream",
          "name": "stdout",
          "text": [
            "+---+\n",
            "|out|\n",
            "+---+\n",
            "|1  |\n",
            "+---+\n",
            "\n"
          ]
        }
      ]
    },
    {
      "cell_type": "code",
      "source": [
        "# if\n",
        "\n",
        "sql = '''select if(contains('rahul','ra'),1,0) as out'''\n",
        "spark.sql(sql).show(truncate = False)"
      ],
      "metadata": {
        "colab": {
          "base_uri": "https://localhost:8080/"
        },
        "id": "5gvYJx__hMFt",
        "outputId": "bc282572-f1ae-497a-b9b0-6971ca553b17"
      },
      "execution_count": null,
      "outputs": [
        {
          "output_type": "stream",
          "name": "stdout",
          "text": [
            "+---+\n",
            "|out|\n",
            "+---+\n",
            "|1  |\n",
            "+---+\n",
            "\n"
          ]
        }
      ]
    },
    {
      "cell_type": "code",
      "source": [
        "# ifnull\n",
        "\n",
        "sql = '''select ifnull('rahul',0) as out'''\n",
        "spark.sql(sql).show(truncate = False)\n",
        "\n",
        "sql = '''select ifnull(null,0) as out'''\n",
        "spark.sql(sql).show(truncate = False)"
      ],
      "metadata": {
        "colab": {
          "base_uri": "https://localhost:8080/"
        },
        "id": "2_q_CI-9hVAo",
        "outputId": "ad7fa726-9e43-4005-9639-4901ac555c89"
      },
      "execution_count": null,
      "outputs": [
        {
          "output_type": "stream",
          "name": "stdout",
          "text": [
            "+-----+\n",
            "|out  |\n",
            "+-----+\n",
            "|rahul|\n",
            "+-----+\n",
            "\n",
            "+---+\n",
            "|out|\n",
            "+---+\n",
            "|0  |\n",
            "+---+\n",
            "\n"
          ]
        }
      ]
    },
    {
      "cell_type": "code",
      "source": [
        "# nullif\n",
        "\n",
        "sql = '''select nullif('null','null') as out'''\n",
        "spark.sql(sql).show(truncate = False)"
      ],
      "metadata": {
        "id": "9xZYwhdIhjsr",
        "colab": {
          "base_uri": "https://localhost:8080/"
        },
        "outputId": "e78ccb62-bd58-4f63-c427-6f909b9468a2"
      },
      "execution_count": null,
      "outputs": [
        {
          "output_type": "stream",
          "name": "stdout",
          "text": [
            "+----+\n",
            "|out |\n",
            "+----+\n",
            "|NULL|\n",
            "+----+\n",
            "\n"
          ]
        }
      ]
    },
    {
      "cell_type": "code",
      "source": [
        "#nanvl : NanValuation\n",
        "\n",
        "sql = '''select nanvl(CAST('Nan' AS double),20.0) as out''' ## very important that the optional value is a floating point\n",
        "spark.sql(sql).show(truncate = False)\n",
        "\n",
        "sql = '''select nanvl(10.0,20.0) as out'''\n",
        "spark.sql(sql).show(truncate = False)"
      ],
      "metadata": {
        "colab": {
          "base_uri": "https://localhost:8080/"
        },
        "id": "DN83OCi2iyvx",
        "outputId": "c42a0e7c-5f3e-4496-b0b2-1e7a5e5779aa"
      },
      "execution_count": null,
      "outputs": [
        {
          "output_type": "stream",
          "name": "stdout",
          "text": [
            "+----+\n",
            "|out |\n",
            "+----+\n",
            "|20.0|\n",
            "+----+\n",
            "\n",
            "+----+\n",
            "|out |\n",
            "+----+\n",
            "|10.0|\n",
            "+----+\n",
            "\n"
          ]
        }
      ]
    },
    {
      "cell_type": "code",
      "source": [],
      "metadata": {
        "id": "I9eqBsaFjaVb"
      },
      "execution_count": null,
      "outputs": []
    }
  ]
}